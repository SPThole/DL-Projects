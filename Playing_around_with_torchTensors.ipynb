{
  "nbformat": 4,
  "nbformat_minor": 0,
  "metadata": {
    "colab": {
      "name": "Playing_around_with_torchTensors.ipynb",
      "provenance": [],
      "authorship_tag": "ABX9TyN5PrDoV0wwrwmi+w5z8Olx",
      "include_colab_link": true
    },
    "kernelspec": {
      "name": "python3",
      "display_name": "Python 3"
    }
  },
  "cells": [
    {
      "cell_type": "markdown",
      "metadata": {
        "id": "view-in-github",
        "colab_type": "text"
      },
      "source": [
        "<a href=\"https://colab.research.google.com/github/SPThole/pyTrch/blob/master/Playing_around_with_torchTensors.ipynb\" target=\"_parent\"><img src=\"https://colab.research.google.com/assets/colab-badge.svg\" alt=\"Open In Colab\"/></a>"
      ]
    },
    {
      "cell_type": "code",
      "metadata": {
        "id": "HvlsTRUavxmZ",
        "colab_type": "code",
        "colab": {
          "base_uri": "https://localhost:8080/",
          "height": 72
        },
        "outputId": "d2526880-f826-4c51-efac-fb31d7b64d4e"
      },
      "source": [
        "#installing pytorch\n",
        "!pip install torch"
      ],
      "execution_count": 1,
      "outputs": [
        {
          "output_type": "stream",
          "text": [
            "Requirement already satisfied: torch in /usr/local/lib/python3.6/dist-packages (1.6.0+cu101)\n",
            "Requirement already satisfied: numpy in /usr/local/lib/python3.6/dist-packages (from torch) (1.18.5)\n",
            "Requirement already satisfied: future in /usr/local/lib/python3.6/dist-packages (from torch) (0.16.0)\n"
          ],
          "name": "stdout"
        }
      ]
    },
    {
      "cell_type": "markdown",
      "metadata": {
        "id": "sYxLS-G0vzFg",
        "colab_type": "text"
      },
      "source": [
        "Learning Pytorch, first of all lets understand the tensors."
      ]
    },
    {
      "cell_type": "code",
      "metadata": {
        "id": "og_wOnodv2Gj",
        "colab_type": "code",
        "colab": {}
      },
      "source": [
        "#importing necessary libraries\n",
        "import pandas as pd\n",
        "import numpy as np\n",
        "import torch\n",
        "import matplotlib.pyplot as plt\n"
      ],
      "execution_count": 2,
      "outputs": []
    },
    {
      "cell_type": "code",
      "metadata": {
        "id": "S5hh6yLiwDzp",
        "colab_type": "code",
        "colab": {}
      },
      "source": [
        "#creating some tensors: https://stackoverflow.com/questions/51911749/what-is-the-difference-between-torch-tensor-and-torch-tensor\n",
        "x= torch.tensor([1,2,3])\n",
        "y= torch.tensor([2,4,6])"
      ],
      "execution_count": 4,
      "outputs": []
    },
    {
      "cell_type": "code",
      "metadata": {
        "id": "OmQkCjsswnN-",
        "colab_type": "code",
        "colab": {
          "base_uri": "https://localhost:8080/",
          "height": 35
        },
        "outputId": "30c4cb57-7828-430d-a262-5721efd22acd"
      },
      "source": [
        "#similar to numpy arrays we can even check the shapes of the tesnors using shape method\n",
        "x.shape, y.shape\n"
      ],
      "execution_count": 17,
      "outputs": [
        {
          "output_type": "execute_result",
          "data": {
            "text/plain": [
              "(torch.Size([2, 2]), torch.Size([2, 2]))"
            ]
          },
          "metadata": {
            "tags": []
          },
          "execution_count": 17
        }
      ]
    },
    {
      "cell_type": "code",
      "metadata": {
        "id": "K42DYkmLwoWJ",
        "colab_type": "code",
        "colab": {}
      },
      "source": [
        "#We can create tensors using directly passing values to it \n",
        "z= torch.Tensor([[[1,2,3],[2,3,4]],[[6,7,8],[8,9,10]]])"
      ],
      "execution_count": 6,
      "outputs": []
    },
    {
      "cell_type": "code",
      "metadata": {
        "id": "9eapWh3cw5Km",
        "colab_type": "code",
        "colab": {
          "base_uri": "https://localhost:8080/",
          "height": 35
        },
        "outputId": "4277a8cb-6383-407e-83c1-5433831d38c3"
      },
      "source": [
        "z.shape"
      ],
      "execution_count": 7,
      "outputs": [
        {
          "output_type": "execute_result",
          "data": {
            "text/plain": [
              "torch.Size([2, 2, 3])"
            ]
          },
          "metadata": {
            "tags": []
          },
          "execution_count": 7
        }
      ]
    },
    {
      "cell_type": "code",
      "metadata": {
        "id": "rgJegic1xLa7",
        "colab_type": "code",
        "colab": {
          "base_uri": "https://localhost:8080/",
          "height": 35
        },
        "outputId": "f6bb9848-67ae-47c2-8267-535b317a2bbb"
      },
      "source": [
        "#if we want just a number from the scalar we can get it by item()\n",
        "torch.Tensor([3]).item()"
      ],
      "execution_count": 8,
      "outputs": [
        {
          "output_type": "execute_result",
          "data": {
            "text/plain": [
              "3.0"
            ]
          },
          "metadata": {
            "tags": []
          },
          "execution_count": 8
        }
      ]
    },
    {
      "cell_type": "code",
      "metadata": {
        "id": "QD-Aw6cUx31w",
        "colab_type": "code",
        "colab": {
          "base_uri": "https://localhost:8080/",
          "height": 127
        },
        "outputId": "2683d922-cc0a-43ca-ae3d-094b3196e45b"
      },
      "source": [
        "#adding two tensors\n",
        "res= torch.empty([2,2])\n",
        "print(res)\n",
        "x= torch.rand([2,2])\n",
        "y= torch.rand([2,2])\n",
        "res=x+y\n",
        "print(res,x,y)"
      ],
      "execution_count": 9,
      "outputs": [
        {
          "output_type": "stream",
          "text": [
            "tensor([[3.8343e-35, 0.0000e+00],\n",
            "        [3.3631e-44, 0.0000e+00]])\n",
            "tensor([[1.0537, 0.8975],\n",
            "        [0.5860, 1.0101]]) tensor([[0.6637, 0.1115],\n",
            "        [0.2167, 0.2834]]) tensor([[0.3900, 0.7860],\n",
            "        [0.3693, 0.7267]])\n"
          ],
          "name": "stdout"
        }
      ]
    },
    {
      "cell_type": "code",
      "metadata": {
        "id": "uA_RSDxh0vMf",
        "colab_type": "code",
        "colab": {
          "base_uri": "https://localhost:8080/",
          "height": 182
        },
        "outputId": "4403bf27-c4ba-4b2d-d8cb-2521b28d007b"
      },
      "source": [
        "#just like np.ones and np.zeros\n",
        "o= torch.ones([2,2])\n",
        "print(o)\n",
        "z= torch.zeros([2,3,3])\n",
        "print(z)"
      ],
      "execution_count": 10,
      "outputs": [
        {
          "output_type": "stream",
          "text": [
            "tensor([[1., 1.],\n",
            "        [1., 1.]])\n",
            "tensor([[[0., 0., 0.],\n",
            "         [0., 0., 0.],\n",
            "         [0., 0., 0.]],\n",
            "\n",
            "        [[0., 0., 0.],\n",
            "         [0., 0., 0.],\n",
            "         [0., 0., 0.]]])\n"
          ],
          "name": "stdout"
        }
      ]
    },
    {
      "cell_type": "code",
      "metadata": {
        "id": "0B0BOq4g1DUc",
        "colab_type": "code",
        "colab": {
          "base_uri": "https://localhost:8080/",
          "height": 54
        },
        "outputId": "e00e6344-3edc-493d-d53e-ae4649338702"
      },
      "source": [
        "#istead of using expression we can directly add \n",
        "torch.add(x,y,out=res)"
      ],
      "execution_count": 11,
      "outputs": [
        {
          "output_type": "execute_result",
          "data": {
            "text/plain": [
              "tensor([[1.0537, 0.8975],\n",
              "        [0.5860, 1.0101]])"
            ]
          },
          "metadata": {
            "tags": []
          },
          "execution_count": 11
        }
      ]
    },
    {
      "cell_type": "code",
      "metadata": {
        "id": "B33rLrKR1KCh",
        "colab_type": "code",
        "colab": {
          "base_uri": "https://localhost:8080/",
          "height": 72
        },
        "outputId": "ab66f5aa-5045-434b-8cb4-9b53e6a26b02"
      },
      "source": [
        "#matmul\n",
        "torch.matmul(torch.ones([3,2]),torch.rand([2,2]))"
      ],
      "execution_count": 12,
      "outputs": [
        {
          "output_type": "execute_result",
          "data": {
            "text/plain": [
              "tensor([[1.3873, 1.1677],\n",
              "        [1.3873, 1.1677],\n",
              "        [1.3873, 1.1677]])"
            ]
          },
          "metadata": {
            "tags": []
          },
          "execution_count": 12
        }
      ]
    },
    {
      "cell_type": "code",
      "metadata": {
        "id": "GtFc_t6M1UWJ",
        "colab_type": "code",
        "colab": {
          "base_uri": "https://localhost:8080/",
          "height": 54
        },
        "outputId": "d222a7a2-1158-4f43-cb6f-ed546abb517a"
      },
      "source": [
        "#absolute |x|\n",
        "torch.absolute(-1*torch.ones([2,2]))"
      ],
      "execution_count": 13,
      "outputs": [
        {
          "output_type": "execute_result",
          "data": {
            "text/plain": [
              "tensor([[1., 1.],\n",
              "        [1., 1.]])"
            ]
          },
          "metadata": {
            "tags": []
          },
          "execution_count": 13
        }
      ]
    },
    {
      "cell_type": "code",
      "metadata": {
        "id": "EViTclH01rgJ",
        "colab_type": "code",
        "colab": {
          "base_uri": "https://localhost:8080/",
          "height": 54
        },
        "outputId": "a58b56ed-4d17-40d1-f490-1bf210f57e9b"
      },
      "source": [
        "#we is kind of similar to the reshape, we can even use reshape instead of view\n",
        "torch.rand([3,4]).view(-1,6)\n"
      ],
      "execution_count": 14,
      "outputs": [
        {
          "output_type": "execute_result",
          "data": {
            "text/plain": [
              "tensor([[0.0094, 0.9494, 0.0566, 0.8164, 0.2680, 0.0942],\n",
              "        [0.1113, 0.0768, 0.4619, 0.4130, 0.5787, 0.3251]])"
            ]
          },
          "metadata": {
            "tags": []
          },
          "execution_count": 14
        }
      ]
    },
    {
      "cell_type": "code",
      "metadata": {
        "id": "r1RixQ_e1_nV",
        "colab_type": "code",
        "colab": {
          "base_uri": "https://localhost:8080/",
          "height": 35
        },
        "outputId": "be69ffc5-f9ab-46a2-b7f7-81c7955bf324"
      },
      "source": [
        "#We can conver numpy array to tensor\n",
        "np_array= np.ones([2,2])\n",
        "torch_tensor= torch.from_numpy(np_array)\n",
        "type(torch_tensor)"
      ],
      "execution_count": 15,
      "outputs": [
        {
          "output_type": "execute_result",
          "data": {
            "text/plain": [
              "torch.Tensor"
            ]
          },
          "metadata": {
            "tags": []
          },
          "execution_count": 15
        }
      ]
    },
    {
      "cell_type": "code",
      "metadata": {
        "id": "UMqYM7PR2OeI",
        "colab_type": "code",
        "colab": {
          "base_uri": "https://localhost:8080/",
          "height": 35
        },
        "outputId": "5d4e8497-15d9-406c-b719-d461543a3d78"
      },
      "source": [
        "#and can also convert to ndarray\n",
        "back_to_array= torch_tensor.numpy()\n",
        "type(back_to_array)"
      ],
      "execution_count": 16,
      "outputs": [
        {
          "output_type": "execute_result",
          "data": {
            "text/plain": [
              "numpy.ndarray"
            ]
          },
          "metadata": {
            "tags": []
          },
          "execution_count": 16
        }
      ]
    },
    {
      "cell_type": "code",
      "metadata": {
        "id": "T2Y8zf1m2__3",
        "colab_type": "code",
        "colab": {}
      },
      "source": [
        ""
      ],
      "execution_count": null,
      "outputs": []
    }
  ]
}