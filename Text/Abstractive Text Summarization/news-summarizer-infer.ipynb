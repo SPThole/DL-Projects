{
 "cells": [
  {
   "cell_type": "markdown",
   "id": "03d45fb3",
   "metadata": {
    "papermill": {
     "duration": 0.018091,
     "end_time": "2022-05-07T02:32:16.491603",
     "exception": false,
     "start_time": "2022-05-07T02:32:16.473512",
     "status": "completed"
    },
    "tags": []
   },
   "source": [
    "# Importing Libraries"
   ]
  },
  {
   "cell_type": "code",
   "execution_count": 1,
   "id": "67f4978d",
   "metadata": {
    "execution": {
     "iopub.execute_input": "2022-05-07T02:32:16.526849Z",
     "iopub.status.busy": "2022-05-07T02:32:16.526295Z",
     "iopub.status.idle": "2022-05-07T02:32:42.255686Z",
     "shell.execute_reply": "2022-05-07T02:32:42.254607Z"
    },
    "papermill": {
     "duration": 25.749987,
     "end_time": "2022-05-07T02:32:42.258183",
     "exception": false,
     "start_time": "2022-05-07T02:32:16.508196",
     "status": "completed"
    },
    "tags": []
   },
   "outputs": [
    {
     "name": "stdout",
     "output_type": "stream",
     "text": [
      "Collecting swifter\r\n",
      "  Downloading swifter-1.1.3.tar.gz (647 kB)\r\n",
      "\u001b[2K     \u001b[90m━━━━━━━━━━━━━━━━━━━━━━━━━━━━━━━━━━━━━\u001b[0m \u001b[32m647.0/647.0 KB\u001b[0m \u001b[31m871.8 kB/s\u001b[0m eta \u001b[36m0:00:00\u001b[0m\r\n",
      "\u001b[?25h  Preparing metadata (setup.py) ... \u001b[?25l-\b \bdone\r\n",
      "\u001b[?25hRequirement already satisfied: pandas>=1.0.0 in /opt/conda/lib/python3.7/site-packages (from swifter) (1.3.5)\r\n",
      "Requirement already satisfied: psutil>=5.6.6 in /opt/conda/lib/python3.7/site-packages (from swifter) (5.9.0)\r\n",
      "Requirement already satisfied: dask[dataframe]>=2.10.0 in /opt/conda/lib/python3.7/site-packages (from swifter) (2022.2.0)\r\n",
      "Requirement already satisfied: tqdm>=4.33.0 in /opt/conda/lib/python3.7/site-packages (from swifter) (4.63.0)\r\n",
      "Requirement already satisfied: ipywidgets>=7.0.0 in /opt/conda/lib/python3.7/site-packages (from swifter) (7.6.5)\r\n",
      "Requirement already satisfied: cloudpickle>=0.2.2 in /opt/conda/lib/python3.7/site-packages (from swifter) (2.0.0)\r\n",
      "Requirement already satisfied: parso>0.4.0 in /opt/conda/lib/python3.7/site-packages (from swifter) (0.8.3)\r\n",
      "Requirement already satisfied: bleach>=3.1.1 in /opt/conda/lib/python3.7/site-packages (from swifter) (4.1.0)\r\n",
      "Requirement already satisfied: webencodings in /opt/conda/lib/python3.7/site-packages (from bleach>=3.1.1->swifter) (0.5.1)\r\n",
      "Requirement already satisfied: six>=1.9.0 in /opt/conda/lib/python3.7/site-packages (from bleach>=3.1.1->swifter) (1.16.0)\r\n",
      "Requirement already satisfied: packaging in /opt/conda/lib/python3.7/site-packages (from bleach>=3.1.1->swifter) (21.3)\r\n",
      "Requirement already satisfied: toolz>=0.8.2 in /opt/conda/lib/python3.7/site-packages (from dask[dataframe]>=2.10.0->swifter) (0.11.2)\r\n",
      "Requirement already satisfied: partd>=0.3.10 in /opt/conda/lib/python3.7/site-packages (from dask[dataframe]>=2.10.0->swifter) (1.2.0)\r\n",
      "Requirement already satisfied: pyyaml>=5.3.1 in /opt/conda/lib/python3.7/site-packages (from dask[dataframe]>=2.10.0->swifter) (6.0)\r\n",
      "Requirement already satisfied: fsspec>=0.6.0 in /opt/conda/lib/python3.7/site-packages (from dask[dataframe]>=2.10.0->swifter) (2022.3.0)\r\n",
      "Requirement already satisfied: numpy>=1.18 in /opt/conda/lib/python3.7/site-packages (from dask[dataframe]>=2.10.0->swifter) (1.21.5)\r\n",
      "Requirement already satisfied: ipython>=4.0.0 in /opt/conda/lib/python3.7/site-packages (from ipywidgets>=7.0.0->swifter) (7.32.0)\r\n",
      "Requirement already satisfied: jupyterlab-widgets>=1.0.0 in /opt/conda/lib/python3.7/site-packages (from ipywidgets>=7.0.0->swifter) (1.0.2)\r\n",
      "Requirement already satisfied: traitlets>=4.3.1 in /opt/conda/lib/python3.7/site-packages (from ipywidgets>=7.0.0->swifter) (5.1.1)\r\n",
      "Requirement already satisfied: widgetsnbextension~=3.5.0 in /opt/conda/lib/python3.7/site-packages (from ipywidgets>=7.0.0->swifter) (3.5.2)\r\n",
      "Requirement already satisfied: ipykernel>=4.5.1 in /opt/conda/lib/python3.7/site-packages (from ipywidgets>=7.0.0->swifter) (6.9.2)\r\n",
      "Requirement already satisfied: ipython-genutils~=0.2.0 in /opt/conda/lib/python3.7/site-packages (from ipywidgets>=7.0.0->swifter) (0.2.0)\r\n",
      "Requirement already satisfied: nbformat>=4.2.0 in /opt/conda/lib/python3.7/site-packages (from ipywidgets>=7.0.0->swifter) (5.2.0)\r\n",
      "Requirement already satisfied: python-dateutil>=2.7.3 in /opt/conda/lib/python3.7/site-packages (from pandas>=1.0.0->swifter) (2.8.2)\r\n",
      "Requirement already satisfied: pytz>=2017.3 in /opt/conda/lib/python3.7/site-packages (from pandas>=1.0.0->swifter) (2021.3)\r\n",
      "Requirement already satisfied: matplotlib-inline<0.2.0,>=0.1.0 in /opt/conda/lib/python3.7/site-packages (from ipykernel>=4.5.1->ipywidgets>=7.0.0->swifter) (0.1.3)\r\n",
      "Requirement already satisfied: tornado<7.0,>=4.2 in /opt/conda/lib/python3.7/site-packages (from ipykernel>=4.5.1->ipywidgets>=7.0.0->swifter) (6.1)\r\n",
      "Requirement already satisfied: jupyter-client<8.0 in /opt/conda/lib/python3.7/site-packages (from ipykernel>=4.5.1->ipywidgets>=7.0.0->swifter) (7.1.2)\r\n",
      "Requirement already satisfied: nest-asyncio in /opt/conda/lib/python3.7/site-packages (from ipykernel>=4.5.1->ipywidgets>=7.0.0->swifter) (1.5.4)\r\n",
      "Requirement already satisfied: debugpy<2.0,>=1.0.0 in /opt/conda/lib/python3.7/site-packages (from ipykernel>=4.5.1->ipywidgets>=7.0.0->swifter) (1.5.1)\r\n",
      "Requirement already satisfied: setuptools>=18.5 in /opt/conda/lib/python3.7/site-packages (from ipython>=4.0.0->ipywidgets>=7.0.0->swifter) (59.8.0)\r\n",
      "Requirement already satisfied: jedi>=0.16 in /opt/conda/lib/python3.7/site-packages (from ipython>=4.0.0->ipywidgets>=7.0.0->swifter) (0.18.1)\r\n",
      "Requirement already satisfied: pickleshare in /opt/conda/lib/python3.7/site-packages (from ipython>=4.0.0->ipywidgets>=7.0.0->swifter) (0.7.5)\r\n",
      "Requirement already satisfied: pexpect>4.3 in /opt/conda/lib/python3.7/site-packages (from ipython>=4.0.0->ipywidgets>=7.0.0->swifter) (4.8.0)\r\n",
      "Requirement already satisfied: pygments in /opt/conda/lib/python3.7/site-packages (from ipython>=4.0.0->ipywidgets>=7.0.0->swifter) (2.11.2)\r\n",
      "Requirement already satisfied: backcall in /opt/conda/lib/python3.7/site-packages (from ipython>=4.0.0->ipywidgets>=7.0.0->swifter) (0.2.0)\r\n",
      "Requirement already satisfied: prompt-toolkit!=3.0.0,!=3.0.1,<3.1.0,>=2.0.0 in /opt/conda/lib/python3.7/site-packages (from ipython>=4.0.0->ipywidgets>=7.0.0->swifter) (3.0.27)\r\n",
      "Requirement already satisfied: decorator in /opt/conda/lib/python3.7/site-packages (from ipython>=4.0.0->ipywidgets>=7.0.0->swifter) (5.1.1)\r\n",
      "Requirement already satisfied: jupyter-core in /opt/conda/lib/python3.7/site-packages (from nbformat>=4.2.0->ipywidgets>=7.0.0->swifter) (4.9.2)\r\n",
      "Requirement already satisfied: jsonschema!=2.5.0,>=2.4 in /opt/conda/lib/python3.7/site-packages (from nbformat>=4.2.0->ipywidgets>=7.0.0->swifter) (4.4.0)\r\n",
      "Requirement already satisfied: pyparsing!=3.0.5,>=2.0.2 in /opt/conda/lib/python3.7/site-packages (from packaging->bleach>=3.1.1->swifter) (3.0.7)\r\n",
      "Requirement already satisfied: locket in /opt/conda/lib/python3.7/site-packages (from partd>=0.3.10->dask[dataframe]>=2.10.0->swifter) (0.2.1)\r\n",
      "Requirement already satisfied: notebook>=4.4.1 in /opt/conda/lib/python3.7/site-packages (from widgetsnbextension~=3.5.0->ipywidgets>=7.0.0->swifter) (6.4.10)\r\n",
      "Requirement already satisfied: pyrsistent!=0.17.0,!=0.17.1,!=0.17.2,>=0.14.0 in /opt/conda/lib/python3.7/site-packages (from jsonschema!=2.5.0,>=2.4->nbformat>=4.2.0->ipywidgets>=7.0.0->swifter) (0.18.1)\r\n",
      "Requirement already satisfied: attrs>=17.4.0 in /opt/conda/lib/python3.7/site-packages (from jsonschema!=2.5.0,>=2.4->nbformat>=4.2.0->ipywidgets>=7.0.0->swifter) (21.4.0)\r\n",
      "Requirement already satisfied: importlib-metadata in /opt/conda/lib/python3.7/site-packages (from jsonschema!=2.5.0,>=2.4->nbformat>=4.2.0->ipywidgets>=7.0.0->swifter) (4.11.3)\r\n",
      "Requirement already satisfied: typing-extensions in /opt/conda/lib/python3.7/site-packages (from jsonschema!=2.5.0,>=2.4->nbformat>=4.2.0->ipywidgets>=7.0.0->swifter) (4.1.1)\r\n",
      "Requirement already satisfied: importlib-resources>=1.4.0 in /opt/conda/lib/python3.7/site-packages (from jsonschema!=2.5.0,>=2.4->nbformat>=4.2.0->ipywidgets>=7.0.0->swifter) (5.4.0)\r\n",
      "Requirement already satisfied: entrypoints in /opt/conda/lib/python3.7/site-packages (from jupyter-client<8.0->ipykernel>=4.5.1->ipywidgets>=7.0.0->swifter) (0.4)\r\n",
      "Requirement already satisfied: pyzmq>=13 in /opt/conda/lib/python3.7/site-packages (from jupyter-client<8.0->ipykernel>=4.5.1->ipywidgets>=7.0.0->swifter) (22.3.0)\r\n",
      "Requirement already satisfied: nbconvert>=5 in /opt/conda/lib/python3.7/site-packages (from notebook>=4.4.1->widgetsnbextension~=3.5.0->ipywidgets>=7.0.0->swifter) (6.5.0)\r\n",
      "Requirement already satisfied: jinja2 in /opt/conda/lib/python3.7/site-packages (from notebook>=4.4.1->widgetsnbextension~=3.5.0->ipywidgets>=7.0.0->swifter) (3.1.1)\r\n",
      "Requirement already satisfied: argon2-cffi in /opt/conda/lib/python3.7/site-packages (from notebook>=4.4.1->widgetsnbextension~=3.5.0->ipywidgets>=7.0.0->swifter) (21.3.0)\r\n",
      "Requirement already satisfied: prometheus-client in /opt/conda/lib/python3.7/site-packages (from notebook>=4.4.1->widgetsnbextension~=3.5.0->ipywidgets>=7.0.0->swifter) (0.13.1)\r\n",
      "Requirement already satisfied: Send2Trash>=1.8.0 in /opt/conda/lib/python3.7/site-packages (from notebook>=4.4.1->widgetsnbextension~=3.5.0->ipywidgets>=7.0.0->swifter) (1.8.0)\r\n",
      "Requirement already satisfied: terminado>=0.8.3 in /opt/conda/lib/python3.7/site-packages (from notebook>=4.4.1->widgetsnbextension~=3.5.0->ipywidgets>=7.0.0->swifter) (0.13.3)\r\n",
      "Requirement already satisfied: ptyprocess>=0.5 in /opt/conda/lib/python3.7/site-packages (from pexpect>4.3->ipython>=4.0.0->ipywidgets>=7.0.0->swifter) (0.7.0)\r\n",
      "Requirement already satisfied: wcwidth in /opt/conda/lib/python3.7/site-packages (from prompt-toolkit!=3.0.0,!=3.0.1,<3.1.0,>=2.0.0->ipython>=4.0.0->ipywidgets>=7.0.0->swifter) (0.2.5)\r\n",
      "Requirement already satisfied: zipp>=3.1.0 in /opt/conda/lib/python3.7/site-packages (from importlib-resources>=1.4.0->jsonschema!=2.5.0,>=2.4->nbformat>=4.2.0->ipywidgets>=7.0.0->swifter) (3.7.0)\r\n",
      "Requirement already satisfied: mistune<2,>=0.8.1 in /opt/conda/lib/python3.7/site-packages (from nbconvert>=5->notebook>=4.4.1->widgetsnbextension~=3.5.0->ipywidgets>=7.0.0->swifter) (0.8.4)\r\n",
      "Requirement already satisfied: nbclient>=0.5.0 in /opt/conda/lib/python3.7/site-packages (from nbconvert>=5->notebook>=4.4.1->widgetsnbextension~=3.5.0->ipywidgets>=7.0.0->swifter) (0.5.13)\r\n",
      "Requirement already satisfied: jupyterlab-pygments in /opt/conda/lib/python3.7/site-packages (from nbconvert>=5->notebook>=4.4.1->widgetsnbextension~=3.5.0->ipywidgets>=7.0.0->swifter) (0.1.2)\r\n",
      "Requirement already satisfied: MarkupSafe>=2.0 in /opt/conda/lib/python3.7/site-packages (from nbconvert>=5->notebook>=4.4.1->widgetsnbextension~=3.5.0->ipywidgets>=7.0.0->swifter) (2.0.1)\r\n",
      "Requirement already satisfied: pandocfilters>=1.4.1 in /opt/conda/lib/python3.7/site-packages (from nbconvert>=5->notebook>=4.4.1->widgetsnbextension~=3.5.0->ipywidgets>=7.0.0->swifter) (1.5.0)\r\n",
      "Requirement already satisfied: beautifulsoup4 in /opt/conda/lib/python3.7/site-packages (from nbconvert>=5->notebook>=4.4.1->widgetsnbextension~=3.5.0->ipywidgets>=7.0.0->swifter) (4.10.0)\r\n",
      "Requirement already satisfied: tinycss2 in /opt/conda/lib/python3.7/site-packages (from nbconvert>=5->notebook>=4.4.1->widgetsnbextension~=3.5.0->ipywidgets>=7.0.0->swifter) (1.1.1)\r\n",
      "Requirement already satisfied: defusedxml in /opt/conda/lib/python3.7/site-packages (from nbconvert>=5->notebook>=4.4.1->widgetsnbextension~=3.5.0->ipywidgets>=7.0.0->swifter) (0.7.1)\r\n",
      "Requirement already satisfied: argon2-cffi-bindings in /opt/conda/lib/python3.7/site-packages (from argon2-cffi->notebook>=4.4.1->widgetsnbextension~=3.5.0->ipywidgets>=7.0.0->swifter) (21.2.0)\r\n",
      "Requirement already satisfied: cffi>=1.0.1 in /opt/conda/lib/python3.7/site-packages (from argon2-cffi-bindings->argon2-cffi->notebook>=4.4.1->widgetsnbextension~=3.5.0->ipywidgets>=7.0.0->swifter) (1.15.0)\r\n",
      "Requirement already satisfied: soupsieve>1.2 in /opt/conda/lib/python3.7/site-packages (from beautifulsoup4->nbconvert>=5->notebook>=4.4.1->widgetsnbextension~=3.5.0->ipywidgets>=7.0.0->swifter) (2.3.1)\r\n",
      "Requirement already satisfied: pycparser in /opt/conda/lib/python3.7/site-packages (from cffi>=1.0.1->argon2-cffi-bindings->argon2-cffi->notebook>=4.4.1->widgetsnbextension~=3.5.0->ipywidgets>=7.0.0->swifter) (2.21)\r\n",
      "Building wheels for collected packages: swifter\r\n",
      "  Building wheel for swifter (setup.py) ... \u001b[?25l-\b \b\\\b \bdone\r\n",
      "\u001b[?25h  Created wheel for swifter: filename=swifter-1.1.3-py3-none-any.whl size=13078 sha256=71f61dccec8b669a58cca214058b8913aa8cd6106baedd414d5b8a71f20127b2\r\n",
      "  Stored in directory: /root/.cache/pip/wheels/e8/1a/1b/46aa7b0fac16d3ce1bccaac14bfe4fad972642217ae78d8160\r\n",
      "Successfully built swifter\r\n",
      "Installing collected packages: swifter\r\n",
      "Successfully installed swifter-1.1.3\r\n",
      "\u001b[33mWARNING: Running pip as the 'root' user can result in broken permissions and conflicting behaviour with the system package manager. It is recommended to use a virtual environment instead: https://pip.pypa.io/warnings/venv\u001b[0m\u001b[33m\r\n",
      "\u001b[0mCollecting modin\r\n",
      "  Downloading modin-0.12.1-py3-none-any.whl (761 kB)\r\n",
      "\u001b[2K     \u001b[90m━━━━━━━━━━━━━━━━━━━━━━━━━━━━━━━━━━━━━\u001b[0m \u001b[32m761.5/761.5 KB\u001b[0m \u001b[31m988.8 kB/s\u001b[0m eta \u001b[36m0:00:00\u001b[0m\r\n",
      "\u001b[?25hRequirement already satisfied: fsspec in /opt/conda/lib/python3.7/site-packages (from modin) (2022.3.0)\r\n",
      "Requirement already satisfied: packaging in /opt/conda/lib/python3.7/site-packages (from modin) (21.3)\r\n",
      "Requirement already satisfied: pandas==1.3.5 in /opt/conda/lib/python3.7/site-packages (from modin) (1.3.5)\r\n",
      "Requirement already satisfied: numpy>=1.16.5 in /opt/conda/lib/python3.7/site-packages (from modin) (1.21.5)\r\n",
      "Requirement already satisfied: python-dateutil>=2.7.3 in /opt/conda/lib/python3.7/site-packages (from pandas==1.3.5->modin) (2.8.2)\r\n",
      "Requirement already satisfied: pytz>=2017.3 in /opt/conda/lib/python3.7/site-packages (from pandas==1.3.5->modin) (2021.3)\r\n",
      "Requirement already satisfied: pyparsing!=3.0.5,>=2.0.2 in /opt/conda/lib/python3.7/site-packages (from packaging->modin) (3.0.7)\r\n",
      "Requirement already satisfied: six>=1.5 in /opt/conda/lib/python3.7/site-packages (from python-dateutil>=2.7.3->pandas==1.3.5->modin) (1.16.0)\r\n",
      "Installing collected packages: modin\r\n",
      "Successfully installed modin-0.12.1\r\n",
      "\u001b[33mWARNING: Running pip as the 'root' user can result in broken permissions and conflicting behaviour with the system package manager. It is recommended to use a virtual environment instead: https://pip.pypa.io/warnings/venv\u001b[0m\u001b[33m\r\n",
      "\u001b[0m"
     ]
    }
   ],
   "source": [
    "!pip install swifter\n",
    "!pip install modin"
   ]
  },
  {
   "cell_type": "code",
   "execution_count": 2,
   "id": "3b95d9af",
   "metadata": {
    "_cell_guid": "b1076dfc-b9ad-4769-8c92-a6c4dae69d19",
    "_uuid": "8f2839f25d086af736a60e9eeb907d3b93b6e0e5",
    "execution": {
     "iopub.execute_input": "2022-05-07T02:32:42.327766Z",
     "iopub.status.busy": "2022-05-07T02:32:42.327485Z",
     "iopub.status.idle": "2022-05-07T02:32:56.109160Z",
     "shell.execute_reply": "2022-05-07T02:32:56.108210Z"
    },
    "papermill": {
     "duration": 13.81907,
     "end_time": "2022-05-07T02:32:56.111907",
     "exception": false,
     "start_time": "2022-05-07T02:32:42.292837",
     "status": "completed"
    },
    "tags": []
   },
   "outputs": [],
   "source": [
    "import pandas as pd\n",
    "import numpy as np\n",
    "import seaborn as sns\n",
    "import matplotlib.pyplot as plt\n",
    "import modin.pandas as md\n",
    "import swifter\n",
    "import re\n",
    "from torch.utils.data import DataLoader, Dataset\n",
    "import torch.nn as nn\n",
    "import torch.optim as optim\n",
    "import torch.functional as f\n",
    "import torchtext.vocab as Vocab\n",
    "from collections import Counter, OrderedDict\n",
    "from torch.nn.utils.rnn import pad_sequence,pack_padded_sequence,pad_packed_sequence\n",
    "import pytorch_lightning as pl\n",
    "from tqdm import tqdm_notebook\n",
    "import spacy\n",
    "import torch\n",
    "import os\n",
    "from pytorch_lightning import callbacks\n",
    "from pytorch_lightning.callbacks.progress import ProgressBarBase\n",
    "from pytorch_lightning.callbacks.early_stopping import EarlyStopping\n",
    "from pytorch_lightning.loggers import TensorBoardLogger\n",
    "import random\n",
    "# RANDOM_SEED = 2023\n",
    "# def seed_everything(seed=RANDOM_SEED):\n",
    "#     os.environ['PYTHONHASHSEED'] = str(seed)\n",
    "#     np.random.seed(seed)\n",
    "#     random.seed(seed)\n",
    "#     torch.manual_seed(seed)\n",
    "#     torch.cuda.manual_seed(seed)\n",
    "#     torch.backends.cudnn.deterministic = True\n",
    "#     torch.backends.cudnn.benchmark = True    \n",
    "# seed_everything()\n",
    "%matplotlib inline"
   ]
  },
  {
   "cell_type": "markdown",
   "id": "a836e934",
   "metadata": {
    "papermill": {
     "duration": 0.034744,
     "end_time": "2022-05-07T02:32:56.181052",
     "exception": false,
     "start_time": "2022-05-07T02:32:56.146308",
     "status": "completed"
    },
    "tags": []
   },
   "source": [
    "# Dataset"
   ]
  },
  {
   "cell_type": "code",
   "execution_count": 3,
   "id": "93ac303e",
   "metadata": {
    "execution": {
     "iopub.execute_input": "2022-05-07T02:32:56.251892Z",
     "iopub.status.busy": "2022-05-07T02:32:56.251328Z",
     "iopub.status.idle": "2022-05-07T02:32:56.257832Z",
     "shell.execute_reply": "2022-05-07T02:32:56.257164Z"
    },
    "papermill": {
     "duration": 0.043756,
     "end_time": "2022-05-07T02:32:56.259891",
     "exception": false,
     "start_time": "2022-05-07T02:32:56.216135",
     "status": "completed"
    },
    "tags": []
   },
   "outputs": [],
   "source": [
    "def text_cleaner(text):\n",
    "    \"\"\"\n",
    "    cleans the tex\n",
    "    \"\"\"\n",
    "    text = text.lower()\n",
    "    #Replacing with urls\n",
    "    text = re.sub(r\"\\S*https?:\\S*\", \"url\", text)\n",
    "    #Replacing html text\n",
    "    text = re.sub(r\"<.*?>\", \"html\", text)\n",
    "    #Replacing Special chars\n",
    "    text = re.sub(r\"[^a-zA-Z0-9]+\",\" \",text)\n",
    "    #Replacing numeric\n",
    "    text = \" \".join([\"\" if t.isnumeric() else t for t in text.split(\" \")])\n",
    "    return text\n",
    "\n",
    "def token_maker(text,m):\n",
    "    #Creating tokens\n",
    "    doc = m(text)\n",
    "    return [token.text for token in doc if token.text not in [\" \"]]"
   ]
  },
  {
   "cell_type": "code",
   "execution_count": 4,
   "id": "bd5956bf",
   "metadata": {
    "execution": {
     "iopub.execute_input": "2022-05-07T02:32:56.331313Z",
     "iopub.status.busy": "2022-05-07T02:32:56.330726Z",
     "iopub.status.idle": "2022-05-07T02:32:57.005467Z",
     "shell.execute_reply": "2022-05-07T02:32:57.004550Z"
    },
    "papermill": {
     "duration": 0.714232,
     "end_time": "2022-05-07T02:32:57.007748",
     "exception": false,
     "start_time": "2022-05-07T02:32:56.293516",
     "status": "completed"
    },
    "tags": []
   },
   "outputs": [],
   "source": [
    "m = spacy.load('en_core_web_sm', disable=['ner', 'parser']) "
   ]
  },
  {
   "cell_type": "code",
   "execution_count": 5,
   "id": "184aecfb",
   "metadata": {
    "execution": {
     "iopub.execute_input": "2022-05-07T02:32:57.076435Z",
     "iopub.status.busy": "2022-05-07T02:32:57.076127Z",
     "iopub.status.idle": "2022-05-07T02:32:57.111733Z",
     "shell.execute_reply": "2022-05-07T02:32:57.110678Z"
    },
    "papermill": {
     "duration": 0.072522,
     "end_time": "2022-05-07T02:32:57.113912",
     "exception": false,
     "start_time": "2022-05-07T02:32:57.041390",
     "status": "completed"
    },
    "tags": []
   },
   "outputs": [],
   "source": [
    "import json\n",
    "f = open('../input/text-summary-news-lstm-emb256-model-2/body_vocab.json')\n",
    "vocabulary1= json.load(f)\n",
    "f = open('../input/text-summary-news-lstm-emb256-model-2/title_vocab.json')\n",
    "vocabulary2 = json.load(f)"
   ]
  },
  {
   "cell_type": "markdown",
   "id": "e6fdbbb5",
   "metadata": {
    "papermill": {
     "duration": 0.033044,
     "end_time": "2022-05-07T02:32:57.180792",
     "exception": false,
     "start_time": "2022-05-07T02:32:57.147748",
     "status": "completed"
    },
    "tags": []
   },
   "source": [
    "# Dataset Class"
   ]
  },
  {
   "cell_type": "code",
   "execution_count": 6,
   "id": "648d801d",
   "metadata": {
    "execution": {
     "iopub.execute_input": "2022-05-07T02:32:57.248930Z",
     "iopub.status.busy": "2022-05-07T02:32:57.248652Z",
     "iopub.status.idle": "2022-05-07T02:32:57.257452Z",
     "shell.execute_reply": "2022-05-07T02:32:57.256596Z"
    },
    "papermill": {
     "duration": 0.045342,
     "end_time": "2022-05-07T02:32:57.259433",
     "exception": false,
     "start_time": "2022-05-07T02:32:57.214091",
     "status": "completed"
    },
    "tags": []
   },
   "outputs": [],
   "source": [
    "class github_class(Dataset):\n",
    "    \n",
    "    def __init__(self,dataset):\n",
    "        self.dataset = dataset\n",
    "        \n",
    "    def __getitem__(self,idx):\n",
    "        X = self.dataset.loc[idx]\n",
    "        #X\n",
    "        x = torch.tensor(X['body'])\n",
    "        \n",
    "        #y\n",
    "        y = X['issue_title']\n",
    "        y_inp = torch.tensor(y[:-1])\n",
    "        y_op = torch.tensor(y[1:])\n",
    "        \n",
    "        return x,y_inp,y_op\n",
    "\n",
    "    def __len__(self):\n",
    "        return len(self.dataset)\n",
    "    \n",
    "def collate_fnc(batch):\n",
    "    \n",
    "    X,y_inp,y_op = zip(*batch)\n",
    "    \n",
    "    X_lens = [len(x) for x in X]\n",
    "    y_inp_lens = [len(y) for y in y_inp]\n",
    "    y_op_lens = [len(y) for y in y_op]\n",
    "    \n",
    "    X = pad_sequence(X,batch_first=True, padding_value=3)\n",
    "    y_inp = pad_sequence(y_inp,batch_first=True, padding_value=3)\n",
    "    y_op = pad_sequence(y_op,batch_first=True, padding_value=3)\n",
    "    \n",
    "    return X, y_inp, y_op, X_lens, y_inp_lens, y_op_lens\n",
    "    \n",
    "    \n",
    "    "
   ]
  },
  {
   "cell_type": "code",
   "execution_count": 7,
   "id": "cd0d2883",
   "metadata": {
    "execution": {
     "iopub.execute_input": "2022-05-07T02:32:57.331614Z",
     "iopub.status.busy": "2022-05-07T02:32:57.331032Z",
     "iopub.status.idle": "2022-05-07T02:32:57.342908Z",
     "shell.execute_reply": "2022-05-07T02:32:57.342301Z"
    },
    "papermill": {
     "duration": 0.050339,
     "end_time": "2022-05-07T02:32:57.345004",
     "exception": false,
     "start_time": "2022-05-07T02:32:57.294665",
     "status": "completed"
    },
    "tags": []
   },
   "outputs": [],
   "source": [
    "class Encoder(nn.Module):\n",
    "    \n",
    "    def __init__(self,\n",
    "                 vocabulary_size,\n",
    "                 embedding_size,\n",
    "                 enc_hidden_size,\n",
    "                 enc_out_size,\n",
    "                 lstm_layers,\n",
    "                 dropout):\n",
    "    \n",
    "        super(Encoder,self).__init__()\n",
    "        self.vocabulary_size = vocabulary_size\n",
    "        self.embedding_size = embedding_size\n",
    "        self.lstm_layers = lstm_layers\n",
    "        self.enc_hidden_size = enc_hidden_size\n",
    "        self.enc_out_size = enc_out_size\n",
    "        self.dropout = dropout\n",
    "        \n",
    "        \n",
    "        self.emb = nn.Embedding(self.vocabulary_size,self.embedding_size,padding_idx =3)\n",
    "\n",
    "        self.rnn = nn.LSTM(\n",
    "                          input_size= self.embedding_size,\n",
    "                          hidden_size=self.enc_hidden_size,\n",
    "                          num_layers = self.lstm_layers,\n",
    "                          batch_first = True,\n",
    "                          dropout = self.dropout,\n",
    "                          bidirectional = True\n",
    "                          )\n",
    "        self.normer = nn.LayerNorm(self.embedding_size)\n",
    "        self.lin = nn.Linear(2*self.enc_hidden_size,self.enc_out_size)\n",
    "        self.droper = nn.Dropout(p=0.5)\n",
    "        self.droper1 = nn.Dropout(p=0.3)\n",
    "        self.relu = nn.ReLU()\n",
    "        self.normalizer = nn.LayerNorm(self.enc_out_size)\n",
    "        \n",
    "    def forward(self,x_pad,h=None,c=None):\n",
    "        \n",
    "        # Gegtting the input for the encoder and length that can be\n",
    "        # used for pack and unpack the sequence \n",
    "        # x -> (B, L)\n",
    "        x , x_lens = x_pad\n",
    "        \n",
    "        #batch size for initializing the hidden layer\n",
    "        btc = x.size(0)\n",
    "        \n",
    "        # Embedding for the input\n",
    "        # x -> (B,L) to (B,L,EMB)\n",
    "        x = self.droper(self.emb(x.long()))\n",
    "        \n",
    "        # packing before entering in the encoder lstm\n",
    "        x = pack_padded_sequence(x, x_lens, batch_first=True, enforce_sorted=False)\n",
    "        \n",
    "        # If not provided initially then initialize randomly\n",
    "        if h==None:\n",
    "            h = torch.rand((self.lstm_layers*2,btc,self.enc_hidden_size)).to('cuda')\n",
    "            c = torch.rand((self.lstm_layers*2,btc,self.enc_hidden_size)).to('cuda')\n",
    "        \n",
    "        # passed through then encoder\n",
    "        output, (h1,c1) = self.rnn(x,(h,c))\n",
    "        \n",
    "        # Unpack the output\n",
    "        output, output_lengths = pad_packed_sequence(output, batch_first=True)\n",
    "        \n",
    "        # passing through linear layer\n",
    "        # \n",
    "        output = self.lin(self.droper1(output))\n",
    "        \n",
    "        output = self.normalizer(output)\n",
    "            \n",
    "        # Giving out the output of the encoder and hidden states of encoder\n",
    "        return output, h1, c1"
   ]
  },
  {
   "cell_type": "code",
   "execution_count": 8,
   "id": "c7087c4a",
   "metadata": {
    "execution": {
     "iopub.execute_input": "2022-05-07T02:32:57.416157Z",
     "iopub.status.busy": "2022-05-07T02:32:57.415601Z",
     "iopub.status.idle": "2022-05-07T02:32:57.424884Z",
     "shell.execute_reply": "2022-05-07T02:32:57.424280Z"
    },
    "papermill": {
     "duration": 0.047484,
     "end_time": "2022-05-07T02:32:57.426910",
     "exception": false,
     "start_time": "2022-05-07T02:32:57.379426",
     "status": "completed"
    },
    "tags": []
   },
   "outputs": [],
   "source": [
    "class Attention(nn.Module):\n",
    "    \n",
    "    def __init__(self,\n",
    "                 encoder_output_size,\n",
    "                 decoder_hidden_state_size,\n",
    "                 att_midsize,\n",
    "                ):\n",
    "        \n",
    "        super(Attention,self).__init__()\n",
    "        \n",
    "        self.encoder_output_size = encoder_output_size\n",
    "        self.decoder_hidden_state_size = 2*decoder_hidden_state_size\n",
    "        self.att_midsize = att_midsize\n",
    "        \n",
    "        self.enc_mid_sizer = nn.Linear(encoder_output_size,self.att_midsize)\n",
    "        self.dec_mid_sizer = nn.Linear(2*decoder_hidden_state_size,self.att_midsize)\n",
    "        \n",
    "        self.scorer = nn.Linear(self.att_midsize,1)\n",
    "        \n",
    "        self.tanh_act = nn.Tanh()\n",
    "        \n",
    "        self.softmaxer = nn.Softmax(dim=1)\n",
    "        self.normalizer = nn.LayerNorm(self.att_midsize)\n",
    "        \n",
    "    \n",
    "    def forward(self,encoder_out, decoder_state):\n",
    "                \n",
    "        encoder_mid = self.enc_mid_sizer(encoder_out)\n",
    "#         print('encoder_mid',encoder_mid.shape,'decoder_state',decoder_state.shape)\n",
    "        if decoder_state.shape[1]==2:\n",
    "            \n",
    "            b = torch.cat((decoder_state[:,0,:].unsqueeze(1),decoder_state[:,1,:].unsqueeze(1)),dim=-1)\n",
    "            decoder_mid = self.dec_mid_sizer(b)\n",
    "#             print(b.shape)\n",
    "            \n",
    "        else:\n",
    "            decoder_mid = self.dec_mid_sizer(decoder_state)\n",
    "            \n",
    "#         print(encoder_mid.shape,decoder_mid.shape)\n",
    "        \n",
    "        add_mid = encoder_mid + decoder_mid\n",
    "        \n",
    "#         add_mid = self.normalizer(add_mid)\n",
    "        \n",
    "        add_mid = self.tanh_act(add_mid)\n",
    "    \n",
    "        scores = self.scorer(add_mid)\n",
    "       \n",
    "        scores = self.softmaxer(scores)\n",
    "        \n",
    "        return scores.squeeze(-1)"
   ]
  },
  {
   "cell_type": "code",
   "execution_count": 9,
   "id": "e45a4884",
   "metadata": {
    "execution": {
     "iopub.execute_input": "2022-05-07T02:32:57.495412Z",
     "iopub.status.busy": "2022-05-07T02:32:57.495110Z",
     "iopub.status.idle": "2022-05-07T02:32:57.508737Z",
     "shell.execute_reply": "2022-05-07T02:32:57.507803Z"
    },
    "papermill": {
     "duration": 0.050621,
     "end_time": "2022-05-07T02:32:57.510720",
     "exception": false,
     "start_time": "2022-05-07T02:32:57.460099",
     "status": "completed"
    },
    "tags": []
   },
   "outputs": [],
   "source": [
    "class Decoder(nn.Module):\n",
    "    \n",
    "    def __init__(self,\n",
    "                encoder_output_size,\n",
    "                decoder_hidden_state_size,\n",
    "                att_mid_size,\n",
    "                input_size_decoder,\n",
    "                embedding_size_decoder,\n",
    "                vocabulary_size,\n",
    "                decoder_lstm_layers,\n",
    "                decoder_dropout\n",
    "                ):\n",
    "        \n",
    "        super(Decoder,self).__init__()\n",
    "        \n",
    "        self.encoder_output_size = encoder_output_size\n",
    "        self.decoder_hidden_state_size = decoder_hidden_state_size\n",
    "        self.att_mid_size = att_mid_size\n",
    "        \n",
    "        self.input_size_decoder = input_size_decoder\n",
    "        self.embedding_size_decoder = embedding_size_decoder\n",
    "        self.vocabulary_size = vocabulary_size\n",
    "        \n",
    "        self.decoder_lstm_layers = decoder_lstm_layers\n",
    "        self.decoder_dropout = decoder_dropout\n",
    "        \n",
    "        self.attention = Attention(\n",
    "                                    encoder_output_size,\n",
    "                                    decoder_hidden_state_size,\n",
    "                                    att_mid_size\n",
    "        )\n",
    "        self.decoder_embedding = nn.Embedding(self.vocabulary_size,self.input_size_decoder,padding_idx=3)\n",
    "        self.context_size = self.encoder_output_size + self.input_size_decoder\n",
    "        \n",
    "        self.decoder_rnn = nn.LSTM(\n",
    "                          input_size= self.context_size,\n",
    "                          hidden_size= 2*self.decoder_hidden_state_size,\n",
    "                          num_layers = self.decoder_lstm_layers,\n",
    "                          batch_first = True,\n",
    "                          dropout = self.decoder_dropout\n",
    "                          )\n",
    "        self.normer = nn.LayerNorm(self.context_size)\n",
    "        self.lin = nn.Linear(2*self.decoder_hidden_state_size,self.vocabulary_size)\n",
    "        self.droper = nn.Dropout(p=0.5)\n",
    "        self.droper1 = nn.Dropout(p=0.3)\n",
    "        \n",
    "    def forward(self, encoder_ouput, decoder_prev_state, decoder_input):\n",
    "        \n",
    "#         decoder_input_pack = decoder_input, decoder_input_lens\n",
    "        \n",
    "#         decoder_input = pack_padded_sequence(decoder_input, \n",
    "#                                              decoder_input_lens, \n",
    "#                                              batch_first=True, \n",
    "#                                              enforce_sorted=False)\n",
    "        \n",
    "        h, c = decoder_prev_state\n",
    "        h1 = h.permute(1,0,2)\n",
    "        \n",
    "        \n",
    "        scores = self.attention(encoder_ouput,h1)\n",
    "        \n",
    "#         print(scores.shape)\n",
    "                \n",
    "        context = torch.bmm(scores.unsqueeze(1),encoder_ouput)\n",
    "#         print('context',context.shape)\n",
    "        \n",
    "        decoder_input = self.droper(self.decoder_embedding(decoder_input.long()))\n",
    "#         print('decoder_input',decoder_input.shape)\n",
    "\n",
    "        context_input = torch.cat((context,decoder_input),dim=-1)\n",
    "#         print('context_input',context_input.shape)\n",
    "#         print('hc',h.shape,c.shape)\n",
    "        if h.shape[0] ==2:\n",
    "            bh= torch.cat((h[0,:,:].unsqueeze(0),h[1,:,:].unsqueeze(0)),dim=-1)\n",
    "            bc = torch.cat((c[0,:,:].unsqueeze(0),c[1,:,:].unsqueeze(0)),dim=-1)\n",
    "            output_decoder, decoder_hidden = self.decoder_rnn(context_input, \n",
    "                                                              (bh,bc))\n",
    "        else:\n",
    "            output_decoder, decoder_hidden = self.decoder_rnn(context_input, \n",
    "                                                              (h,c))\n",
    "                                                        \n",
    "#         print('output_decoder',output_decoder.shape)\n",
    "        \n",
    "#         output_decoder = self.lin(output_decoder)\n",
    "        output_decoder = self.lin(self.droper1(output_decoder))\n",
    "        return output_decoder,decoder_hidden,scores"
   ]
  },
  {
   "cell_type": "code",
   "execution_count": 10,
   "id": "4c02d1f3",
   "metadata": {
    "execution": {
     "iopub.execute_input": "2022-05-07T02:32:57.579366Z",
     "iopub.status.busy": "2022-05-07T02:32:57.578835Z",
     "iopub.status.idle": "2022-05-07T02:32:57.885083Z",
     "shell.execute_reply": "2022-05-07T02:32:57.884208Z"
    },
    "papermill": {
     "duration": 0.343352,
     "end_time": "2022-05-07T02:32:57.887596",
     "exception": false,
     "start_time": "2022-05-07T02:32:57.544244",
     "status": "completed"
    },
    "tags": []
   },
   "outputs": [
    {
     "name": "stderr",
     "output_type": "stream",
     "text": [
      "UserWarning: dropout option adds dropout after all but last recurrent layer, so non-zero dropout expects num_layers greater than 1, but got dropout=0.2 and num_layers=1\n"
     ]
    }
   ],
   "source": [
    "encoder = Encoder(\n",
    "                  len(vocabulary1),\n",
    "                  embedding_size=256,\n",
    "                  enc_hidden_size=512,\n",
    "                  enc_out_size= 256,\n",
    "                  lstm_layers=1,\n",
    "                  dropout=0.2\n",
    "                )\n",
    "decoder = Decoder(\n",
    "                encoder_output_size= 256,\n",
    "                decoder_hidden_state_size = 512,\n",
    "                att_mid_size = 256 ,\n",
    "                input_size_decoder = 256,\n",
    "                embedding_size_decoder = 256,\n",
    "                vocabulary_size = len(vocabulary2) ,\n",
    "                decoder_lstm_layers = 1,\n",
    "                decoder_dropout= 0.2\n",
    "                )"
   ]
  },
  {
   "cell_type": "code",
   "execution_count": 11,
   "id": "a0667474",
   "metadata": {
    "execution": {
     "iopub.execute_input": "2022-05-07T02:32:57.959903Z",
     "iopub.status.busy": "2022-05-07T02:32:57.959629Z",
     "iopub.status.idle": "2022-05-07T02:32:57.972080Z",
     "shell.execute_reply": "2022-05-07T02:32:57.971447Z"
    },
    "papermill": {
     "duration": 0.050989,
     "end_time": "2022-05-07T02:32:57.973941",
     "exception": false,
     "start_time": "2022-05-07T02:32:57.922952",
     "status": "completed"
    },
    "tags": []
   },
   "outputs": [],
   "source": [
    "import pytorch_lightning as pl\n",
    "\n",
    "class git_model(pl.LightningModule):\n",
    "    \n",
    "    def __init__(self,encoder,decoder):\n",
    "        super().__init__()\n",
    "\n",
    "        self.encoder = encoder\n",
    "        self.decoder = decoder\n",
    "        self.loss = nn.CrossEntropyLoss(ignore_index=3)\n",
    "        \n",
    "    def forward(self, loader):\n",
    "        X, y_inp, y_op, x_lens, y_inp_lens, y_op_lens = loader\n",
    "        \n",
    "        encoder_output, h1, c1 = self.encoder((X,x_lens))\n",
    "#         print(encoder_output.shape)\n",
    "        output = []\n",
    "        \n",
    "        for i in range(y_inp.shape[1]):\n",
    "            \n",
    "            o, (h1,c1),scores = self.decoder(encoder_output,(h1,c1),y_inp[:,i].unsqueeze(1))\n",
    "            \n",
    "            output.append(o)\n",
    "        return torch.stack(output).permute(2,1,0,3).squeeze(0) \n",
    "    \n",
    "    def configure_optimizers(self):\n",
    "        optimizer = torch.optim.AdamW(self.parameters(), lr=1e-4*5)\n",
    "        return optimizer\n",
    "    \n",
    "    def training_step(self, train_batch, batch_idx):\n",
    "        X, y_inp, y_op, x_lens, y_inp_lens, y_op_lens = train_batch\n",
    "        \n",
    "        out = self(train_batch)\n",
    "        out = out.reshape(-1,len(vocabulary2))  \n",
    "        \n",
    "        label = y_op.reshape(-1)\n",
    "        loss = self.loss(out, label.long())\n",
    "\n",
    "        self.log('train_loss', loss)\n",
    "        return loss\n",
    "\n",
    "    def validation_step(self, val_batch, batch_idx):\n",
    "        X, y_inp, y_op, x_lens, y_inp_lens, y_op_lens = val_batch\n",
    "        \n",
    "        out = self(val_batch)\n",
    "        out = out.reshape(-1,len(vocabulary2))  \n",
    "        \n",
    "        label = y_op.reshape(-1)\n",
    "        loss = self.loss(out, label.long())\n",
    "        \n",
    "        self.log('val_loss', loss)\n",
    "        \n",
    "        \n",
    "# training\n",
    "model_class = git_model(encoder,decoder)\n",
    "earystopping = EarlyStopping(monitor=\"val_loss\")\n",
    "\n",
    "\n"
   ]
  },
  {
   "cell_type": "code",
   "execution_count": 12,
   "id": "e5dc3dc5",
   "metadata": {
    "execution": {
     "iopub.execute_input": "2022-05-07T02:32:58.042825Z",
     "iopub.status.busy": "2022-05-07T02:32:58.042275Z",
     "iopub.status.idle": "2022-05-07T02:32:58.057291Z",
     "shell.execute_reply": "2022-05-07T02:32:58.056412Z"
    },
    "papermill": {
     "duration": 0.052368,
     "end_time": "2022-05-07T02:32:58.059990",
     "exception": false,
     "start_time": "2022-05-07T02:32:58.007622",
     "status": "completed"
    },
    "tags": []
   },
   "outputs": [],
   "source": [
    "loss_checkpoint = callbacks.ModelCheckpoint(\n",
    "            filename=\"best_loss\",\n",
    "            monitor=\"val_loss\",\n",
    "            save_top_k=1,\n",
    "            mode=\"min\",\n",
    "            save_last=False,\n",
    "        )\n",
    "logger = TensorBoardLogger('git_model')\n",
    "\n",
    "#---------------------------------------------------------------------------------------------------------\n",
    "trainer = pl.Trainer(\n",
    "                     max_epochs =50,\n",
    "                     logger=logger,\n",
    "                     callbacks=[earystopping,\n",
    "                                loss_checkpoint],\n",
    "#                     precision=16,\n",
    "\n",
    "                    )"
   ]
  },
  {
   "cell_type": "code",
   "execution_count": 13,
   "id": "a01d8c67",
   "metadata": {
    "execution": {
     "iopub.execute_input": "2022-05-07T02:32:58.132719Z",
     "iopub.status.busy": "2022-05-07T02:32:58.131834Z",
     "iopub.status.idle": "2022-05-07T02:32:58.136168Z",
     "shell.execute_reply": "2022-05-07T02:32:58.135597Z"
    },
    "papermill": {
     "duration": 0.042553,
     "end_time": "2022-05-07T02:32:58.138013",
     "exception": false,
     "start_time": "2022-05-07T02:32:58.095460",
     "status": "completed"
    },
    "tags": []
   },
   "outputs": [],
   "source": [
    "bodies = [\"\"\"Billionaire Mukesh Ambani-led Reliance Industries on Friday reported a 22.4% year-on-year rise in its consolidated net profit for Q4 2022 at ₹16,203 crore. The company's revenue from operations rose 36.79% to ₹2,11,887 crore, compared with ₹1,54,896 crore in the corresponding quarter last year. Reliance further said that its board has recommended an annual dividend of ₹8 per equity share.\"\"\",\n",
    "         \"\"\"The headmistress of a high school in Odisha's Ganjam was suspended after a video showing students dancing in a classroom to a song from Telugu film 'Pushpa: The Rise' surfaced on social media, District Education Officer Binita Senapati said. \"Some students who were present in the classroom might have linked the TV with their mobile phones,\" Senapati added.\"\"\",\n",
    "         ]"
   ]
  },
  {
   "cell_type": "code",
   "execution_count": 14,
   "id": "3000a571",
   "metadata": {
    "execution": {
     "iopub.execute_input": "2022-05-07T02:32:58.207879Z",
     "iopub.status.busy": "2022-05-07T02:32:58.206805Z",
     "iopub.status.idle": "2022-05-07T02:33:01.391908Z",
     "shell.execute_reply": "2022-05-07T02:33:01.390984Z"
    },
    "papermill": {
     "duration": 3.222589,
     "end_time": "2022-05-07T02:33:01.394366",
     "exception": false,
     "start_time": "2022-05-07T02:32:58.171777",
     "status": "completed"
    },
    "tags": []
   },
   "outputs": [],
   "source": [
    "model_class = model_class.load_from_checkpoint('../input/text-summary-news-lstm-emb256-model-2/git_model/lightning_logs/version_0/checkpoints/best_loss.ckpt',encoder=encoder,decoder=decoder)\n",
    "md = model_class\n",
    "md = md.eval().to('cpu')"
   ]
  },
  {
   "cell_type": "code",
   "execution_count": 15,
   "id": "13d96c37",
   "metadata": {
    "execution": {
     "iopub.execute_input": "2022-05-07T02:33:01.465461Z",
     "iopub.status.busy": "2022-05-07T02:33:01.464968Z",
     "iopub.status.idle": "2022-05-07T02:33:09.600511Z",
     "shell.execute_reply": "2022-05-07T02:33:09.599518Z"
    },
    "papermill": {
     "duration": 8.173778,
     "end_time": "2022-05-07T02:33:09.602429",
     "exception": false,
     "start_time": "2022-05-07T02:33:01.428651",
     "status": "completed"
    },
    "tags": []
   },
   "outputs": [
    {
     "name": "stdout",
     "output_type": "stream",
     "text": [
      "######################################################################################\n",
      "______________________________________issue_____________________________________________\n",
      "billionaire mukesh ambani led reliance industries on friday reported a    year on year rise in its consolidated net profit for q4 at    crore the company s revenue from operations rose    to     crore compared with     crore in the corresponding quarter last year reliance further said that its board has recommended an annual dividend of per equity share\n",
      "_______________________________________machine___________________________________________\n",
      "reliance profit rises to    crore in june quarter <eos> <eos> <eos> <eos> <eos> <eos> <eos> <eos> <eos> <eos> <eos> <eos> <eos> <eos> <eos> <eos> <eos> <eos> <eos> <eos> <eos> <eos> <eos> <eos> <eos> <eos> <eos> <eos> <eos> <eos> <eos> <eos> <eos> <eos> <eos> <eos> <eos> <eos> <eos> <eos> <eos> <eos> <eos> <eos> <eos> <eos> <eos> <eos> <eos> <eos> <eos> <eos> <eos> <eos> <eos> <eos> <eos> <eos> <eos> <eos> <eos> <eos> <eos> <eos> <eos> <eos> <eos> <eos> <eos> <eos> <eos> <eos> <eos> <eos> <eos> <eos> <eos> <eos> <eos> <eos> <eos> <eos> <eos> <eos> <eos> <eos> <eos> <eos> <eos> <eos> <eos> <eos> <eos> <eos> <eos> <eos> <eos> <eos> <eos> <eos> <eos> <eos> <eos> <eos> <eos> <eos> <eos> <eos> <eos> <eos> <eos> <eos> <eos> <eos> <eos> <eos> <eos> <eos> <eos> <eos> <eos> <eos> <eos> <eos> <eos> <eos> <eos> <eos> <eos> <eos> <eos> <eos> <eos> <eos> <eos> <eos> <eos> <eos> <eos> <eos> <eos> <eos> <eos> <eos> <eos> <eos> <eos> <eos> <eos> <eos> <eos> <eos> <eos> <eos> <eos> <eos> <eos> <eos> <eos> <eos> <eos> <eos> <eos> <eos> <eos> <eos> <eos> <eos> <eos> <eos> <eos> <eos> <eos> <eos> <eos> <eos> <eos> <eos> <eos> <eos> <eos> <eos> <eos> <eos> <eos> <eos> <eos> <eos> <eos> <eos> <eos>\n",
      "==================================================\n",
      "\n",
      "\n",
      "reliance profit rises to    crore in june quarter <eos> <eos> <eos> <eos> <eos> <eos> <eos> <eos> <eos> <eos> <eos> <eos> <eos> <eos> <eos> <eos> <eos> <eos> <eos> <eos> <eos> <eos> <eos> <eos> <eos> <eos> <eos> <eos> <eos> <eos> <eos> <eos> <eos> <eos> <eos> <eos> <eos> <eos> <eos> <eos> <eos> <eos> <eos> <eos> <eos> <eos> <eos> <eos> <eos> <eos> <eos> <eos> <eos> <eos> <eos> <eos> <eos> <eos> <eos> <eos> <eos> <eos> <eos> <eos> <eos> <eos> <eos> <eos> <eos> <eos> <eos> <eos> <eos> <eos> <eos> <eos> <eos> <eos> <eos> <eos> <eos> <eos> <eos> <eos> <eos> <eos> <eos> <eos> <eos> <eos> <eos> <eos> <eos> <eos> <eos> <eos> <eos> <eos> <eos> <eos> <eos> <eos> <eos> <eos> <eos> <eos> <eos> <eos> <eos> <eos> <eos> <eos> <eos> <eos> <eos> <eos> <eos> <eos> <eos> <eos> <eos> <eos> <eos> <eos> <eos> <eos> <eos> <eos> <eos> <eos> <eos> <eos> <eos> <eos> <eos> <eos> <eos> <eos> <eos> <eos> <eos> <eos> <eos> <eos> <eos> <eos> <eos> <eos> <eos> <eos> <eos> <eos> <eos> <eos> <eos> <eos> <eos> <eos> <eos> <eos> <eos> <eos> <eos> <eos> <eos> <eos> <eos> <eos> <eos> <eos> <eos> <eos> <eos> <eos> <eos> <eos> <eos> <eos> <eos> <eos> <eos> <eos> <eos> <eos> <eos> <eos> <eos> <eos> <eos> <eos> <eos>\n",
      "==================================================\n",
      "\n",
      "\n"
     ]
    },
    {
     "data": {
      "image/png": "[encoded data removed]",
      "text/plain": [
       "<Figure size 1080x1080 with 1 Axes>"
      ]
     },
     "metadata": {
      "needs_background": "light"
     },
     "output_type": "display_data"
    },
    {
     "name": "stdout",
     "output_type": "stream",
     "text": [
      "######################################################################################\n",
      "______________________________________issue_____________________________________________\n",
      "the <unk> of a high school in odisha s <unk> was suspended after a video showing students dancing in a classroom to a song from telugu film pushpa the rise surfaced on social media district education officer <unk> <unk> said some students who were present in the classroom might have linked the tv with their mobile phones <unk> added\n",
      "_______________________________________machine___________________________________________\n",
      "school principal suspended over <unk> in <unk> to <unk> <eos> <eos> <eos> <eos> <eos> <eos> <eos> <eos> <eos> <eos> <eos> <eos> <eos> <eos> <eos> <eos> <eos> <eos> <eos> <eos> <eos> <eos> <eos> <eos> <eos> <eos> <eos> <eos> <eos> <eos> <eos> <eos> <eos> <eos> <eos> <eos> <eos> <eos> <eos> <eos> <eos> <eos> <eos> <eos> <eos> <eos> <eos> <eos> <eos> <eos> <eos> <eos> <eos> <eos> <eos> <eos> <eos> <eos> <eos> <eos> <eos> <eos> <eos> <eos> <eos> <eos> <eos> <eos> <eos> <eos> <eos> <eos> <eos> <eos> <eos> <eos> <eos> <eos> <eos> <eos> <eos> <eos> <eos> <eos> <eos> <eos> <eos> <eos> <eos> <eos> <eos> <eos> <eos> <eos> <eos> <eos> <eos> <eos> <eos> <eos> <eos> <eos> <eos> <eos> <eos> <eos> <eos> <eos> <eos> <eos> <eos> <eos> <eos> <eos> <eos> <eos> <eos> <eos> <eos> <eos> <eos> <eos> <eos> <eos> <eos> <eos> <eos> <eos> <eos> <eos> <eos> <eos> <eos> <eos> <eos> <eos> <eos> <eos> <eos> <eos> <eos> <eos> <eos> <eos> <eos> <eos> <eos> <eos> <eos> <eos> <eos> <eos> <eos> <eos> <eos> <eos> <eos> <eos> <eos> <eos> <eos> <eos> <eos> <eos> <eos> <eos> <eos> <eos> <eos> <eos> <eos> <eos> <eos> <eos> <eos> <eos> <eos> <eos> <eos> <eos> <eos> <eos> <eos> <eos> <eos> <eos> <eos> <eos> <eos> <eos> <eos>\n",
      "==================================================\n",
      "\n",
      "\n",
      "school principal suspended over students from a film to students <eos> <eos> <eos> <eos> <eos> <eos> <eos> <eos> <eos> <eos> <eos> <eos> <eos> <eos> <eos> <eos> <eos> <eos> <eos> <eos> <eos> <eos> <eos> <eos> <eos> <eos> <eos> <eos> <eos> <eos> <eos> <eos> <eos> <eos> <eos> <eos> <eos> <eos> <eos> <eos> <eos> <eos> <eos> <eos> <eos> <eos> <eos> <eos> <eos> <eos> <eos> <eos> <eos> <eos> <eos> <eos> <eos> <eos> <eos> <eos> <eos> <eos> <eos> <eos> <eos> <eos> <eos> <eos> <eos> <eos> <eos> <eos> <eos> <eos> <eos> <eos> <eos> <eos> <eos> <eos> <eos> <eos> <eos> <eos> <eos> <eos> <eos> <eos> <eos> <eos> <eos> <eos> <eos> <eos> <eos> <eos> <eos> <eos> <eos> <eos> <eos> <eos> <eos> <eos> <eos> <eos> <eos> <eos> <eos> <eos> <eos> <eos> <eos> <eos> <eos> <eos> <eos> <eos> <eos> <eos> <eos> <eos> <eos> <eos> <eos> <eos> <eos> <eos> <eos> <eos> <eos> <eos> <eos> <eos> <eos> <eos> <eos> <eos> <eos> <eos> <eos> <eos> <eos> <eos> <eos> <eos> <eos> <eos> <eos> <eos> <eos> <eos> <eos> <eos> <eos> <eos> <eos> <eos> <eos> <eos> <eos> <eos> <eos> <eos> <eos> <eos> <eos> <eos> <eos> <eos> <eos> <eos> <eos> <eos> <eos> <eos> <eos> <eos> <eos> <eos> <eos> <eos> <eos> <eos> <eos> <eos> <eos> <eos> <eos> <eos>\n",
      "==================================================\n",
      "\n",
      "\n"
     ]
    },
    {
     "data": {
      "image/png": "[encoded data removed]",
      "text/plain": [
       "<Figure size 1080x1080 with 1 Axes>"
      ]
     },
     "metadata": {
      "needs_background": "light"
     },
     "output_type": "display_data"
    }
   ],
   "source": [
    "for body in bodies:\n",
    "    print('######################################################################################')\n",
    "    body= text_cleaner(body)\n",
    "    m = spacy.load('en_core_web_sm', disable=['ner', 'parser']) \n",
    "    body = token_maker(body,m)\n",
    "    body = [vocabulary1[token] if token in vocabulary1 else 0 for token in body]\n",
    "\n",
    "    loader = torch.tensor(body),_,_,torch.tensor(body).shape[0]\n",
    "\n",
    "\n",
    "    inv_vocabulary2 = {v: k for k, v in vocabulary2.items()}\n",
    "    inv_vocabulary1 = {v: k for k, v in vocabulary1.items()}\n",
    "\n",
    "\n",
    "    h = torch.rand((2*md.encoder.lstm_layers,1,md.encoder.enc_hidden_size))\n",
    "    c = torch.rand((2*md.encoder.lstm_layers,1,md.encoder.enc_hidden_size))\n",
    "\n",
    "    eo,h1,c1 = md.encoder((\n",
    "                    loader[0].unsqueeze(0),\n",
    "                    torch.tensor([loader[3]])\n",
    "                            ),h,c)\n",
    "\n",
    "    O = []\n",
    "    S = []\n",
    "    O1 = []\n",
    "    S1 = []\n",
    "    for j in range(200):\n",
    "        if j==0:\n",
    "            o, (h1,c1),scores = md.decoder(eo,(h1,c1),torch.tensor([[1.]]))\n",
    "            h2,c2,o2 = h1,c1,o\n",
    "            S.append(scores)\n",
    "        else:\n",
    "            o, (h1,c1),scores = md.decoder(eo,(h1,c1),torch.argmax(o,dim=-1))\n",
    "            o2,(h2,c2),scores2 = md.decoder(eo,(h2,c2),torch.argmax(o2[:,:,1:],dim=-1)+1)\n",
    "            S.append(scores)\n",
    "        O.append(torch.argmax(o,dim=-1))\n",
    "        O1.append(torch.argmax(o2[:,:,1:],dim=-1)+1)\n",
    "\n",
    "    output = O\n",
    "    output1= O1\n",
    "    #     print(O)\n",
    "    print(\"______________________________________issue_____________________________________________\")\n",
    "    print(\" \".join([inv_vocabulary1[token.item()] for token in loader[0]]))\n",
    "    print(\"_______________________________________machine___________________________________________\")\n",
    "    print(\" \".join([inv_vocabulary2[k.item()] for k in output]))\n",
    "    print(\"==================================================\\n\\n\")\n",
    "    print(\" \".join([inv_vocabulary2[k.item()] for k in output1]))\n",
    "    print(\"==================================================\\n\\n\")\n",
    "    \n",
    "    outputs = [inv_vocabulary2[token.item()] for token in output]\n",
    "    outputs = outputs[:outputs.index('<eos>')]\n",
    "    import skimage.io as io\n",
    "    fig, ax = plt.subplots(1,1,figsize=(15,15)) \n",
    "    io.imshow(torch.stack(S*255).reshape(-1,len(body)).detach().numpy()[:len(outputs),:],cmap='hot')\n",
    "    plt.xticks(np.arange(len(body)))\n",
    "    ax.set_xticklabels([inv_vocabulary1[b] for b in body],rotation=90)\n",
    "    plt.yticks(np.arange(len(outputs)))\n",
    "    ax.set_yticklabels(outputs)\n",
    "    plt.show()\n",
    "    "
   ]
  },
  {
   "cell_type": "code",
   "execution_count": null,
   "id": "a39d4fcc",
   "metadata": {
    "papermill": {
     "duration": 0.038057,
     "end_time": "2022-05-07T02:33:09.677933",
     "exception": false,
     "start_time": "2022-05-07T02:33:09.639876",
     "status": "completed"
    },
    "tags": []
   },
   "outputs": [],
   "source": []
  },
  {
   "cell_type": "code",
   "execution_count": 16,
   "id": "3221b760",
   "metadata": {
    "execution": {
     "iopub.execute_input": "2022-05-07T02:33:09.759023Z",
     "iopub.status.busy": "2022-05-07T02:33:09.757990Z",
     "iopub.status.idle": "2022-05-07T02:33:10.107115Z",
     "shell.execute_reply": "2022-05-07T02:33:10.106029Z"
    },
    "papermill": {
     "duration": 0.391975,
     "end_time": "2022-05-07T02:33:10.110352",
     "exception": false,
     "start_time": "2022-05-07T02:33:09.718377",
     "status": "completed"
    },
    "tags": []
   },
   "outputs": [],
   "source": [
    "from sklearn.decomposition import PCA\n",
    "pca = PCA(n_components=3)\n",
    "xx = pca.fit_transform(md.decoder.decoder_embedding.weight.data.detach().numpy())"
   ]
  },
  {
   "cell_type": "code",
   "execution_count": 17,
   "id": "aaf9578d",
   "metadata": {
    "execution": {
     "iopub.execute_input": "2022-05-07T02:33:10.259714Z",
     "iopub.status.busy": "2022-05-07T02:33:10.259441Z",
     "iopub.status.idle": "2022-05-07T02:33:10.269649Z",
     "shell.execute_reply": "2022-05-07T02:33:10.268995Z"
    },
    "papermill": {
     "duration": 0.050401,
     "end_time": "2022-05-07T02:33:10.271302",
     "exception": false,
     "start_time": "2022-05-07T02:33:10.220901",
     "status": "completed"
    },
    "tags": []
   },
   "outputs": [],
   "source": [
    "w = []\n",
    "for i in range(len(vocabulary1)):\n",
    "    w.append(inv_vocabulary1[i])"
   ]
  },
  {
   "cell_type": "code",
   "execution_count": 18,
   "id": "1e8da533",
   "metadata": {
    "execution": {
     "iopub.execute_input": "2022-05-07T02:33:10.349244Z",
     "iopub.status.busy": "2022-05-07T02:33:10.348957Z",
     "iopub.status.idle": "2022-05-07T02:33:10.352416Z",
     "shell.execute_reply": "2022-05-07T02:33:10.351535Z"
    },
    "papermill": {
     "duration": 0.044503,
     "end_time": "2022-05-07T02:33:10.354137",
     "exception": false,
     "start_time": "2022-05-07T02:33:10.309634",
     "status": "completed"
    },
    "tags": []
   },
   "outputs": [],
   "source": [
    "# import plotly.express as px\n",
    "# df = px.data.iris()\n",
    "# fig = px.scatter_3d(x=xx[200:800,0], y=xx[200:800,1], z=xx[200:800,2],\n",
    "#               text=w[200:800])\n",
    "# fig.show()"
   ]
  },
  {
   "cell_type": "code",
   "execution_count": null,
   "id": "d8e68bf2",
   "metadata": {
    "papermill": {
     "duration": 0.037963,
     "end_time": "2022-05-07T02:33:10.430985",
     "exception": false,
     "start_time": "2022-05-07T02:33:10.393022",
     "status": "completed"
    },
    "tags": []
   },
   "outputs": [],
   "source": []
  }
 ],
 "metadata": {
  "kernelspec": {
   "display_name": "Python 3",
   "language": "python",
   "name": "python3"
  },
  "language_info": {
   "codemirror_mode": {
    "name": "ipython",
    "version": 3
   },
   "file_extension": ".py",
   "mimetype": "text/x-python",
   "name": "python",
   "nbconvert_exporter": "python",
   "pygments_lexer": "ipython3",
   "version": "3.7.12"
  },
  "papermill": {
   "default_parameters": {},
   "duration": 65.547148,
   "end_time": "2022-05-07T02:33:13.393962",
   "environment_variables": {},
   "exception": null,
   "input_path": "__notebook__.ipynb",
   "output_path": "__notebook__.ipynb",
   "parameters": {},
   "start_time": "2022-05-07T02:32:07.846814",
   "version": "2.3.4"
  }
 },
 "nbformat": 4,
 "nbformat_minor": 5
}
