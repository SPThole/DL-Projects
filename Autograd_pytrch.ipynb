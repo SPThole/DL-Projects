{
  "nbformat": 4,
  "nbformat_minor": 0,
  "metadata": {
    "colab": {
      "name": "Autograd_pytrch.ipynb",
      "provenance": [],
      "authorship_tag": "ABX9TyOD5VbLSQjNyDuo5iGvhqqI",
      "include_colab_link": true
    },
    "kernelspec": {
      "name": "python3",
      "display_name": "Python 3"
    }
  },
  "cells": [
    {
      "cell_type": "markdown",
      "metadata": {
        "id": "view-in-github",
        "colab_type": "text"
      },
      "source": [
        "<a href=\"https://colab.research.google.com/github/SPThole/pyTrch/blob/master/Autograd_pytrch.ipynb\" target=\"_parent\"><img src=\"https://colab.research.google.com/assets/colab-badge.svg\" alt=\"Open In Colab\"/></a>"
      ]
    },
    {
      "cell_type": "markdown",
      "metadata": {
        "id": "sX2coPys6M1P",
        "colab_type": "text"
      },
      "source": [
        "Auto-grad and linear regression"
      ]
    },
    {
      "cell_type": "code",
      "metadata": {
        "id": "LrzzrszC6RtQ",
        "colab_type": "code",
        "colab": {}
      },
      "source": [
        "#importing libraries\n",
        "import pandas as pd\n",
        "import numpy as np\n",
        "import matplotlib.pyplot as plt\n",
        "import torch\n",
        "%matplotlib inline"
      ],
      "execution_count": 47,
      "outputs": []
    },
    {
      "cell_type": "code",
      "metadata": {
        "id": "D3IQKux16hVE",
        "colab_type": "code",
        "colab": {}
      },
      "source": [
        "#requires float elements to calculate grad\n",
        "x= torch.tensor([2.,2.],requires_grad=True)\n",
        "y= torch.tensor([10.,10],requires_grad=True)"
      ],
      "execution_count": 48,
      "outputs": []
    },
    {
      "cell_type": "code",
      "metadata": {
        "id": "KTyjb_xV8qKv",
        "colab_type": "code",
        "colab": {}
      },
      "source": [
        "#defining function on tensor args\n",
        "def w(x,y):\n",
        "  return torch.sum(x**2+y**2,axis=0)"
      ],
      "execution_count": 49,
      "outputs": []
    },
    {
      "cell_type": "code",
      "metadata": {
        "id": "GOJzdI9z86i7",
        "colab_type": "code",
        "colab": {}
      },
      "source": [
        "z=w(x,y) "
      ],
      "execution_count": 50,
      "outputs": []
    },
    {
      "cell_type": "code",
      "metadata": {
        "id": "xct-SfB-9Eis",
        "colab_type": "code",
        "colab": {}
      },
      "source": [
        "#differntiating automatically: Function should give scalar as an output. as z.backwaard() assumes z.backward(torch.tensor([1.0]))\n",
        "z.backward()"
      ],
      "execution_count": 51,
      "outputs": []
    },
    {
      "cell_type": "code",
      "metadata": {
        "id": "h8c57p5Y9R2Z",
        "colab_type": "code",
        "colab": {
          "base_uri": "https://localhost:8080/",
          "height": 35
        },
        "outputId": "73a97e45-359a-45f0-c1ae-373f935fad6a"
      },
      "source": [
        "# dz/dx= 2*x\n",
        "x.grad"
      ],
      "execution_count": 52,
      "outputs": [
        {
          "output_type": "execute_result",
          "data": {
            "text/plain": [
              "tensor([4., 4.])"
            ]
          },
          "metadata": {
            "tags": []
          },
          "execution_count": 52
        }
      ]
    },
    {
      "cell_type": "code",
      "metadata": {
        "id": "yt7PkLcT9Wgd",
        "colab_type": "code",
        "colab": {
          "base_uri": "https://localhost:8080/",
          "height": 35
        },
        "outputId": "4b9c541d-77fb-4a3f-c023-f25a8a01b3b9"
      },
      "source": [
        "# dz/dy= 2*y\n",
        "y.grad"
      ],
      "execution_count": 53,
      "outputs": [
        {
          "output_type": "execute_result",
          "data": {
            "text/plain": [
              "tensor([20., 20.])"
            ]
          },
          "metadata": {
            "tags": []
          },
          "execution_count": 53
        }
      ]
    },
    {
      "cell_type": "code",
      "metadata": {
        "id": "94fWJmlPBrEO",
        "colab_type": "code",
        "colab": {
          "base_uri": "https://localhost:8080/",
          "height": 72
        },
        "outputId": "f3abe1f0-6506-423a-82b2-882350bafa16"
      },
      "source": [
        "print(x.requires_grad)\n",
        "print(y.requires_grad)\n",
        "with torch.no_grad():\n",
        "  print((y**2+x**2).requires_grad)"
      ],
      "execution_count": 59,
      "outputs": [
        {
          "output_type": "stream",
          "text": [
            "True\n",
            "True\n",
            "False\n"
          ],
          "name": "stdout"
        }
      ]
    },
    {
      "cell_type": "code",
      "metadata": {
        "id": "SHu75H_hBrLK",
        "colab_type": "code",
        "colab": {
          "base_uri": "https://localhost:8080/",
          "height": 35
        },
        "outputId": "fa78f1ed-b701-45d8-add6-bd520f3c4fe9"
      },
      "source": [
        "x.requires_grad\n",
        "print(x.detach().requires_grad)"
      ],
      "execution_count": 65,
      "outputs": [
        {
          "output_type": "stream",
          "text": [
            "False\n"
          ],
          "name": "stdout"
        }
      ]
    },
    {
      "cell_type": "code",
      "metadata": {
        "id": "dyp_bKYnBrId",
        "colab_type": "code",
        "colab": {}
      },
      "source": [
        ""
      ],
      "execution_count": null,
      "outputs": []
    },
    {
      "cell_type": "code",
      "metadata": {
        "id": "i1HoVRTn9X24",
        "colab_type": "code",
        "colab": {
          "base_uri": "https://localhost:8080/",
          "height": 295
        },
        "outputId": "4a660466-dc3c-45b5-d35d-4a8014440d19"
      },
      "source": [
        "x= np.array([1,2,3,4,7,9,10,14,16,19])\n",
        "y= 2*x+ np.random.normal(size=len(x))\n",
        "plt.plot(x,y,'.')\n",
        "plt.title('Data')\n",
        "plt.xlabel('x')\n",
        "plt.ylabel('y')\n",
        "plt.show()"
      ],
      "execution_count": 167,
      "outputs": [
        {
          "output_type": "display_data",
          "data": {
            "image/png": "[encoded data removed]",
            "text/plain": [
              "<Figure size 432x288 with 1 Axes>"
            ]
          },
          "metadata": {
            "tags": [],
            "needs_background": "light"
          }
        }
      ]
    },
    {
      "cell_type": "code",
      "metadata": {
        "id": "SCZduR4m-_cz",
        "colab_type": "code",
        "colab": {}
      },
      "source": [
        "from torch.optim import SGD"
      ],
      "execution_count": 168,
      "outputs": []
    },
    {
      "cell_type": "code",
      "metadata": {
        "id": "48R0ZPBR_M-y",
        "colab_type": "code",
        "colab": {}
      },
      "source": [
        "w= torch.rand([2],requires_grad=True)"
      ],
      "execution_count": 169,
      "outputs": []
    },
    {
      "cell_type": "code",
      "metadata": {
        "id": "vu59x3vNEhaz",
        "colab_type": "code",
        "colab": {}
      },
      "source": [
        "x= torch.from_numpy(x.reshape(-1,1))\n",
        "y= torch.from_numpy(y.reshape(-1,1))"
      ],
      "execution_count": 170,
      "outputs": []
    },
    {
      "cell_type": "code",
      "metadata": {
        "id": "0-c-MC7ZEjnJ",
        "colab_type": "code",
        "colab": {
          "base_uri": "https://localhost:8080/",
          "height": 35
        },
        "outputId": "28d0b7ae-5fad-4dc6-96bc-b9c70a6e1c8b"
      },
      "source": [
        "loss=torch.mean((y-w[0]*x-w[1])**2,axis=0)\n",
        "loss"
      ],
      "execution_count": 171,
      "outputs": [
        {
          "output_type": "execute_result",
          "data": {
            "text/plain": [
              "tensor([171.7328], dtype=torch.float64, grad_fn=<MeanBackward1>)"
            ]
          },
          "metadata": {
            "tags": []
          },
          "execution_count": 171
        }
      ]
    },
    {
      "cell_type": "code",
      "metadata": {
        "id": "Kd1GXQbXFByn",
        "colab_type": "code",
        "colab": {}
      },
      "source": [
        "\n",
        "optimizer= SGD([w],lr=0.0001)"
      ],
      "execution_count": 172,
      "outputs": []
    },
    {
      "cell_type": "code",
      "metadata": {
        "id": "2inVkxQfFbus",
        "colab_type": "code",
        "colab": {
          "base_uri": "https://localhost:8080/",
          "height": 1000
        },
        "outputId": "d081d6ab-d273-4c4f-f5be-23dcd7e5a517"
      },
      "source": [
        "max_iteration=100\n",
        "history=[]\n",
        "for i in range(max_iteration):\n",
        "  loss=torch.mean((y-w[0]*x-w[1])**2,axis=0)\n",
        "  optimizer.zero_grad()\n",
        "  loss.backward()\n",
        "  optimizer.step()\n",
        "  history.append(loss)\n",
        "  print('Loss at iteration {} is {}'.format(i,loss))\n"
      ],
      "execution_count": 175,
      "outputs": [
        {
          "output_type": "stream",
          "text": [
            "Loss at iteration 0 is tensor([157.3892], dtype=torch.float64, grad_fn=<MeanBackward1>)\n",
            "Loss at iteration 1 is tensor([150.6736], dtype=torch.float64, grad_fn=<MeanBackward1>)\n",
            "Loss at iteration 2 is tensor([144.2450], dtype=torch.float64, grad_fn=<MeanBackward1>)\n",
            "Loss at iteration 3 is tensor([138.0910], dtype=torch.float64, grad_fn=<MeanBackward1>)\n",
            "Loss at iteration 4 is tensor([132.2000], dtype=torch.float64, grad_fn=<MeanBackward1>)\n",
            "Loss at iteration 5 is tensor([126.5606], dtype=torch.float64, grad_fn=<MeanBackward1>)\n",
            "Loss at iteration 6 is tensor([121.1622], dtype=torch.float64, grad_fn=<MeanBackward1>)\n",
            "Loss at iteration 7 is tensor([115.9944], dtype=torch.float64, grad_fn=<MeanBackward1>)\n",
            "Loss at iteration 8 is tensor([111.0474], dtype=torch.float64, grad_fn=<MeanBackward1>)\n",
            "Loss at iteration 9 is tensor([106.3117], dtype=torch.float64, grad_fn=<MeanBackward1>)\n",
            "Loss at iteration 10 is tensor([101.7784], dtype=torch.float64, grad_fn=<MeanBackward1>)\n",
            "Loss at iteration 11 is tensor([97.4388], dtype=torch.float64, grad_fn=<MeanBackward1>)\n",
            "Loss at iteration 12 is tensor([93.2846], dtype=torch.float64, grad_fn=<MeanBackward1>)\n",
            "Loss at iteration 13 is tensor([89.3078], dtype=torch.float64, grad_fn=<MeanBackward1>)\n",
            "Loss at iteration 14 is tensor([85.5010], dtype=torch.float64, grad_fn=<MeanBackward1>)\n",
            "Loss at iteration 15 is tensor([81.8568], dtype=torch.float64, grad_fn=<MeanBackward1>)\n",
            "Loss at iteration 16 is tensor([78.3683], dtype=torch.float64, grad_fn=<MeanBackward1>)\n",
            "Loss at iteration 17 is tensor([75.0288], dtype=torch.float64, grad_fn=<MeanBackward1>)\n",
            "Loss at iteration 18 is tensor([71.8320], dtype=torch.float64, grad_fn=<MeanBackward1>)\n",
            "Loss at iteration 19 is tensor([68.7718], dtype=torch.float64, grad_fn=<MeanBackward1>)\n",
            "Loss at iteration 20 is tensor([65.8423], dtype=torch.float64, grad_fn=<MeanBackward1>)\n",
            "Loss at iteration 21 is tensor([63.0380], dtype=torch.float64, grad_fn=<MeanBackward1>)\n",
            "Loss at iteration 22 is tensor([60.3535], dtype=torch.float64, grad_fn=<MeanBackward1>)\n",
            "Loss at iteration 23 is tensor([57.7837], dtype=torch.float64, grad_fn=<MeanBackward1>)\n",
            "Loss at iteration 24 is tensor([55.3237], dtype=torch.float64, grad_fn=<MeanBackward1>)\n",
            "Loss at iteration 25 is tensor([52.9688], dtype=torch.float64, grad_fn=<MeanBackward1>)\n",
            "Loss at iteration 26 is tensor([50.7145], dtype=torch.float64, grad_fn=<MeanBackward1>)\n",
            "Loss at iteration 27 is tensor([48.5565], dtype=torch.float64, grad_fn=<MeanBackward1>)\n",
            "Loss at iteration 28 is tensor([46.4907], dtype=torch.float64, grad_fn=<MeanBackward1>)\n",
            "Loss at iteration 29 is tensor([44.5131], dtype=torch.float64, grad_fn=<MeanBackward1>)\n",
            "Loss at iteration 30 is tensor([42.6201], dtype=torch.float64, grad_fn=<MeanBackward1>)\n",
            "Loss at iteration 31 is tensor([40.8079], dtype=torch.float64, grad_fn=<MeanBackward1>)\n",
            "Loss at iteration 32 is tensor([39.0732], dtype=torch.float64, grad_fn=<MeanBackward1>)\n",
            "Loss at iteration 33 is tensor([37.4125], dtype=torch.float64, grad_fn=<MeanBackward1>)\n",
            "Loss at iteration 34 is tensor([35.8228], dtype=torch.float64, grad_fn=<MeanBackward1>)\n",
            "Loss at iteration 35 is tensor([34.3011], dtype=torch.float64, grad_fn=<MeanBackward1>)\n",
            "Loss at iteration 36 is tensor([32.8443], dtype=torch.float64, grad_fn=<MeanBackward1>)\n",
            "Loss at iteration 37 is tensor([31.4498], dtype=torch.float64, grad_fn=<MeanBackward1>)\n",
            "Loss at iteration 38 is tensor([30.1149], dtype=torch.float64, grad_fn=<MeanBackward1>)\n",
            "Loss at iteration 39 is tensor([28.8370], dtype=torch.float64, grad_fn=<MeanBackward1>)\n",
            "Loss at iteration 40 is tensor([27.6137], dtype=torch.float64, grad_fn=<MeanBackward1>)\n",
            "Loss at iteration 41 is tensor([26.4426], dtype=torch.float64, grad_fn=<MeanBackward1>)\n",
            "Loss at iteration 42 is tensor([25.3216], dtype=torch.float64, grad_fn=<MeanBackward1>)\n",
            "Loss at iteration 43 is tensor([24.2485], dtype=torch.float64, grad_fn=<MeanBackward1>)\n",
            "Loss at iteration 44 is tensor([23.2212], dtype=torch.float64, grad_fn=<MeanBackward1>)\n",
            "Loss at iteration 45 is tensor([22.2379], dtype=torch.float64, grad_fn=<MeanBackward1>)\n",
            "Loss at iteration 46 is tensor([21.2965], dtype=torch.float64, grad_fn=<MeanBackward1>)\n",
            "Loss at iteration 47 is tensor([20.3954], dtype=torch.float64, grad_fn=<MeanBackward1>)\n",
            "Loss at iteration 48 is tensor([19.5327], dtype=torch.float64, grad_fn=<MeanBackward1>)\n",
            "Loss at iteration 49 is tensor([18.7069], dtype=torch.float64, grad_fn=<MeanBackward1>)\n",
            "Loss at iteration 50 is tensor([17.9164], dtype=torch.float64, grad_fn=<MeanBackward1>)\n",
            "Loss at iteration 51 is tensor([17.1597], dtype=torch.float64, grad_fn=<MeanBackward1>)\n",
            "Loss at iteration 52 is tensor([16.4353], dtype=torch.float64, grad_fn=<MeanBackward1>)\n",
            "Loss at iteration 53 is tensor([15.7418], dtype=torch.float64, grad_fn=<MeanBackward1>)\n",
            "Loss at iteration 54 is tensor([15.0780], dtype=torch.float64, grad_fn=<MeanBackward1>)\n",
            "Loss at iteration 55 is tensor([14.4425], dtype=torch.float64, grad_fn=<MeanBackward1>)\n",
            "Loss at iteration 56 is tensor([13.8342], dtype=torch.float64, grad_fn=<MeanBackward1>)\n",
            "Loss at iteration 57 is tensor([13.2518], dtype=torch.float64, grad_fn=<MeanBackward1>)\n",
            "Loss at iteration 58 is tensor([12.6944], dtype=torch.float64, grad_fn=<MeanBackward1>)\n",
            "Loss at iteration 59 is tensor([12.1608], dtype=torch.float64, grad_fn=<MeanBackward1>)\n",
            "Loss at iteration 60 is tensor([11.6499], dtype=torch.float64, grad_fn=<MeanBackward1>)\n",
            "Loss at iteration 61 is tensor([11.1609], dtype=torch.float64, grad_fn=<MeanBackward1>)\n",
            "Loss at iteration 62 is tensor([10.6928], dtype=torch.float64, grad_fn=<MeanBackward1>)\n",
            "Loss at iteration 63 is tensor([10.2447], dtype=torch.float64, grad_fn=<MeanBackward1>)\n",
            "Loss at iteration 64 is tensor([9.8157], dtype=torch.float64, grad_fn=<MeanBackward1>)\n",
            "Loss at iteration 65 is tensor([9.4051], dtype=torch.float64, grad_fn=<MeanBackward1>)\n",
            "Loss at iteration 66 is tensor([9.0120], dtype=torch.float64, grad_fn=<MeanBackward1>)\n",
            "Loss at iteration 67 is tensor([8.6356], dtype=torch.float64, grad_fn=<MeanBackward1>)\n",
            "Loss at iteration 68 is tensor([8.2754], dtype=torch.float64, grad_fn=<MeanBackward1>)\n",
            "Loss at iteration 69 is tensor([7.9306], dtype=torch.float64, grad_fn=<MeanBackward1>)\n",
            "Loss at iteration 70 is tensor([7.6005], dtype=torch.float64, grad_fn=<MeanBackward1>)\n",
            "Loss at iteration 71 is tensor([7.2845], dtype=torch.float64, grad_fn=<MeanBackward1>)\n",
            "Loss at iteration 72 is tensor([6.9820], dtype=torch.float64, grad_fn=<MeanBackward1>)\n",
            "Loss at iteration 73 is tensor([6.6924], dtype=torch.float64, grad_fn=<MeanBackward1>)\n",
            "Loss at iteration 74 is tensor([6.4152], dtype=torch.float64, grad_fn=<MeanBackward1>)\n",
            "Loss at iteration 75 is tensor([6.1498], dtype=torch.float64, grad_fn=<MeanBackward1>)\n",
            "Loss at iteration 76 is tensor([5.8958], dtype=torch.float64, grad_fn=<MeanBackward1>)\n",
            "Loss at iteration 77 is tensor([5.6526], dtype=torch.float64, grad_fn=<MeanBackward1>)\n",
            "Loss at iteration 78 is tensor([5.4198], dtype=torch.float64, grad_fn=<MeanBackward1>)\n",
            "Loss at iteration 79 is tensor([5.1970], dtype=torch.float64, grad_fn=<MeanBackward1>)\n",
            "Loss at iteration 80 is tensor([4.9837], dtype=torch.float64, grad_fn=<MeanBackward1>)\n",
            "Loss at iteration 81 is tensor([4.7795], dtype=torch.float64, grad_fn=<MeanBackward1>)\n",
            "Loss at iteration 82 is tensor([4.5840], dtype=torch.float64, grad_fn=<MeanBackward1>)\n",
            "Loss at iteration 83 is tensor([4.3969], dtype=torch.float64, grad_fn=<MeanBackward1>)\n",
            "Loss at iteration 84 is tensor([4.2177], dtype=torch.float64, grad_fn=<MeanBackward1>)\n",
            "Loss at iteration 85 is tensor([4.0462], dtype=torch.float64, grad_fn=<MeanBackward1>)\n",
            "Loss at iteration 86 is tensor([3.8821], dtype=torch.float64, grad_fn=<MeanBackward1>)\n",
            "Loss at iteration 87 is tensor([3.7249], dtype=torch.float64, grad_fn=<MeanBackward1>)\n",
            "Loss at iteration 88 is tensor([3.5745], dtype=torch.float64, grad_fn=<MeanBackward1>)\n",
            "Loss at iteration 89 is tensor([3.4305], dtype=torch.float64, grad_fn=<MeanBackward1>)\n",
            "Loss at iteration 90 is tensor([3.2926], dtype=torch.float64, grad_fn=<MeanBackward1>)\n",
            "Loss at iteration 91 is tensor([3.1607], dtype=torch.float64, grad_fn=<MeanBackward1>)\n",
            "Loss at iteration 92 is tensor([3.0344], dtype=torch.float64, grad_fn=<MeanBackward1>)\n",
            "Loss at iteration 93 is tensor([2.9134], dtype=torch.float64, grad_fn=<MeanBackward1>)\n",
            "Loss at iteration 94 is tensor([2.7977], dtype=torch.float64, grad_fn=<MeanBackward1>)\n",
            "Loss at iteration 95 is tensor([2.6869], dtype=torch.float64, grad_fn=<MeanBackward1>)\n",
            "Loss at iteration 96 is tensor([2.5808], dtype=torch.float64, grad_fn=<MeanBackward1>)\n",
            "Loss at iteration 97 is tensor([2.4792], dtype=torch.float64, grad_fn=<MeanBackward1>)\n",
            "Loss at iteration 98 is tensor([2.3820], dtype=torch.float64, grad_fn=<MeanBackward1>)\n",
            "Loss at iteration 99 is tensor([2.2890], dtype=torch.float64, grad_fn=<MeanBackward1>)\n"
          ],
          "name": "stdout"
        }
      ]
    },
    {
      "cell_type": "code",
      "metadata": {
        "id": "k7bo6MLQF_gl",
        "colab_type": "code",
        "colab": {
          "base_uri": "https://localhost:8080/",
          "height": 283
        },
        "outputId": "00783468-e31f-4e3b-90d9-fd64d0c78333"
      },
      "source": [
        "plt.plot(np.arange(0,100),history,'g-')"
      ],
      "execution_count": 178,
      "outputs": [
        {
          "output_type": "execute_result",
          "data": {
            "text/plain": [
              "[<matplotlib.lines.Line2D at 0x7fb1b74a6128>]"
            ]
          },
          "metadata": {
            "tags": []
          },
          "execution_count": 178
        },
        {
          "output_type": "display_data",
          "data": {
            "image/png": "[encoded data removed]",
            "text/plain": [
              "<Figure size 432x288 with 1 Axes>"
            ]
          },
          "metadata": {
            "tags": [],
            "needs_background": "light"
          }
        }
      ]
    },
    {
      "cell_type": "code",
      "metadata": {
        "id": "o-v_VR9fGlkD",
        "colab_type": "code",
        "colab": {}
      },
      "source": [
        ""
      ],
      "execution_count": null,
      "outputs": []
    }
  ]
}