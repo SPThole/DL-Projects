{
  "nbformat": 4,
  "nbformat_minor": 0,
  "metadata": {
    "colab": {
      "name": "spacy_tutorial.ipynb",
      "provenance": [],
      "authorship_tag": "ABX9TyPHMs+Mchls03Hks4cZjSku",
      "include_colab_link": true
    },
    "kernelspec": {
      "name": "python3",
      "display_name": "Python 3"
    }
  },
  "cells": [
    {
      "cell_type": "markdown",
      "metadata": {
        "id": "view-in-github",
        "colab_type": "text"
      },
      "source": [
        "<a href=\"https://colab.research.google.com/github/SPThole/pyTrch/blob/master/spacy_tutorial.ipynb\" target=\"_parent\"><img src=\"https://colab.research.google.com/assets/colab-badge.svg\" alt=\"Open In Colab\"/></a>"
      ]
    },
    {
      "cell_type": "code",
      "metadata": {
        "id": "5BYXpws6y48p",
        "colab_type": "code",
        "colab": {
          "base_uri": "https://localhost:8080/",
          "height": 373
        },
        "outputId": "a668919d-4d14-49b7-eb78-9f4ebcf63042"
      },
      "source": [
        "!pip install -U spacy"
      ],
      "execution_count": 1,
      "outputs": [
        {
          "output_type": "stream",
          "text": [
            "Requirement already up-to-date: spacy in /usr/local/lib/python3.6/dist-packages (2.3.2)\n",
            "Requirement already satisfied, skipping upgrade: thinc==7.4.1 in /usr/local/lib/python3.6/dist-packages (from spacy) (7.4.1)\n",
            "Requirement already satisfied, skipping upgrade: murmurhash<1.1.0,>=0.28.0 in /usr/local/lib/python3.6/dist-packages (from spacy) (1.0.2)\n",
            "Requirement already satisfied, skipping upgrade: srsly<1.1.0,>=1.0.2 in /usr/local/lib/python3.6/dist-packages (from spacy) (1.0.2)\n",
            "Requirement already satisfied, skipping upgrade: catalogue<1.1.0,>=0.0.7 in /usr/local/lib/python3.6/dist-packages (from spacy) (1.0.0)\n",
            "Requirement already satisfied, skipping upgrade: cymem<2.1.0,>=2.0.2 in /usr/local/lib/python3.6/dist-packages (from spacy) (2.0.3)\n",
            "Requirement already satisfied, skipping upgrade: requests<3.0.0,>=2.13.0 in /usr/local/lib/python3.6/dist-packages (from spacy) (2.23.0)\n",
            "Requirement already satisfied, skipping upgrade: tqdm<5.0.0,>=4.38.0 in /usr/local/lib/python3.6/dist-packages (from spacy) (4.41.1)\n",
            "Requirement already satisfied, skipping upgrade: plac<1.2.0,>=0.9.6 in /usr/local/lib/python3.6/dist-packages (from spacy) (1.1.3)\n",
            "Requirement already satisfied, skipping upgrade: preshed<3.1.0,>=3.0.2 in /usr/local/lib/python3.6/dist-packages (from spacy) (3.0.2)\n",
            "Requirement already satisfied, skipping upgrade: wasabi<1.1.0,>=0.4.0 in /usr/local/lib/python3.6/dist-packages (from spacy) (0.8.0)\n",
            "Requirement already satisfied, skipping upgrade: blis<0.5.0,>=0.4.0 in /usr/local/lib/python3.6/dist-packages (from spacy) (0.4.1)\n",
            "Requirement already satisfied, skipping upgrade: numpy>=1.15.0 in /usr/local/lib/python3.6/dist-packages (from spacy) (1.18.5)\n",
            "Requirement already satisfied, skipping upgrade: setuptools in /usr/local/lib/python3.6/dist-packages (from spacy) (50.3.0)\n",
            "Requirement already satisfied, skipping upgrade: importlib-metadata>=0.20; python_version < \"3.8\" in /usr/local/lib/python3.6/dist-packages (from catalogue<1.1.0,>=0.0.7->spacy) (1.7.0)\n",
            "Requirement already satisfied, skipping upgrade: idna<3,>=2.5 in /usr/local/lib/python3.6/dist-packages (from requests<3.0.0,>=2.13.0->spacy) (2.10)\n",
            "Requirement already satisfied, skipping upgrade: urllib3!=1.25.0,!=1.25.1,<1.26,>=1.21.1 in /usr/local/lib/python3.6/dist-packages (from requests<3.0.0,>=2.13.0->spacy) (1.24.3)\n",
            "Requirement already satisfied, skipping upgrade: chardet<4,>=3.0.2 in /usr/local/lib/python3.6/dist-packages (from requests<3.0.0,>=2.13.0->spacy) (3.0.4)\n",
            "Requirement already satisfied, skipping upgrade: certifi>=2017.4.17 in /usr/local/lib/python3.6/dist-packages (from requests<3.0.0,>=2.13.0->spacy) (2020.6.20)\n",
            "Requirement already satisfied, skipping upgrade: zipp>=0.5 in /usr/local/lib/python3.6/dist-packages (from importlib-metadata>=0.20; python_version < \"3.8\"->catalogue<1.1.0,>=0.0.7->spacy) (3.1.0)\n"
          ],
          "name": "stdout"
        }
      ]
    },
    {
      "cell_type": "code",
      "metadata": {
        "id": "-gKsbXwyzTIW",
        "colab_type": "code",
        "colab": {
          "base_uri": "https://localhost:8080/",
          "height": 70
        },
        "outputId": "c099a363-61d5-4f5d-a45d-adfa4f06e4a4"
      },
      "source": [
        "import en_core_web_sm as model\n",
        "from spacy.lang.en import English\n",
        "import spacy"
      ],
      "execution_count": 2,
      "outputs": [
        {
          "output_type": "stream",
          "text": [
            "/usr/local/lib/python3.6/dist-packages/spacy/util.py:275: UserWarning: [W031] Model 'en_core_web_sm' (2.2.5) requires spaCy v2.2 and is incompatible with the current spaCy version (2.3.2). This may lead to unexpected results or runtime errors. To resolve this, download a newer compatible model or retrain your custom model with the current spaCy version. For more details and available updates, run: python -m spacy validate\n",
            "  warnings.warn(warn_msg)\n"
          ],
          "name": "stderr"
        }
      ]
    },
    {
      "cell_type": "code",
      "metadata": {
        "id": "9OF5qfgU0fvU",
        "colab_type": "code",
        "colab": {
          "base_uri": "https://localhost:8080/",
          "height": 70
        },
        "outputId": "bb3d3052-3c3f-4e25-9f1e-39b0edcabd77"
      },
      "source": [
        "nlp= model.load()"
      ],
      "execution_count": 3,
      "outputs": [
        {
          "output_type": "stream",
          "text": [
            "/usr/local/lib/python3.6/dist-packages/spacy/util.py:275: UserWarning: [W031] Model 'en_core_web_sm' (2.2.5) requires spaCy v2.2 and is incompatible with the current spaCy version (2.3.2). This may lead to unexpected results or runtime errors. To resolve this, download a newer compatible model or retrain your custom model with the current spaCy version. For more details and available updates, run: python -m spacy validate\n",
            "  warnings.warn(warn_msg)\n"
          ],
          "name": "stderr"
        }
      ]
    },
    {
      "cell_type": "code",
      "metadata": {
        "id": "tL4xNd-T0iWV",
        "colab_type": "code",
        "colab": {}
      },
      "source": [
        "text=\"\"\"For years, the foundations of cancer treatment were surgery, chemotherapy, and radiation therapy. Over the last two decades, targeted therapies like imatinib (Gleevec®)  and trastuzumab (Herceptin®) —drugs that target cancer cells by homing in on specific molecular changes seen primarily in those cells—have also cemented themselves as standard treatments for many cancers.\n",
        "\n",
        "But over the past several years, immunotherapy—therapies that enlist and strengthen the power of a patient's immune system to attack tumors—has emerged as what many in the cancer community now call the \"fifth pillar\" of cancer treatment.\n",
        "\n",
        "ON THIS PAGE\n",
        "A Tipping Point in Clinical Development\n",
        "A \"Living Drug\"\n",
        "A Possible Option Where None Had Existed\n",
        "Understanding, Managing Side Effects\n",
        "New Target Antigens for CAR T Cells\n",
        "Expanding CAR T Cells to Solid Tumors?\n",
        "Evolution of CAR T-Cell Therapies\n",
        "A Tipping Point in Clinical Development\n",
        "A rapidly emerging immunotherapy approach is called adoptive cell transfer (ACT): collecting and using patients' own immune cells to treat their cancer. There are several types of ACT (see the box below, titled \"ACT: TILs, TCRs, and CARs\"), but, thus far, the one that has advanced the furthest in clinical development is called CAR T-cell therapy.\n",
        "\n",
        "Until recently, the use of CAR T-cell therapy has been restricted to small clinical trials, largely in patients with advanced blood cancers. But these treatments have nevertheless captured the attention of researchers and the public alike because of the remarkable responses they have produced in some patients—both children and adults—for whom all other treatments had stopped working.\"\"\"\n"
      ],
      "execution_count": 4,
      "outputs": []
    },
    {
      "cell_type": "code",
      "metadata": {
        "id": "Ip1wsTgB0t2u",
        "colab_type": "code",
        "colab": {}
      },
      "source": [
        "doc= nlp(text)"
      ],
      "execution_count": 5,
      "outputs": []
    },
    {
      "cell_type": "code",
      "metadata": {
        "id": "mKGziNFc0zvU",
        "colab_type": "code",
        "colab": {
          "base_uri": "https://localhost:8080/",
          "height": 1000
        },
        "outputId": "e082a352-2a86-4011-e149-7e73c3ffb57d"
      },
      "source": [
        "[(token.text,token.pos_,token.dep_,token.head.text) for token in doc]"
      ],
      "execution_count": 6,
      "outputs": [
        {
          "output_type": "execute_result",
          "data": {
            "text/plain": [
              "[('For', 'ADP', 'prep', 'were'),\n",
              " ('years', 'NOUN', 'pobj', 'For'),\n",
              " (',', 'PUNCT', 'punct', 'were'),\n",
              " ('the', 'DET', 'det', 'foundations'),\n",
              " ('foundations', 'NOUN', 'nsubj', 'were'),\n",
              " ('of', 'ADP', 'prep', 'foundations'),\n",
              " ('cancer', 'NOUN', 'compound', 'treatment'),\n",
              " ('treatment', 'NOUN', 'pobj', 'of'),\n",
              " ('were', 'AUX', 'ROOT', 'were'),\n",
              " ('surgery', 'NOUN', 'attr', 'were'),\n",
              " (',', 'PUNCT', 'punct', 'surgery'),\n",
              " ('chemotherapy', 'NOUN', 'conj', 'surgery'),\n",
              " (',', 'PUNCT', 'punct', 'chemotherapy'),\n",
              " ('and', 'CCONJ', 'cc', 'chemotherapy'),\n",
              " ('radiation', 'NOUN', 'compound', 'therapy'),\n",
              " ('therapy', 'NOUN', 'conj', 'chemotherapy'),\n",
              " ('.', 'PUNCT', 'punct', 'were'),\n",
              " ('Over', 'ADP', 'prep', 'therapies'),\n",
              " ('the', 'DET', 'det', 'decades'),\n",
              " ('last', 'ADJ', 'amod', 'decades'),\n",
              " ('two', 'NUM', 'nummod', 'decades'),\n",
              " ('decades', 'NOUN', 'pobj', 'Over'),\n",
              " (',', 'PUNCT', 'punct', 'therapies'),\n",
              " ('targeted', 'VERB', 'amod', 'therapies'),\n",
              " ('therapies', 'NOUN', 'ROOT', 'therapies'),\n",
              " ('like', 'SCONJ', 'prep', 'therapies'),\n",
              " ('imatinib', 'PROPN', 'pobj', 'like'),\n",
              " ('(', 'PUNCT', 'punct', 'imatinib'),\n",
              " ('Gleevec', 'PROPN', 'appos', 'imatinib'),\n",
              " ('®', 'PUNCT', 'punct', 'imatinib'),\n",
              " (')', 'PUNCT', 'punct', 'imatinib'),\n",
              " (' ', 'SPACE', '', ')'),\n",
              " ('and', 'CCONJ', 'cc', 'imatinib'),\n",
              " ('trastuzumab', 'NOUN', 'conj', 'imatinib'),\n",
              " ('(', 'PUNCT', 'punct', 'trastuzumab'),\n",
              " ('Herceptin', 'PROPN', 'compound', '®'),\n",
              " ('®', 'PUNCT', 'ROOT', '®'),\n",
              " (')', 'PUNCT', 'punct', '®'),\n",
              " ('—', 'PUNCT', 'punct', 'drugs'),\n",
              " ('drugs', 'NOUN', 'nsubj', 'cemented'),\n",
              " ('that', 'DET', 'nsubj', 'target'),\n",
              " ('target', 'VERB', 'relcl', 'drugs'),\n",
              " ('cancer', 'NOUN', 'compound', 'cells'),\n",
              " ('cells', 'NOUN', 'dobj', 'target'),\n",
              " ('by', 'ADP', 'prep', 'target'),\n",
              " ('homing', 'VERB', 'pcomp', 'by'),\n",
              " ('in', 'ADP', 'prt', 'homing'),\n",
              " ('on', 'ADP', 'prep', 'homing'),\n",
              " ('specific', 'ADJ', 'amod', 'changes'),\n",
              " ('molecular', 'ADJ', 'amod', 'changes'),\n",
              " ('changes', 'NOUN', 'pobj', 'on'),\n",
              " ('seen', 'VERB', 'acl', 'changes'),\n",
              " ('primarily', 'ADV', 'advmod', 'seen'),\n",
              " ('in', 'ADP', 'prep', 'seen'),\n",
              " ('those', 'DET', 'det', 'cells'),\n",
              " ('cells', 'NOUN', 'pobj', 'in'),\n",
              " ('—', 'PUNCT', 'punct', 'drugs'),\n",
              " ('have', 'AUX', 'aux', 'cemented'),\n",
              " ('also', 'ADV', 'advmod', 'cemented'),\n",
              " ('cemented', 'VERB', 'ROOT', 'cemented'),\n",
              " ('themselves', 'PRON', 'dobj', 'cemented'),\n",
              " ('as', 'SCONJ', 'prep', 'cemented'),\n",
              " ('standard', 'ADJ', 'amod', 'treatments'),\n",
              " ('treatments', 'NOUN', 'pobj', 'as'),\n",
              " ('for', 'ADP', 'prep', 'treatments'),\n",
              " ('many', 'ADJ', 'amod', 'cancers'),\n",
              " ('cancers', 'NOUN', 'pobj', 'for'),\n",
              " ('.', 'PUNCT', 'punct', 'cemented'),\n",
              " ('\\n\\n', 'SPACE', '', '.'),\n",
              " ('But', 'CCONJ', 'cc', 'therapies'),\n",
              " ('over', 'ADP', 'prep', 'therapies'),\n",
              " ('the', 'DET', 'det', 'years'),\n",
              " ('past', 'ADJ', 'amod', 'years'),\n",
              " ('several', 'ADJ', 'amod', 'years'),\n",
              " ('years', 'NOUN', 'pobj', 'over'),\n",
              " (',', 'PUNCT', 'punct', 'therapies'),\n",
              " ('immunotherapy', 'NOUN', 'nsubj', 'therapies'),\n",
              " ('—', 'PUNCT', 'punct', 'immunotherapy'),\n",
              " ('therapies', 'NOUN', 'nsubj', 'emerged'),\n",
              " ('that', 'DET', 'nsubj', 'enlist'),\n",
              " ('enlist', 'VERB', 'relcl', 'therapies'),\n",
              " ('and', 'CCONJ', 'cc', 'enlist'),\n",
              " ('strengthen', 'VERB', 'conj', 'enlist'),\n",
              " ('the', 'DET', 'det', 'power'),\n",
              " ('power', 'NOUN', 'dobj', 'strengthen'),\n",
              " ('of', 'ADP', 'prep', 'power'),\n",
              " ('a', 'DET', 'det', 'patient'),\n",
              " ('patient', 'NOUN', 'poss', 'system'),\n",
              " (\"'s\", 'PART', 'case', 'patient'),\n",
              " ('immune', 'ADJ', 'amod', 'system'),\n",
              " ('system', 'NOUN', 'pobj', 'of'),\n",
              " ('to', 'PART', 'aux', 'attack'),\n",
              " ('attack', 'VERB', 'advcl', 'strengthen'),\n",
              " ('tumors', 'NOUN', 'dobj', 'attack'),\n",
              " ('—', 'PUNCT', 'punct', 'therapies'),\n",
              " ('has', 'AUX', 'aux', 'emerged'),\n",
              " ('emerged', 'VERB', 'ROOT', 'emerged'),\n",
              " ('as', 'SCONJ', 'prep', 'emerged'),\n",
              " ('what', 'PRON', 'det', 'many'),\n",
              " ('many', 'ADJ', 'nsubj', 'call'),\n",
              " ('in', 'ADP', 'prep', 'many'),\n",
              " ('the', 'DET', 'det', 'community'),\n",
              " ('cancer', 'NOUN', 'compound', 'community'),\n",
              " ('community', 'NOUN', 'pobj', 'in'),\n",
              " ('now', 'ADV', 'advmod', 'call'),\n",
              " ('call', 'VERB', 'pcomp', 'as'),\n",
              " ('the', 'DET', 'det', 'pillar'),\n",
              " ('\"', 'PUNCT', 'punct', 'pillar'),\n",
              " ('fifth', 'ADJ', 'amod', 'pillar'),\n",
              " ('pillar', 'NOUN', 'oprd', 'call'),\n",
              " ('\"', 'PUNCT', 'punct', 'pillar'),\n",
              " ('of', 'ADP', 'prep', 'pillar'),\n",
              " ('cancer', 'NOUN', 'compound', 'treatment'),\n",
              " ('treatment', 'NOUN', 'pobj', 'of'),\n",
              " ('.', 'PUNCT', 'punct', 'emerged'),\n",
              " ('\\n\\n', 'SPACE', '', '.'),\n",
              " ('ON', 'ADP', 'ROOT', 'ON'),\n",
              " ('THIS', 'DET', 'compound', 'PAGE'),\n",
              " ('PAGE', 'NOUN', 'pobj', 'ON'),\n",
              " ('\\n', 'SPACE', '', 'PAGE'),\n",
              " ('A', 'DET', 'det', 'Point'),\n",
              " ('Tipping', 'PROPN', 'compound', 'Point'),\n",
              " ('Point', 'PROPN', 'ROOT', 'Point'),\n",
              " ('in', 'ADP', 'prep', 'Point'),\n",
              " ('Clinical', 'PROPN', 'compound', 'Development'),\n",
              " ('Development', 'PROPN', 'pobj', 'in'),\n",
              " ('\\n', 'SPACE', '', 'Development'),\n",
              " ('A', 'PROPN', 'det', 'Drug'),\n",
              " ('\"', 'PUNCT', 'punct', 'Drug'),\n",
              " ('Living', 'PROPN', 'compound', 'Drug'),\n",
              " ('Drug', 'NOUN', 'ROOT', 'Drug'),\n",
              " ('\"', 'PUNCT', 'punct', 'Drug'),\n",
              " ('\\n', 'SPACE', '', '\"'),\n",
              " ('A', 'DET', 'det', 'Option'),\n",
              " ('Possible', 'ADJ', 'amod', 'Option'),\n",
              " ('Option', 'PROPN', 'ROOT', 'Option'),\n",
              " ('Where', 'ADV', 'advmod', 'Existed'),\n",
              " ('None', 'NOUN', 'nsubj', 'Existed'),\n",
              " ('Had', 'AUX', 'aux', 'Existed'),\n",
              " ('Existed', 'VERB', 'relcl', 'Option'),\n",
              " ('\\n', 'SPACE', '', 'Existed'),\n",
              " ('Understanding', 'PROPN', 'dobj', 'Existed'),\n",
              " (',', 'PUNCT', 'punct', 'Understanding'),\n",
              " ('Managing', 'VERB', 'compound', 'Effects'),\n",
              " ('Side', 'PROPN', 'compound', 'Effects'),\n",
              " ('Effects', 'NOUN', 'conj', 'Understanding'),\n",
              " ('\\n', 'SPACE', '', 'Effects'),\n",
              " ('New', 'PROPN', 'compound', 'Antigens'),\n",
              " ('Target', 'PROPN', 'compound', 'Antigens'),\n",
              " ('Antigens', 'PROPN', 'conj', 'Effects'),\n",
              " ('for', 'ADP', 'prep', 'Antigens'),\n",
              " ('CAR', 'NOUN', 'compound', 'Cells'),\n",
              " ('T', 'NOUN', 'compound', 'Cells'),\n",
              " ('Cells', 'PROPN', 'pobj', 'for'),\n",
              " ('\\n', 'SPACE', '', 'Cells'),\n",
              " ('Expanding', 'VERB', 'ROOT', 'Expanding'),\n",
              " ('CAR', 'PROPN', 'compound', 'Cells'),\n",
              " ('T', 'NOUN', 'compound', 'Cells'),\n",
              " ('Cells', 'NOUN', 'dobj', 'Expanding'),\n",
              " ('to', 'ADP', 'prep', 'Expanding'),\n",
              " ('Solid', 'ADJ', 'amod', 'Tumors'),\n",
              " ('Tumors', 'NOUN', 'pobj', 'to'),\n",
              " ('?', 'PUNCT', 'punct', 'Expanding'),\n",
              " ('\\n', 'SPACE', '', '?'),\n",
              " ('Evolution', 'NOUN', 'dobj', 'Expanding'),\n",
              " ('of', 'ADP', 'prep', 'Evolution'),\n",
              " ('CAR', 'PROPN', 'compound', 'Therapies'),\n",
              " ('T', 'PROPN', 'compound', 'Cell'),\n",
              " ('-', 'PUNCT', 'punct', 'Cell'),\n",
              " ('Cell', 'PROPN', 'compound', 'Therapies'),\n",
              " ('Therapies', 'PROPN', 'pobj', 'of'),\n",
              " ('\\n', 'SPACE', '', 'Therapies'),\n",
              " ('A', 'DET', 'det', 'Point'),\n",
              " ('Tipping', 'NOUN', 'compound', 'Point'),\n",
              " ('Point', 'PROPN', 'ROOT', 'Point'),\n",
              " ('in', 'ADP', 'prep', 'Point'),\n",
              " ('Clinical', 'PROPN', 'compound', 'Development'),\n",
              " ('Development', 'PROPN', 'pobj', 'in'),\n",
              " ('\\n', 'SPACE', '', 'Development'),\n",
              " ('A', 'PROPN', 'det', 'approach'),\n",
              " ('rapidly', 'ADV', 'advmod', 'emerging'),\n",
              " ('emerging', 'VERB', 'amod', 'approach'),\n",
              " ('immunotherapy', 'ADJ', 'compound', 'approach'),\n",
              " ('approach', 'NOUN', 'nsubjpass', 'called'),\n",
              " ('is', 'AUX', 'auxpass', 'called'),\n",
              " ('called', 'VERB', 'ROOT', 'called'),\n",
              " ('adoptive', 'ADJ', 'amod', 'transfer'),\n",
              " ('cell', 'NOUN', 'compound', 'transfer'),\n",
              " ('transfer', 'NOUN', 'oprd', 'called'),\n",
              " ('(', 'PUNCT', 'punct', 'transfer'),\n",
              " ('ACT', 'PROPN', 'appos', 'transfer'),\n",
              " (')', 'PUNCT', 'punct', 'transfer'),\n",
              " (':', 'PUNCT', 'punct', 'called'),\n",
              " ('collecting', 'VERB', 'advcl', 'called'),\n",
              " ('and', 'CCONJ', 'cc', 'collecting'),\n",
              " ('using', 'VERB', 'conj', 'collecting'),\n",
              " ('patients', 'NOUN', 'poss', 'cells'),\n",
              " (\"'\", 'PART', 'case', 'patients'),\n",
              " ('own', 'ADJ', 'amod', 'cells'),\n",
              " ('immune', 'ADJ', 'amod', 'cells'),\n",
              " ('cells', 'NOUN', 'dobj', 'using'),\n",
              " ('to', 'PART', 'aux', 'treat'),\n",
              " ('treat', 'VERB', 'xcomp', 'using'),\n",
              " ('their', 'DET', 'poss', 'cancer'),\n",
              " ('cancer', 'NOUN', 'dobj', 'treat'),\n",
              " ('.', 'PUNCT', 'punct', 'called'),\n",
              " ('There', 'PRON', 'expl', 'are'),\n",
              " ('are', 'AUX', 'ROOT', 'are'),\n",
              " ('several', 'ADJ', 'amod', 'types'),\n",
              " ('types', 'NOUN', 'attr', 'are'),\n",
              " ('of', 'ADP', 'prep', 'types'),\n",
              " ('ACT', 'PROPN', 'pobj', 'of'),\n",
              " ('(', 'PUNCT', 'punct', 'see'),\n",
              " ('see', 'VERB', 'parataxis', 'are'),\n",
              " ('the', 'DET', 'det', 'box'),\n",
              " ('box', 'NOUN', 'dobj', 'see'),\n",
              " ('below', 'ADV', 'advmod', 'box'),\n",
              " (',', 'PUNCT', 'punct', 'see'),\n",
              " ('titled', 'VERB', 'conj', 'see'),\n",
              " ('\"', 'PUNCT', 'punct', 'ACT'),\n",
              " ('ACT', 'PROPN', 'oprd', 'titled'),\n",
              " (':', 'PUNCT', 'punct', 'ACT'),\n",
              " ('TILs', 'NOUN', 'appos', 'ACT'),\n",
              " (',', 'PUNCT', 'punct', 'TILs'),\n",
              " ('TCRs', 'NOUN', 'conj', 'TILs'),\n",
              " (',', 'PUNCT', 'punct', 'TCRs'),\n",
              " ('and', 'CCONJ', 'cc', 'TCRs'),\n",
              " ('CARs', 'PROPN', 'conj', 'TCRs'),\n",
              " ('\"', 'PUNCT', 'punct', 'ACT'),\n",
              " (')', 'PUNCT', 'punct', 'titled'),\n",
              " (',', 'PUNCT', 'punct', 'see'),\n",
              " ('but', 'CCONJ', 'cc', 'see'),\n",
              " (',', 'PUNCT', 'punct', 'see'),\n",
              " ('thus', 'ADV', 'advmod', 'far'),\n",
              " ('far', 'ADV', 'advmod', 'one'),\n",
              " (',', 'PUNCT', 'punct', 'far'),\n",
              " ('the', 'DET', 'det', 'one'),\n",
              " ('one', 'NOUN', 'nsubjpass', 'called'),\n",
              " ('that', 'DET', 'nsubj', 'advanced'),\n",
              " ('has', 'AUX', 'aux', 'advanced'),\n",
              " ('advanced', 'VERB', 'relcl', 'one'),\n",
              " ('the', 'DET', 'det', 'furthest'),\n",
              " ('furthest', 'ADJ', 'dobj', 'advanced'),\n",
              " ('in', 'ADP', 'prep', 'advanced'),\n",
              " ('clinical', 'ADJ', 'amod', 'development'),\n",
              " ('development', 'NOUN', 'pobj', 'in'),\n",
              " ('is', 'AUX', 'auxpass', 'called'),\n",
              " ('called', 'VERB', 'conj', 'see'),\n",
              " ('CAR', 'PROPN', 'compound', 'therapy'),\n",
              " ('T', 'PROPN', 'compound', 'cell'),\n",
              " ('-', 'PUNCT', 'punct', 'cell'),\n",
              " ('cell', 'NOUN', 'compound', 'therapy'),\n",
              " ('therapy', 'NOUN', 'oprd', 'called'),\n",
              " ('.', 'PUNCT', 'punct', 'see'),\n",
              " ('\\n\\n', 'SPACE', '', '.'),\n",
              " ('Until', 'ADP', 'prep', 'restricted'),\n",
              " ('recently', 'ADV', 'pcomp', 'Until'),\n",
              " (',', 'PUNCT', 'punct', 'restricted'),\n",
              " ('the', 'DET', 'det', 'use'),\n",
              " ('use', 'NOUN', 'nsubjpass', 'restricted'),\n",
              " ('of', 'ADP', 'prep', 'use'),\n",
              " ('CAR', 'PROPN', 'compound', 'therapy'),\n",
              " ('T', 'PROPN', 'compound', 'cell'),\n",
              " ('-', 'PUNCT', 'punct', 'cell'),\n",
              " ('cell', 'NOUN', 'compound', 'therapy'),\n",
              " ('therapy', 'NOUN', 'pobj', 'of'),\n",
              " ('has', 'AUX', 'aux', 'restricted'),\n",
              " ('been', 'AUX', 'auxpass', 'restricted'),\n",
              " ('restricted', 'VERB', 'ROOT', 'restricted'),\n",
              " ('to', 'ADP', 'prep', 'restricted'),\n",
              " ('small', 'ADJ', 'amod', 'trials'),\n",
              " ('clinical', 'ADJ', 'amod', 'trials'),\n",
              " ('trials', 'NOUN', 'pobj', 'to'),\n",
              " (',', 'PUNCT', 'punct', 'restricted'),\n",
              " ('largely', 'ADV', 'advmod', 'in'),\n",
              " ('in', 'ADP', 'prep', 'restricted'),\n",
              " ('patients', 'NOUN', 'pobj', 'in'),\n",
              " ('with', 'ADP', 'prep', 'patients'),\n",
              " ('advanced', 'ADJ', 'amod', 'cancers'),\n",
              " ('blood', 'NOUN', 'compound', 'cancers'),\n",
              " ('cancers', 'NOUN', 'pobj', 'with'),\n",
              " ('.', 'PUNCT', 'punct', 'restricted'),\n",
              " ('But', 'CCONJ', 'cc', 'captured'),\n",
              " ('these', 'DET', 'det', 'treatments'),\n",
              " ('treatments', 'NOUN', 'nsubj', 'captured'),\n",
              " ('have', 'AUX', 'aux', 'captured'),\n",
              " ('nevertheless', 'ADV', 'advmod', 'captured'),\n",
              " ('captured', 'VERB', 'ROOT', 'captured'),\n",
              " ('the', 'DET', 'det', 'attention'),\n",
              " ('attention', 'NOUN', 'dobj', 'captured'),\n",
              " ('of', 'ADP', 'prep', 'attention'),\n",
              " ('researchers', 'NOUN', 'pobj', 'of'),\n",
              " ('and', 'CCONJ', 'cc', 'researchers'),\n",
              " ('the', 'DET', 'det', 'public'),\n",
              " ('public', 'NOUN', 'conj', 'researchers'),\n",
              " ('alike', 'ADV', 'advmod', 'captured'),\n",
              " ('because', 'SCONJ', 'prep', 'captured'),\n",
              " ('of', 'ADP', 'pcomp', 'because'),\n",
              " ('the', 'DET', 'det', 'responses'),\n",
              " ('remarkable', 'ADJ', 'amod', 'responses'),\n",
              " ('responses', 'NOUN', 'pobj', 'because'),\n",
              " ('they', 'PRON', 'nsubj', 'produced'),\n",
              " ('have', 'AUX', 'aux', 'produced'),\n",
              " ('produced', 'VERB', 'relcl', 'responses'),\n",
              " ('in', 'ADP', 'prep', 'produced'),\n",
              " ('some', 'DET', 'det', 'patients'),\n",
              " ('patients', 'NOUN', 'pobj', 'in'),\n",
              " ('—', 'PUNCT', 'punct', 'patients'),\n",
              " ('both', 'CCONJ', 'preconj', 'children'),\n",
              " ('children', 'NOUN', 'appos', 'patients'),\n",
              " ('and', 'CCONJ', 'cc', 'children'),\n",
              " ('adults', 'NOUN', 'conj', 'children'),\n",
              " ('—', 'PUNCT', 'punct', 'patients'),\n",
              " ('for', 'ADP', 'prep', 'stopped'),\n",
              " ('whom', 'PRON', 'pobj', 'for'),\n",
              " ('all', 'DET', 'det', 'treatments'),\n",
              " ('other', 'ADJ', 'amod', 'treatments'),\n",
              " ('treatments', 'NOUN', 'nsubj', 'stopped'),\n",
              " ('had', 'AUX', 'aux', 'stopped'),\n",
              " ('stopped', 'VERB', 'relcl', 'patients'),\n",
              " ('working', 'VERB', 'xcomp', 'stopped'),\n",
              " ('.', 'PUNCT', 'punct', 'captured')]"
            ]
          },
          "metadata": {
            "tags": []
          },
          "execution_count": 6
        }
      ]
    },
    {
      "cell_type": "code",
      "metadata": {
        "id": "9Rj7TAd109pd",
        "colab_type": "code",
        "colab": {
          "base_uri": "https://localhost:8080/",
          "height": 168
        },
        "outputId": "05d494d4-53b5-4c2b-efd8-083087d01cf5"
      },
      "source": [
        "[(ent.text,ent.label_,spacy.explain(ent.label_)) for ent in doc.ents]"
      ],
      "execution_count": 7,
      "outputs": [
        {
          "output_type": "execute_result",
          "data": {
            "text/plain": [
              "[('years', 'DATE', 'Absolute or relative dates or periods'),\n",
              " ('the last two decades', 'DATE', 'Absolute or relative dates or periods'),\n",
              " ('Gleevec', 'PERSON', 'People, including fictional'),\n",
              " ('Herceptin', 'PERSON', 'People, including fictional'),\n",
              " ('the past several years', 'DATE', 'Absolute or relative dates or periods'),\n",
              " ('fifth', 'ORDINAL', '\"first\", \"second\", etc.'),\n",
              " ('ACT', 'ORG', 'Companies, agencies, institutions, etc.'),\n",
              " ('CAR', 'ORG', 'Companies, agencies, institutions, etc.'),\n",
              " ('CAR', 'ORG', 'Companies, agencies, institutions, etc.')]"
            ]
          },
          "metadata": {
            "tags": []
          },
          "execution_count": 7
        }
      ]
    },
    {
      "cell_type": "code",
      "metadata": {
        "id": "Qxft_Mrd1Qei",
        "colab_type": "code",
        "colab": {}
      },
      "source": [
        "from spacy.matcher import Matcher"
      ],
      "execution_count": 8,
      "outputs": []
    },
    {
      "cell_type": "code",
      "metadata": {
        "id": "Ixpqinw_6o5v",
        "colab_type": "code",
        "colab": {}
      },
      "source": [
        "matcher= Matcher(nlp.vocab)"
      ],
      "execution_count": 9,
      "outputs": []
    },
    {
      "cell_type": "code",
      "metadata": {
        "id": "OITczbqt65RN",
        "colab_type": "code",
        "colab": {}
      },
      "source": [
        "pattern=[{'TEXT':'CAR','POS':'NOUN'},{'TEXT':'T','OP':'?'}]"
      ],
      "execution_count": 10,
      "outputs": []
    },
    {
      "cell_type": "code",
      "metadata": {
        "id": "vSXFzPw77FJ2",
        "colab_type": "code",
        "colab": {}
      },
      "source": [
        "matcher.add(\"CART-matcher\",None,pattern)"
      ],
      "execution_count": 11,
      "outputs": []
    },
    {
      "cell_type": "code",
      "metadata": {
        "id": "1fRLwNF97LhU",
        "colab_type": "code",
        "colab": {}
      },
      "source": [
        "matches=matcher(doc)"
      ],
      "execution_count": 12,
      "outputs": []
    },
    {
      "cell_type": "code",
      "metadata": {
        "id": "0xFzy7o87NdI",
        "colab_type": "code",
        "colab": {
          "base_uri": "https://localhost:8080/",
          "height": 50
        },
        "outputId": "610eaaa8-eb95-44c9-99b6-416c6c9887bc"
      },
      "source": [
        "for _,start,end in matches:\n",
        "  print(doc[start:end].text)"
      ],
      "execution_count": 13,
      "outputs": [
        {
          "output_type": "stream",
          "text": [
            "CAR\n",
            "CAR T\n"
          ],
          "name": "stdout"
        }
      ]
    },
    {
      "cell_type": "code",
      "metadata": {
        "id": "tWLwOlgQ7ot3",
        "colab_type": "code",
        "colab": {}
      },
      "source": [
        "hash_id= nlp.vocab.strings[\"Coffee\"]\n",
        "#string_from_hash= nlp.vocab.strings[hash_id]"
      ],
      "execution_count": 14,
      "outputs": []
    },
    {
      "cell_type": "code",
      "metadata": {
        "id": "EtppS3Hm-c5s",
        "colab_type": "code",
        "colab": {
          "base_uri": "https://localhost:8080/",
          "height": 34
        },
        "outputId": "e435a643-fbed-4106-d924-c2762a31eec4"
      },
      "source": [
        "hash_id"
      ],
      "execution_count": 15,
      "outputs": [
        {
          "output_type": "execute_result",
          "data": {
            "text/plain": [
              "3474706295102377020"
            ]
          },
          "metadata": {
            "tags": []
          },
          "execution_count": 15
        }
      ]
    },
    {
      "cell_type": "code",
      "metadata": {
        "id": "e5yRu5cz_OcC",
        "colab_type": "code",
        "colab": {}
      },
      "source": [
        "lexeme= nlp.vocab[\"$\"] # doc looks for the tokens in the lexemes, lexemes for hash tables"
      ],
      "execution_count": 30,
      "outputs": []
    },
    {
      "cell_type": "code",
      "metadata": {
        "id": "H2pJXY2v_UeZ",
        "colab_type": "code",
        "colab": {
          "base_uri": "https://localhost:8080/",
          "height": 34
        },
        "outputId": "0434c1bf-79c4-4243-e7fd-bf523ab8b967"
      },
      "source": [
        "lexeme.is_currency"
      ],
      "execution_count": 31,
      "outputs": [
        {
          "output_type": "execute_result",
          "data": {
            "text/plain": [
              "True"
            ]
          },
          "metadata": {
            "tags": []
          },
          "execution_count": 31
        }
      ]
    },
    {
      "cell_type": "code",
      "metadata": {
        "id": "23KRU4IyAdOJ",
        "colab_type": "code",
        "colab": {}
      },
      "source": [
        ""
      ],
      "execution_count": null,
      "outputs": []
    }
  ]
}