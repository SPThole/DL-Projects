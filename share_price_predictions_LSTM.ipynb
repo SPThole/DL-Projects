{
  "nbformat": 4,
  "nbformat_minor": 0,
  "metadata": {
    "colab": {
      "name": "share_price_predictions_LSTM.ipynb",
      "provenance": [],
      "collapsed_sections": [],
      "authorship_tag": "ABX9TyNuyLlzXE6B1ZgkSGJFp6Zf",
      "include_colab_link": true
    },
    "kernelspec": {
      "name": "python3",
      "display_name": "Python 3"
    },
    "accelerator": "GPU",
    "widgets": {
      "application/vnd.jupyter.widget-state+json": {
        "313dd341f0a84041bdb735a8a02b8685": {
          "model_module": "@jupyter-widgets/controls",
          "model_name": "HBoxModel",
          "state": {
            "_view_name": "HBoxView",
            "_dom_classes": [],
            "_model_name": "HBoxModel",
            "_view_module": "@jupyter-widgets/controls",
            "_model_module_version": "1.5.0",
            "_view_count": null,
            "_view_module_version": "1.5.0",
            "box_style": "",
            "layout": "IPY_MODEL_fa3b91de39aa41c18b777e7f823c9e35",
            "_model_module": "@jupyter-widgets/controls",
            "children": [
              "IPY_MODEL_717c43c9efaf4f939be60ba47387812e",
              "IPY_MODEL_728795cad9cc412c96c04d908abd9c9d"
            ]
          }
        },
        "fa3b91de39aa41c18b777e7f823c9e35": {
          "model_module": "@jupyter-widgets/base",
          "model_name": "LayoutModel",
          "state": {
            "_view_name": "LayoutView",
            "grid_template_rows": null,
            "right": null,
            "justify_content": null,
            "_view_module": "@jupyter-widgets/base",
            "overflow": null,
            "_model_module_version": "1.2.0",
            "_view_count": null,
            "flex_flow": null,
            "width": null,
            "min_width": null,
            "border": null,
            "align_items": null,
            "bottom": null,
            "_model_module": "@jupyter-widgets/base",
            "top": null,
            "grid_column": null,
            "overflow_y": null,
            "overflow_x": null,
            "grid_auto_flow": null,
            "grid_area": null,
            "grid_template_columns": null,
            "flex": null,
            "_model_name": "LayoutModel",
            "justify_items": null,
            "grid_row": null,
            "max_height": null,
            "align_content": null,
            "visibility": null,
            "align_self": null,
            "height": null,
            "min_height": null,
            "padding": null,
            "grid_auto_rows": null,
            "grid_gap": null,
            "max_width": null,
            "order": null,
            "_view_module_version": "1.2.0",
            "grid_template_areas": null,
            "object_position": null,
            "object_fit": null,
            "grid_auto_columns": null,
            "margin": null,
            "display": null,
            "left": null
          }
        },
        "717c43c9efaf4f939be60ba47387812e": {
          "model_module": "@jupyter-widgets/controls",
          "model_name": "FloatProgressModel",
          "state": {
            "_view_name": "ProgressView",
            "style": "IPY_MODEL_27614945e6fd412aa5a3ad40cb7ff30e",
            "_dom_classes": [],
            "description": "100%",
            "_model_name": "FloatProgressModel",
            "bar_style": "success",
            "max": 500,
            "_view_module": "@jupyter-widgets/controls",
            "_model_module_version": "1.5.0",
            "value": 500,
            "_view_count": null,
            "_view_module_version": "1.5.0",
            "orientation": "horizontal",
            "min": 0,
            "description_tooltip": null,
            "_model_module": "@jupyter-widgets/controls",
            "layout": "IPY_MODEL_5cc14e93404545c398f3bd1483bc1901"
          }
        },
        "728795cad9cc412c96c04d908abd9c9d": {
          "model_module": "@jupyter-widgets/controls",
          "model_name": "HTMLModel",
          "state": {
            "_view_name": "HTMLView",
            "style": "IPY_MODEL_209f4746822e40458b40e1e97e03c472",
            "_dom_classes": [],
            "description": "",
            "_model_name": "HTMLModel",
            "placeholder": "​",
            "_view_module": "@jupyter-widgets/controls",
            "_model_module_version": "1.5.0",
            "value": " 500/500 [00:16&lt;00:00, 29.60it/s]",
            "_view_count": null,
            "_view_module_version": "1.5.0",
            "description_tooltip": null,
            "_model_module": "@jupyter-widgets/controls",
            "layout": "IPY_MODEL_70863054db954ddabc5c9ce26ab2e31b"
          }
        },
        "27614945e6fd412aa5a3ad40cb7ff30e": {
          "model_module": "@jupyter-widgets/controls",
          "model_name": "ProgressStyleModel",
          "state": {
            "_view_name": "StyleView",
            "_model_name": "ProgressStyleModel",
            "description_width": "initial",
            "_view_module": "@jupyter-widgets/base",
            "_model_module_version": "1.5.0",
            "_view_count": null,
            "_view_module_version": "1.2.0",
            "bar_color": null,
            "_model_module": "@jupyter-widgets/controls"
          }
        },
        "5cc14e93404545c398f3bd1483bc1901": {
          "model_module": "@jupyter-widgets/base",
          "model_name": "LayoutModel",
          "state": {
            "_view_name": "LayoutView",
            "grid_template_rows": null,
            "right": null,
            "justify_content": null,
            "_view_module": "@jupyter-widgets/base",
            "overflow": null,
            "_model_module_version": "1.2.0",
            "_view_count": null,
            "flex_flow": null,
            "width": null,
            "min_width": null,
            "border": null,
            "align_items": null,
            "bottom": null,
            "_model_module": "@jupyter-widgets/base",
            "top": null,
            "grid_column": null,
            "overflow_y": null,
            "overflow_x": null,
            "grid_auto_flow": null,
            "grid_area": null,
            "grid_template_columns": null,
            "flex": null,
            "_model_name": "LayoutModel",
            "justify_items": null,
            "grid_row": null,
            "max_height": null,
            "align_content": null,
            "visibility": null,
            "align_self": null,
            "height": null,
            "min_height": null,
            "padding": null,
            "grid_auto_rows": null,
            "grid_gap": null,
            "max_width": null,
            "order": null,
            "_view_module_version": "1.2.0",
            "grid_template_areas": null,
            "object_position": null,
            "object_fit": null,
            "grid_auto_columns": null,
            "margin": null,
            "display": null,
            "left": null
          }
        },
        "209f4746822e40458b40e1e97e03c472": {
          "model_module": "@jupyter-widgets/controls",
          "model_name": "DescriptionStyleModel",
          "state": {
            "_view_name": "StyleView",
            "_model_name": "DescriptionStyleModel",
            "description_width": "",
            "_view_module": "@jupyter-widgets/base",
            "_model_module_version": "1.5.0",
            "_view_count": null,
            "_view_module_version": "1.2.0",
            "_model_module": "@jupyter-widgets/controls"
          }
        },
        "70863054db954ddabc5c9ce26ab2e31b": {
          "model_module": "@jupyter-widgets/base",
          "model_name": "LayoutModel",
          "state": {
            "_view_name": "LayoutView",
            "grid_template_rows": null,
            "right": null,
            "justify_content": null,
            "_view_module": "@jupyter-widgets/base",
            "overflow": null,
            "_model_module_version": "1.2.0",
            "_view_count": null,
            "flex_flow": null,
            "width": null,
            "min_width": null,
            "border": null,
            "align_items": null,
            "bottom": null,
            "_model_module": "@jupyter-widgets/base",
            "top": null,
            "grid_column": null,
            "overflow_y": null,
            "overflow_x": null,
            "grid_auto_flow": null,
            "grid_area": null,
            "grid_template_columns": null,
            "flex": null,
            "_model_name": "LayoutModel",
            "justify_items": null,
            "grid_row": null,
            "max_height": null,
            "align_content": null,
            "visibility": null,
            "align_self": null,
            "height": null,
            "min_height": null,
            "padding": null,
            "grid_auto_rows": null,
            "grid_gap": null,
            "max_width": null,
            "order": null,
            "_view_module_version": "1.2.0",
            "grid_template_areas": null,
            "object_position": null,
            "object_fit": null,
            "grid_auto_columns": null,
            "margin": null,
            "display": null,
            "left": null
          }
        }
      }
    }
  },
  "cells": [
    {
      "cell_type": "markdown",
      "metadata": {
        "id": "view-in-github",
        "colab_type": "text"
      },
      "source": [
        "<a href=\"https://colab.research.google.com/github/SPThole/pyTrch/blob/master/share_price_predictions_LSTM.ipynb\" target=\"_parent\"><img src=\"https://colab.research.google.com/assets/colab-badge.svg\" alt=\"Open In Colab\"/></a>"
      ]
    },
    {
      "cell_type": "code",
      "metadata": {
        "id": "RHEdE48lhVt_",
        "outputId": "a855066c-f943-41f0-a190-f8af97e4b6ec",
        "colab": {
          "base_uri": "https://localhost:8080/",
          "height": 218
        }
      },
      "source": [
        "!pip install yfinance"
      ],
      "execution_count": 1,
      "outputs": [
        {
          "output_type": "stream",
          "text": [
            "Requirement already satisfied: yfinance in /usr/local/lib/python3.6/dist-packages (0.1.54)\n",
            "Requirement already satisfied: pandas>=0.24 in /usr/local/lib/python3.6/dist-packages (from yfinance) (1.1.2)\n",
            "Requirement already satisfied: multitasking>=0.0.7 in /usr/local/lib/python3.6/dist-packages (from yfinance) (0.0.9)\n",
            "Requirement already satisfied: requests>=2.20 in /usr/local/lib/python3.6/dist-packages (from yfinance) (2.23.0)\n",
            "Requirement already satisfied: numpy>=1.15 in /usr/local/lib/python3.6/dist-packages (from yfinance) (1.18.5)\n",
            "Requirement already satisfied: python-dateutil>=2.7.3 in /usr/local/lib/python3.6/dist-packages (from pandas>=0.24->yfinance) (2.8.1)\n",
            "Requirement already satisfied: pytz>=2017.2 in /usr/local/lib/python3.6/dist-packages (from pandas>=0.24->yfinance) (2018.9)\n",
            "Requirement already satisfied: certifi>=2017.4.17 in /usr/local/lib/python3.6/dist-packages (from requests>=2.20->yfinance) (2020.6.20)\n",
            "Requirement already satisfied: idna<3,>=2.5 in /usr/local/lib/python3.6/dist-packages (from requests>=2.20->yfinance) (2.10)\n",
            "Requirement already satisfied: urllib3!=1.25.0,!=1.25.1,<1.26,>=1.21.1 in /usr/local/lib/python3.6/dist-packages (from requests>=2.20->yfinance) (1.24.3)\n",
            "Requirement already satisfied: chardet<4,>=3.0.2 in /usr/local/lib/python3.6/dist-packages (from requests>=2.20->yfinance) (3.0.4)\n",
            "Requirement already satisfied: six>=1.5 in /usr/local/lib/python3.6/dist-packages (from python-dateutil>=2.7.3->pandas>=0.24->yfinance) (1.15.0)\n"
          ],
          "name": "stdout"
        }
      ]
    },
    {
      "cell_type": "code",
      "metadata": {
        "id": "61IYwzzHEwZo"
      },
      "source": [
        "import pandas as pd\n",
        "import torch\n",
        "import matplotlib.pyplot as plt\n",
        "import numpy as np\n",
        "from datetime import date\n",
        "from tqdm.notebook import tqdm\n",
        "import torch.nn as nn\n",
        "import yfinance as yf\n",
        "from sklearn.model_selection import train_test_split\n",
        "from torch.utils.data import Dataset,DataLoader\n",
        "from sklearn.preprocessing import MinMaxScaler\n",
        "\n",
        "%matplotlib inline"
      ],
      "execution_count": 2,
      "outputs": []
    },
    {
      "cell_type": "code",
      "metadata": {
        "id": "Xv-fS6AIaAQs"
      },
      "source": [
        "device = torch.device('cuda') if torch.cuda.is_available() else torch.device('cpu')"
      ],
      "execution_count": 3,
      "outputs": []
    },
    {
      "cell_type": "code",
      "metadata": {
        "id": "ZGI-Jj8cF__l"
      },
      "source": [
        "today_date = date.today()\n",
        "today_date = str(today_date)"
      ],
      "execution_count": 4,
      "outputs": []
    },
    {
      "cell_type": "code",
      "metadata": {
        "id": "eOOBEy4FGn9A"
      },
      "source": [
        "company = 'TSLA'\n",
        "getit = yf.Ticker(company)\n",
        "\n",
        "data = getit.history(period='1y')"
      ],
      "execution_count": 5,
      "outputs": []
    },
    {
      "cell_type": "code",
      "metadata": {
        "id": "KcjuXhuYIflt",
        "outputId": "9a91f06e-ae6b-4047-df41-e2fe1ba8ffd3",
        "colab": {
          "base_uri": "https://localhost:8080/",
          "height": 252
        }
      },
      "source": [
        "#already in date time format\n",
        "data.info()"
      ],
      "execution_count": 6,
      "outputs": [
        {
          "output_type": "stream",
          "text": [
            "<class 'pandas.core.frame.DataFrame'>\n",
            "DatetimeIndex: 253 entries, 2019-10-03 to 2020-10-02\n",
            "Data columns (total 7 columns):\n",
            " #   Column        Non-Null Count  Dtype  \n",
            "---  ------        --------------  -----  \n",
            " 0   Open          253 non-null    float64\n",
            " 1   High          253 non-null    float64\n",
            " 2   Low           253 non-null    float64\n",
            " 3   Close         253 non-null    float64\n",
            " 4   Volume        253 non-null    int64  \n",
            " 5   Dividends     253 non-null    int64  \n",
            " 6   Stock Splits  253 non-null    float64\n",
            "dtypes: float64(5), int64(2)\n",
            "memory usage: 15.8 KB\n"
          ],
          "name": "stdout"
        }
      ]
    },
    {
      "cell_type": "code",
      "metadata": {
        "id": "n2SSNc_aGpZZ",
        "outputId": "e46cf3c5-9684-4739-da32-b96ef550b405",
        "colab": {
          "base_uri": "https://localhost:8080/",
          "height": 225
        }
      },
      "source": [
        "data.head()"
      ],
      "execution_count": 7,
      "outputs": [
        {
          "output_type": "execute_result",
          "data": {
            "text/html": [
              "<div>\n",
              "<style scoped>\n",
              "    .dataframe tbody tr th:only-of-type {\n",
              "        vertical-align: middle;\n",
              "    }\n",
              "\n",
              "    .dataframe tbody tr th {\n",
              "        vertical-align: top;\n",
              "    }\n",
              "\n",
              "    .dataframe thead th {\n",
              "        text-align: right;\n",
              "    }\n",
              "</style>\n",
              "<table border=\"1\" class=\"dataframe\">\n",
              "  <thead>\n",
              "    <tr style=\"text-align: right;\">\n",
              "      <th></th>\n",
              "      <th>Open</th>\n",
              "      <th>High</th>\n",
              "      <th>Low</th>\n",
              "      <th>Close</th>\n",
              "      <th>Volume</th>\n",
              "      <th>Dividends</th>\n",
              "      <th>Stock Splits</th>\n",
              "    </tr>\n",
              "    <tr>\n",
              "      <th>Date</th>\n",
              "      <th></th>\n",
              "      <th></th>\n",
              "      <th></th>\n",
              "      <th></th>\n",
              "      <th></th>\n",
              "      <th></th>\n",
              "      <th></th>\n",
              "    </tr>\n",
              "  </thead>\n",
              "  <tbody>\n",
              "    <tr>\n",
              "      <th>2019-10-03</th>\n",
              "      <td>46.37</td>\n",
              "      <td>46.90</td>\n",
              "      <td>44.86</td>\n",
              "      <td>46.61</td>\n",
              "      <td>75422500</td>\n",
              "      <td>0</td>\n",
              "      <td>0.0</td>\n",
              "    </tr>\n",
              "    <tr>\n",
              "      <th>2019-10-04</th>\n",
              "      <td>46.32</td>\n",
              "      <td>46.96</td>\n",
              "      <td>45.61</td>\n",
              "      <td>46.29</td>\n",
              "      <td>39975000</td>\n",
              "      <td>0</td>\n",
              "      <td>0.0</td>\n",
              "    </tr>\n",
              "    <tr>\n",
              "      <th>2019-10-07</th>\n",
              "      <td>45.96</td>\n",
              "      <td>47.71</td>\n",
              "      <td>45.71</td>\n",
              "      <td>47.54</td>\n",
              "      <td>40321000</td>\n",
              "      <td>0</td>\n",
              "      <td>0.0</td>\n",
              "    </tr>\n",
              "    <tr>\n",
              "      <th>2019-10-08</th>\n",
              "      <td>47.17</td>\n",
              "      <td>48.79</td>\n",
              "      <td>46.90</td>\n",
              "      <td>48.01</td>\n",
              "      <td>43391000</td>\n",
              "      <td>0</td>\n",
              "      <td>0.0</td>\n",
              "    </tr>\n",
              "    <tr>\n",
              "      <th>2019-10-09</th>\n",
              "      <td>48.26</td>\n",
              "      <td>49.46</td>\n",
              "      <td>48.13</td>\n",
              "      <td>48.91</td>\n",
              "      <td>34472000</td>\n",
              "      <td>0</td>\n",
              "      <td>0.0</td>\n",
              "    </tr>\n",
              "  </tbody>\n",
              "</table>\n",
              "</div>"
            ],
            "text/plain": [
              "             Open   High    Low  Close    Volume  Dividends  Stock Splits\n",
              "Date                                                                     \n",
              "2019-10-03  46.37  46.90  44.86  46.61  75422500          0           0.0\n",
              "2019-10-04  46.32  46.96  45.61  46.29  39975000          0           0.0\n",
              "2019-10-07  45.96  47.71  45.71  47.54  40321000          0           0.0\n",
              "2019-10-08  47.17  48.79  46.90  48.01  43391000          0           0.0\n",
              "2019-10-09  48.26  49.46  48.13  48.91  34472000          0           0.0"
            ]
          },
          "metadata": {
            "tags": []
          },
          "execution_count": 7
        }
      ]
    },
    {
      "cell_type": "code",
      "metadata": {
        "id": "xyjN4sDoJEfp",
        "outputId": "be958395-d6b1-443f-b6a3-f49669e6715d",
        "colab": {
          "base_uri": "https://localhost:8080/",
          "height": 331
        }
      },
      "source": [
        "colp = 'Close'\n",
        "\n",
        "plt.style.use('ggplot')\n",
        "\n",
        "plt.plot(data['Close'])\n",
        "plt.xticks(rotation = 'vertical')\n",
        "plt.title(company + ' ' + colp)\n",
        "plt.xlabel('time')\n",
        "plt.ylabel('Stock Price')\n",
        "plt.show()"
      ],
      "execution_count": 8,
      "outputs": [
        {
          "output_type": "display_data",
          "data": {
            "image/png": "[encoded data removed]",
            "text/plain": [
              "<Figure size 432x288 with 1 Axes>"
            ]
          },
          "metadata": {
            "tags": []
          }
        }
      ]
    },
    {
      "cell_type": "code",
      "metadata": {
        "id": "YTzanMgszs15"
      },
      "source": [
        "input = torch.randn(12,100,1)\n",
        "lstm = nn.LSTM(input_size = 1, hidden_size =512 , batch_first = True)\n",
        "\n",
        "output, _ =lstm(input)"
      ],
      "execution_count": 9,
      "outputs": []
    },
    {
      "cell_type": "code",
      "metadata": {
        "id": "6KO-_a450GfD",
        "outputId": "03420c69-5276-4036-f601-3a284802e10c",
        "colab": {
          "base_uri": "https://localhost:8080/",
          "height": 34
        }
      },
      "source": [
        "output.reshape(100, 12, 512)[-1].shape"
      ],
      "execution_count": 10,
      "outputs": [
        {
          "output_type": "execute_result",
          "data": {
            "text/plain": [
              "torch.Size([12, 512])"
            ]
          },
          "metadata": {
            "tags": []
          },
          "execution_count": 10
        }
      ]
    },
    {
      "cell_type": "code",
      "metadata": {
        "id": "1KQEHnPlJXt1"
      },
      "source": [
        "scaler = MinMaxScaler()\n",
        "\n",
        "hist_data = data['Close'].values\n",
        "\n",
        "hist_data = scaler.fit_transform(hist_data.reshape(-1,1))"
      ],
      "execution_count": 11,
      "outputs": []
    },
    {
      "cell_type": "code",
      "metadata": {
        "id": "QHVwwwR8KMGK"
      },
      "source": [
        "def slider_timeframe(window_size,data):\n",
        "\n",
        "  vals = data.copy()\n",
        "\n",
        "\n",
        "  xs = []\n",
        "  ys = []\n",
        "\n",
        "  for i in range(0,len(vals)-window_size):\n",
        "\n",
        "    xs.append(vals[i:i+window_size])\n",
        "    ys.append(vals[i+window_size])\n",
        "\n",
        "  return np.array(xs),np.array(ys)"
      ],
      "execution_count": 12,
      "outputs": []
    },
    {
      "cell_type": "code",
      "metadata": {
        "id": "l2-hImaHKRCQ"
      },
      "source": [
        "\n",
        "\n",
        "window_size = 5\n",
        "x,y = slider_timeframe(window_size,hist_data)\n"
      ],
      "execution_count": 13,
      "outputs": []
    },
    {
      "cell_type": "code",
      "metadata": {
        "id": "ZMWBPgcHyZ9r"
      },
      "source": [
        ""
      ],
      "execution_count": 13,
      "outputs": []
    },
    {
      "cell_type": "code",
      "metadata": {
        "id": "kcnUc1y9MCP5",
        "outputId": "e96ed78d-0154-4565-df1b-769756e17f23",
        "colab": {
          "base_uri": "https://localhost:8080/",
          "height": 34
        }
      },
      "source": [
        "x.shape,y.shape"
      ],
      "execution_count": 14,
      "outputs": [
        {
          "output_type": "execute_result",
          "data": {
            "text/plain": [
              "((248, 5, 1), (248, 1))"
            ]
          },
          "metadata": {
            "tags": []
          },
          "execution_count": 14
        }
      ]
    },
    {
      "cell_type": "code",
      "metadata": {
        "id": "fAiCnakGMG7J"
      },
      "source": [
        "x_train_size = int(0.75*len(x))\n",
        "\n",
        "x_test_size = len(x) -x_train_size\n",
        "\n",
        "scaler = MinMaxScaler()\n",
        "\n",
        "x_train = x[:x_train_size]\n",
        "\n",
        "x_train = torch.from_numpy(x_train).float()\n",
        "y_train = torch.from_numpy(y[:x_train_size]).float()\n",
        "\n",
        "x_test = x[x_train_size:]\n",
        "\n",
        "x_test = torch.from_numpy(x_test).float()\n",
        "y_test = torch.from_numpy(y[x_train_size:]).float()"
      ],
      "execution_count": 15,
      "outputs": []
    },
    {
      "cell_type": "code",
      "metadata": {
        "id": "0qCOdleqi18Y",
        "outputId": "33e8b3c7-71e6-4886-870b-f36dc6a6e1f6",
        "colab": {
          "base_uri": "https://localhost:8080/",
          "height": 34
        }
      },
      "source": [
        "x_test.shape, y_train.shape"
      ],
      "execution_count": 16,
      "outputs": [
        {
          "output_type": "execute_result",
          "data": {
            "text/plain": [
              "(torch.Size([62, 5, 1]), torch.Size([186, 1]))"
            ]
          },
          "metadata": {
            "tags": []
          },
          "execution_count": 16
        }
      ]
    },
    {
      "cell_type": "code",
      "metadata": {
        "id": "eksvHI92Rb9z"
      },
      "source": [
        "class tsData(Dataset):\n",
        "  def __init__(self,x,y):\n",
        "    self.x = x\n",
        "    self.y = y\n",
        "\n",
        "  def __getitem__(self,idx):\n",
        "    return self.x[idx],self.y[idx]\n",
        "\n",
        "  def __len__(self):\n",
        "    return len(self.x)"
      ],
      "execution_count": 17,
      "outputs": []
    },
    {
      "cell_type": "code",
      "metadata": {
        "id": "YKFakhwGSHKs"
      },
      "source": [
        "class tsmodel(nn.Module):\n",
        "\n",
        "  def __init__(self,\n",
        "               features,\n",
        "               horizon,\n",
        "               seq_len,\n",
        "               hidden_size,\n",
        "               num_layers):\n",
        "    \n",
        "    super(tsmodel,self).__init__()\n",
        "\n",
        "    self.features = features\n",
        "    self.horizon = horizon\n",
        "    self.seq_len = seq_len\n",
        "    self.hidden_size = hidden_size\n",
        "    self.num_layers = num_layers\n",
        "\n",
        "    self.rnn = nn.LSTM(input_size = self.features, \n",
        "                       hidden_size = self.hidden_size, \n",
        "                       dropout = 0.4,\n",
        "                       num_layers = self.num_layers,\n",
        "                       \n",
        "                       )\n",
        "    \n",
        "    self.linear = nn.Linear(self.hidden_size,\n",
        "                            self.horizon)\n",
        "\n",
        "  def forward(self,x):\n",
        "\n",
        "    h_0 = torch.zeros(self.num_layers, self.seq_len, self.hidden_size).to(device)\n",
        "    c_0 = torch.zeros(self.num_layers, self.seq_len, self.hidden_size).to(device)\n",
        "    \n",
        "    out,_ = self.rnn(x,(h_0,c_0))\n",
        "\n",
        "    #print(out.shape)\n",
        "\n",
        "    out = out.reshape(self.seq_len, x.size(0), self.hidden_size)\n",
        "\n",
        "    #print(out[-1].shape)\n",
        "\n",
        "    out = self.linear(out[-1])\n",
        "\n",
        "    #print(out.shape)\n",
        "\n",
        "    return out\n"
      ],
      "execution_count": 18,
      "outputs": []
    },
    {
      "cell_type": "code",
      "metadata": {
        "id": "exNXukOOS699",
        "outputId": "2bff6e52-a5eb-4f6d-b91c-8513039d7e91",
        "colab": {
          "base_uri": "https://localhost:8080/",
          "height": 70
        }
      },
      "source": [
        "TSmodel = tsmodel(1, 1, window_size, 512, 1).to(device)"
      ],
      "execution_count": 19,
      "outputs": [
        {
          "output_type": "stream",
          "text": [
            "/usr/local/lib/python3.6/dist-packages/torch/nn/modules/rnn.py:60: UserWarning: dropout option adds dropout after all but last recurrent layer, so non-zero dropout expects num_layers greater than 1, but got dropout=0.4 and num_layers=1\n",
            "  \"num_layers={}\".format(dropout, num_layers))\n"
          ],
          "name": "stderr"
        }
      ]
    },
    {
      "cell_type": "code",
      "metadata": {
        "id": "BjqY35a2YawB"
      },
      "source": [
        "optimizer = torch.optim.Adam(TSmodel.parameters(),lr=1e-3)\n",
        "\n",
        "loss_func = nn.MSELoss().to(device)"
      ],
      "execution_count": 20,
      "outputs": []
    },
    {
      "cell_type": "code",
      "metadata": {
        "id": "NlwfZayEVe9C"
      },
      "source": [
        "def trainer(model, loader, optimizer,epoch):\n",
        "  l = []\n",
        "  for i, X in enumerate(loader):\n",
        "     \n",
        "  \n",
        "\n",
        "    x, y = X\n",
        "\n",
        "    x = x.to(device)\n",
        "    y = y.to(device)\n",
        "\n",
        "    output = model(x)\n",
        "\n",
        "    loss = loss_func(output, y)\n",
        "\n",
        "    loss.backward()\n",
        "\n",
        "    optimizer.step()\n",
        "\n",
        "    optimizer.zero_grad()\n",
        "\n",
        "    l.append(loss.item())\n",
        "  \n",
        "  if epoch%50==0:\n",
        "    print('__________________________________________________\\n')\n",
        "    print(f'Training loss\\t\\t\\t {np.mean(l)}')\n",
        "    print('__________________________________________________\\n')\n",
        "\n",
        "def evaluer(model, loader):\n",
        "  l = []\n",
        "  for i, X in enumerate(loader):\n",
        "\n",
        "    x, y = X\n",
        "\n",
        "    x = x.to(device)\n",
        "    y = y.to(device)\n",
        "\n",
        "    output = model(x)\n",
        "\n",
        "    loss = loss_func(output, y)\n",
        "\n",
        "    l.append(loss.item())\n",
        "\n",
        "  print('__________________________________________________\\n')\n",
        "  print(f'loss\\t\\t\\t {np.mean(l)}')\n",
        "  print('__________________________________________________\\n')"
      ],
      "execution_count": 21,
      "outputs": []
    },
    {
      "cell_type": "code",
      "metadata": {
        "id": "Au8R7qoEXlmI"
      },
      "source": [
        "train_dataset = tsData(x_train, y_train)\n",
        "test_dataset = tsData(x_test, y_test)\n",
        "\n",
        "\n",
        "train_loader = DataLoader(train_dataset, 16)\n",
        "test_loader = DataLoader(test_dataset,16)"
      ],
      "execution_count": 22,
      "outputs": []
    },
    {
      "cell_type": "code",
      "metadata": {
        "id": "sFUzLa-EbJwc"
      },
      "source": [
        "def trainTSmodel(model,train_loader,optimizer,epochs):\n",
        "\n",
        "  for epoch in tqdm(range(epochs)):\n",
        "\n",
        "    trainer(model,train_loader,optimizer,epoch)\n",
        "\n"
      ],
      "execution_count": 23,
      "outputs": []
    },
    {
      "cell_type": "code",
      "metadata": {
        "id": "JsDPtWVTbR0j",
        "outputId": "d876019a-1cc0-4353-b0dd-6228d36fecfe",
        "colab": {
          "base_uri": "https://localhost:8080/",
          "height": 906,
          "referenced_widgets": [
            "313dd341f0a84041bdb735a8a02b8685",
            "fa3b91de39aa41c18b777e7f823c9e35",
            "717c43c9efaf4f939be60ba47387812e",
            "728795cad9cc412c96c04d908abd9c9d",
            "27614945e6fd412aa5a3ad40cb7ff30e",
            "5cc14e93404545c398f3bd1483bc1901",
            "209f4746822e40458b40e1e97e03c472",
            "70863054db954ddabc5c9ce26ab2e31b"
          ]
        }
      },
      "source": [
        "trainTSmodel(TSmodel,train_loader,optimizer,500)"
      ],
      "execution_count": 24,
      "outputs": [
        {
          "output_type": "display_data",
          "data": {
            "application/vnd.jupyter.widget-view+json": {
              "model_id": "313dd341f0a84041bdb735a8a02b8685",
              "version_minor": 0,
              "version_major": 2
            },
            "text/plain": [
              "HBox(children=(FloatProgress(value=0.0, max=500.0), HTML(value='')))"
            ]
          },
          "metadata": {
            "tags": []
          }
        },
        {
          "output_type": "stream",
          "text": [
            "__________________________________________________\n",
            "\n",
            "Training loss\t\t\t 0.0076276559751325594\n",
            "__________________________________________________\n",
            "\n",
            "__________________________________________________\n",
            "\n",
            "Training loss\t\t\t 0.0009210912691438958\n",
            "__________________________________________________\n",
            "\n",
            "__________________________________________________\n",
            "\n",
            "Training loss\t\t\t 0.0014105720086566482\n",
            "__________________________________________________\n",
            "\n",
            "__________________________________________________\n",
            "\n",
            "Training loss\t\t\t 0.0008749833784046738\n",
            "__________________________________________________\n",
            "\n",
            "__________________________________________________\n",
            "\n",
            "Training loss\t\t\t 0.0009486909026842719\n",
            "__________________________________________________\n",
            "\n",
            "__________________________________________________\n",
            "\n",
            "Training loss\t\t\t 0.001385123867900499\n",
            "__________________________________________________\n",
            "\n",
            "__________________________________________________\n",
            "\n",
            "Training loss\t\t\t 0.0008870533529261593\n",
            "__________________________________________________\n",
            "\n",
            "__________________________________________________\n",
            "\n",
            "Training loss\t\t\t 0.0012160021360614337\n",
            "__________________________________________________\n",
            "\n",
            "__________________________________________________\n",
            "\n",
            "Training loss\t\t\t 0.0014611646693083458\n",
            "__________________________________________________\n",
            "\n",
            "__________________________________________________\n",
            "\n",
            "Training loss\t\t\t 0.0009245462776258743\n",
            "__________________________________________________\n",
            "\n",
            "\n"
          ],
          "name": "stdout"
        }
      ]
    },
    {
      "cell_type": "code",
      "metadata": {
        "id": "vqagxRb8mvbi",
        "outputId": "2d105610-45a4-48c1-dfaf-707c62016f68",
        "colab": {
          "base_uri": "https://localhost:8080/",
          "height": 101
        }
      },
      "source": [
        "evaluer(TSmodel,test_loader)"
      ],
      "execution_count": 25,
      "outputs": [
        {
          "output_type": "stream",
          "text": [
            "__________________________________________________\n",
            "\n",
            "loss\t\t\t 0.09233161201700568\n",
            "__________________________________________________\n",
            "\n"
          ],
          "name": "stdout"
        }
      ]
    },
    {
      "cell_type": "code",
      "metadata": {
        "id": "pBasPhq36Xgi"
      },
      "source": [
        "def predictor(model, loader):\n",
        "  l = []\n",
        "  for i, X in enumerate(loader):\n",
        "\n",
        "    x, y = X\n",
        "\n",
        "    x = x.to(device)\n",
        "    y = y.to(device)\n",
        "\n",
        "    output = model(x)\n",
        "\n",
        "    \n",
        "\n",
        "    l.extend(output.tolist())\n",
        "\n",
        "  return np.array(l).reshape(-1,)\n",
        "\n",
        "\n"
      ],
      "execution_count": 26,
      "outputs": []
    },
    {
      "cell_type": "code",
      "metadata": {
        "id": "ykMTUGq7788E"
      },
      "source": [
        "out_train = predictor(TSmodel,train_loader)\n",
        "out_test  = predictor(TSmodel,test_loader)"
      ],
      "execution_count": 27,
      "outputs": []
    },
    {
      "cell_type": "code",
      "metadata": {
        "id": "A4FC7jkzuJsp",
        "outputId": "14c35430-87c0-491f-d117-cd5f378dffa9",
        "colab": {
          "base_uri": "https://localhost:8080/",
          "height": 34
        }
      },
      "source": [
        "# hist_data.index[:x_train_size].shape\n",
        "scaler.fit(data['Close'].values.reshape(-1,1))"
      ],
      "execution_count": 28,
      "outputs": [
        {
          "output_type": "execute_result",
          "data": {
            "text/plain": [
              "MinMaxScaler(copy=True, feature_range=(0, 1))"
            ]
          },
          "metadata": {
            "tags": []
          },
          "execution_count": 28
        }
      ]
    },
    {
      "cell_type": "code",
      "metadata": {
        "id": "SaSbThxru81U"
      },
      "source": [
        "out_train = scaler.inverse_transform(np.array(out_train).reshape(-1,1))\n",
        "out_test = scaler.inverse_transform(np.array(out_test).reshape(-1,1))"
      ],
      "execution_count": 29,
      "outputs": []
    },
    {
      "cell_type": "code",
      "metadata": {
        "id": "TvK4Dqtpmyap",
        "outputId": "e54a36e9-20f7-4112-a5bc-a196a7f39e66",
        "colab": {
          "base_uri": "https://localhost:8080/",
          "height": 331
        }
      },
      "source": [
        "plt.plot(data['Close'].iloc[window_size:],color='b',label='Actual')\n",
        "plt.plot(data.index[window_size:x_train_size+window_size],np.array(out_train),color='r',label='Predicted')\n",
        "plt.title('Training data performance')\n",
        "plt.xlabel('Time')\n",
        "plt.ylabel('y')\n",
        "plt.xticks(rotation='vertical')\n",
        "plt.legend()\n",
        "plt.show()"
      ],
      "execution_count": 30,
      "outputs": [
        {
          "output_type": "display_data",
          "data": {
            "image/png": "[encoded data removed]",
            "text/plain": [
              "<Figure size 432x288 with 1 Axes>"
            ]
          },
          "metadata": {
            "tags": []
          }
        }
      ]
    },
    {
      "cell_type": "code",
      "metadata": {
        "id": "K6Cg9Idqx9j9",
        "outputId": "03c9fbaf-6baf-4490-f5b8-355d430232a8",
        "colab": {
          "base_uri": "https://localhost:8080/",
          "height": 331
        }
      },
      "source": [
        "plt.plot(data['Close'].iloc[window_size:],color='b',label='Actual')\n",
        "plt.plot(data.index[x_train_size+window_size:],np.array(out_test),color='r',label='Predicted')\n",
        "plt.title('Test data performance')\n",
        "plt.xlabel('Time')\n",
        "plt.xticks(rotation='vertical')\n",
        "plt.ylabel('y')\n",
        "plt.legend()\n",
        "plt.show()"
      ],
      "execution_count": 31,
      "outputs": [
        {
          "output_type": "display_data",
          "data": {
            "image/png": "[encoded data removed]",
            "text/plain": [
              "<Figure size 432x288 with 1 Axes>"
            ]
          },
          "metadata": {
            "tags": []
          }
        }
      ]
    },
    {
      "cell_type": "code",
      "metadata": {
        "id": "1ta4VpHcnm4_"
      },
      "source": [
        ""
      ],
      "execution_count": 31,
      "outputs": []
    }
  ]
}