{
  "nbformat": 4,
  "nbformat_minor": 0,
  "metadata": {
    "colab": {
      "name": "Autograd_pytrch.ipynb",
      "provenance": [],
      "authorship_tag": "ABX9TyOEbRrgsYeng1u69y57xW6R",
      "include_colab_link": true
    },
    "kernelspec": {
      "name": "python3",
      "display_name": "Python 3"
    }
  },
  "cells": [
    {
      "cell_type": "markdown",
      "metadata": {
        "id": "view-in-github",
        "colab_type": "text"
      },
      "source": [
        "<a href=\"https://colab.research.google.com/github/SPThole/pyTrch/blob/master/Autograd_pytrch.ipynb\" target=\"_parent\"><img src=\"https://colab.research.google.com/assets/colab-badge.svg\" alt=\"Open In Colab\"/></a>"
      ]
    },
    {
      "cell_type": "markdown",
      "metadata": {
        "id": "sX2coPys6M1P",
        "colab_type": "text"
      },
      "source": [
        "Auto-grad and linear regression"
      ]
    },
    {
      "cell_type": "code",
      "metadata": {
        "id": "LrzzrszC6RtQ",
        "colab_type": "code",
        "colab": {}
      },
      "source": [
        "#importing libraries\n",
        "import pandas as pd\n",
        "import numpy as np\n",
        "import matplotlib.pyplot as plt\n",
        "import torch\n",
        "%matplotlib inline"
      ],
      "execution_count": 1,
      "outputs": []
    },
    {
      "cell_type": "code",
      "metadata": {
        "id": "D3IQKux16hVE",
        "colab_type": "code",
        "colab": {}
      },
      "source": [
        "#requires float elements to calculate grad\n",
        "x= torch.tensor([2.,2.],requires_grad=True)\n",
        "y= torch.tensor([10.,10],requires_grad=True)"
      ],
      "execution_count": 2,
      "outputs": []
    },
    {
      "cell_type": "code",
      "metadata": {
        "id": "KTyjb_xV8qKv",
        "colab_type": "code",
        "colab": {}
      },
      "source": [
        "#defining function on tensor args\n",
        "def w(x,y):\n",
        "  return torch.sum(x**2+y**2,axis=0)"
      ],
      "execution_count": 3,
      "outputs": []
    },
    {
      "cell_type": "code",
      "metadata": {
        "id": "GOJzdI9z86i7",
        "colab_type": "code",
        "colab": {}
      },
      "source": [
        "z=w(x,y) "
      ],
      "execution_count": 4,
      "outputs": []
    },
    {
      "cell_type": "code",
      "metadata": {
        "id": "xct-SfB-9Eis",
        "colab_type": "code",
        "colab": {}
      },
      "source": [
        "#differntiating automatically: Function should give scalar as an output. as z.backwaard() assumes z.backward(torch.tensor([1.0]))\n",
        "z.backward()"
      ],
      "execution_count": 5,
      "outputs": []
    },
    {
      "cell_type": "code",
      "metadata": {
        "id": "h8c57p5Y9R2Z",
        "colab_type": "code",
        "colab": {
          "base_uri": "https://localhost:8080/",
          "height": 35
        },
        "outputId": "85e2478d-bf33-4b50-92b9-1467ec96e70c"
      },
      "source": [
        "# dz/dx= 2*x\n",
        "x.grad"
      ],
      "execution_count": 6,
      "outputs": [
        {
          "output_type": "execute_result",
          "data": {
            "text/plain": [
              "tensor([4., 4.])"
            ]
          },
          "metadata": {
            "tags": []
          },
          "execution_count": 6
        }
      ]
    },
    {
      "cell_type": "code",
      "metadata": {
        "id": "yt7PkLcT9Wgd",
        "colab_type": "code",
        "colab": {
          "base_uri": "https://localhost:8080/",
          "height": 35
        },
        "outputId": "a57b81cc-5892-4eaa-9c50-d5fce7feb04f"
      },
      "source": [
        "# dz/dy= 2*y\n",
        "y.grad"
      ],
      "execution_count": 7,
      "outputs": [
        {
          "output_type": "execute_result",
          "data": {
            "text/plain": [
              "tensor([20., 20.])"
            ]
          },
          "metadata": {
            "tags": []
          },
          "execution_count": 7
        }
      ]
    },
    {
      "cell_type": "code",
      "metadata": {
        "id": "94fWJmlPBrEO",
        "colab_type": "code",
        "colab": {
          "base_uri": "https://localhost:8080/",
          "height": 72
        },
        "outputId": "1685cad5-d7fc-4f9b-df38-53af5c669007"
      },
      "source": [
        "print(x.requires_grad)\n",
        "print(y.requires_grad)\n",
        "with torch.no_grad():\n",
        "  print((y**2+x**2).requires_grad)"
      ],
      "execution_count": 8,
      "outputs": [
        {
          "output_type": "stream",
          "text": [
            "True\n",
            "True\n",
            "False\n"
          ],
          "name": "stdout"
        }
      ]
    },
    {
      "cell_type": "code",
      "metadata": {
        "id": "SHu75H_hBrLK",
        "colab_type": "code",
        "colab": {
          "base_uri": "https://localhost:8080/",
          "height": 35
        },
        "outputId": "4e94eae6-bcde-4e09-90d6-f119b0e06512"
      },
      "source": [
        "x.requires_grad\n",
        "print(x.detach().requires_grad)"
      ],
      "execution_count": 9,
      "outputs": [
        {
          "output_type": "stream",
          "text": [
            "False\n"
          ],
          "name": "stdout"
        }
      ]
    },
    {
      "cell_type": "code",
      "metadata": {
        "id": "dyp_bKYnBrId",
        "colab_type": "code",
        "colab": {}
      },
      "source": [
        ""
      ],
      "execution_count": 9,
      "outputs": []
    },
    {
      "cell_type": "code",
      "metadata": {
        "id": "i1HoVRTn9X24",
        "colab_type": "code",
        "colab": {
          "base_uri": "https://localhost:8080/",
          "height": 295
        },
        "outputId": "6046d45e-9067-4d1a-8d6f-56d9a9c4d100"
      },
      "source": [
        "x= np.random.randint(1,50,size=(100,))\n",
        "y= 2*x+ np.random.normal(size=len(x),scale=10)\n",
        "plt.plot(x,y,'k.')\n",
        "plt.title('Data')\n",
        "plt.xlabel('x')\n",
        "plt.ylabel('y')\n",
        "plt.show()"
      ],
      "execution_count": 10,
      "outputs": [
        {
          "output_type": "display_data",
          "data": {
            "image/png": "[encoded data removed]",
            "text/plain": [
              "<Figure size 432x288 with 1 Axes>"
            ]
          },
          "metadata": {
            "tags": [],
            "needs_background": "light"
          }
        }
      ]
    },
    {
      "cell_type": "code",
      "metadata": {
        "id": "jQDqA5zrQnkK",
        "colab_type": "code",
        "colab": {}
      },
      "source": [
        "from sklearn.model_selection import train_test_split\n",
        "X_train,X_test,y_train,y_test= train_test_split(x,y,test_size=0.2,random_state=42)"
      ],
      "execution_count": 11,
      "outputs": []
    },
    {
      "cell_type": "code",
      "metadata": {
        "id": "SCZduR4m-_cz",
        "colab_type": "code",
        "colab": {}
      },
      "source": [
        "from torch.optim import SGD"
      ],
      "execution_count": 12,
      "outputs": []
    },
    {
      "cell_type": "code",
      "metadata": {
        "id": "48R0ZPBR_M-y",
        "colab_type": "code",
        "colab": {}
      },
      "source": [
        "w= torch.rand([2],requires_grad=True)"
      ],
      "execution_count": 13,
      "outputs": []
    },
    {
      "cell_type": "code",
      "metadata": {
        "id": "vu59x3vNEhaz",
        "colab_type": "code",
        "colab": {}
      },
      "source": [
        "X_train= torch.from_numpy(X_train.reshape(-1,1))\n",
        "X_test= torch.from_numpy(X_test.reshape(-1,1))\n",
        "y_train= torch.from_numpy(y_train.reshape(-1,1))\n",
        "y_test= torch.from_numpy(y_test.reshape(-1,1))"
      ],
      "execution_count": 14,
      "outputs": []
    },
    {
      "cell_type": "code",
      "metadata": {
        "id": "Kd1GXQbXFByn",
        "colab_type": "code",
        "colab": {}
      },
      "source": [
        "\n",
        "optimizer= SGD([w],lr=0.0001)"
      ],
      "execution_count": 15,
      "outputs": []
    },
    {
      "cell_type": "code",
      "metadata": {
        "id": "2inVkxQfFbus",
        "colab_type": "code",
        "colab": {
          "base_uri": "https://localhost:8080/",
          "height": 1000
        },
        "outputId": "01f3245b-0215-415c-f70b-0f6070777f2a"
      },
      "source": [
        "max_iteration=200\n",
        "history={'train_loss':[],'test_loss':[]}\n",
        "for i in range(max_iteration):\n",
        "  loss=torch.mean((y_train-w[0]*X_train-w[1])**2,axis=0)\n",
        "  optimizer.zero_grad()\n",
        "  loss.backward()\n",
        "  optimizer.step()\n",
        "  history['train_loss'].append(loss.detach().item())\n",
        "  test_loss= torch.mean((y_test-w[0]*X_test-w[1])**2,axis=0)\n",
        "  history['test_loss'].append(test_loss.detach().item())\n",
        "\n",
        "  print('Iteration {}:: Training loss: {} and Test loss: {}'.format(i,loss.detach().item(),test_loss.detach().item()))\n"
      ],
      "execution_count": 16,
      "outputs": [
        {
          "output_type": "stream",
          "text": [
            "Iteration 0:: Training loss: 1160.9776271785718 and Test loss: 412.93310225741715\n",
            "Iteration 1:: Training loss: 862.5861510570581 and Test loss: 299.9856928194622\n",
            "Iteration 2:: Training loss: 649.0440472163517 and Test loss: 221.8311316107084\n",
            "Iteration 3:: Training loss: 496.2240092843582 and Test loss: 168.16364254329386\n",
            "Iteration 4:: Training loss: 386.85918990112793 and Test loss: 131.67154605172115\n",
            "Iteration 5:: Training loss: 308.5928769382751 and Test loss: 107.17600744084314\n",
            "Iteration 6:: Training loss: 252.58210835117546 and Test loss: 91.01620565492088\n",
            "Iteration 7:: Training loss: 212.49827047330137 and Test loss: 80.6107484607293\n",
            "Iteration 8:: Training loss: 183.8125152711072 and Test loss: 74.14482130628578\n",
            "Iteration 9:: Training loss: 163.28374141348007 and Test loss: 70.3471204712048\n",
            "Iteration 10:: Training loss: 148.59246894054235 and Test loss: 68.33112888220255\n",
            "Iteration 11:: Training loss: 138.07870131151398 and Test loss: 67.4821116671309\n",
            "Iteration 12:: Training loss: 130.55460031058993 and Test loss: 67.37679257054256\n",
            "Iteration 13:: Training loss: 125.17001789657931 and Test loss: 67.72631355222344\n",
            "Iteration 14:: Training loss: 121.31656211894065 and Test loss: 68.33589689326992\n",
            "Iteration 15:: Training loss: 118.55885439361118 and Test loss: 69.07624535412455\n",
            "Iteration 16:: Training loss: 116.58530905558464 and Test loss: 69.86332962709791\n",
            "Iteration 17:: Training loss: 115.17294139772443 and Test loss: 70.64423781697093\n",
            "Iteration 18:: Training loss: 114.1621846810566 and Test loss: 71.38719502273065\n",
            "Iteration 19:: Training loss: 113.4388362497688 and Test loss: 72.07468201778282\n",
            "Iteration 20:: Training loss: 112.92116928642668 and Test loss: 72.69841423317776\n",
            "Iteration 21:: Training loss: 112.55070135709255 and Test loss: 73.25629063728015\n",
            "Iteration 22:: Training loss: 112.28556518421138 and Test loss: 73.74983692061359\n",
            "Iteration 23:: Training loss: 112.09582668079342 and Test loss: 74.18284444697207\n",
            "Iteration 24:: Training loss: 111.96002637788874 and Test loss: 74.56023302215195\n",
            "Iteration 25:: Training loss: 111.86284221457909 and Test loss: 74.88742736745859\n",
            "Iteration 26:: Training loss: 111.7932789341066 and Test loss: 75.16990451391713\n",
            "Iteration 27:: Training loss: 111.74349259871765 and Test loss: 75.41294134427753\n",
            "Iteration 28:: Training loss: 111.70785543833567 and Test loss: 75.62146524447911\n",
            "Iteration 29:: Training loss: 111.68234636876154 and Test loss: 75.79997802439604\n",
            "Iteration 30:: Training loss: 111.66408867553643 and Test loss: 75.95249548338334\n",
            "Iteration 31:: Training loss: 111.65100516271625 and Test loss: 76.08259770464001\n",
            "Iteration 32:: Training loss: 111.64164059326 and Test loss: 76.19345426362493\n",
            "Iteration 33:: Training loss: 111.63493610113815 and Test loss: 76.28781738649602\n",
            "Iteration 34:: Training loss: 111.63012834343314 and Test loss: 76.36804535390823\n",
            "Iteration 35:: Training loss: 111.62668131866114 and Test loss: 76.43620905641882\n",
            "Iteration 36:: Training loss: 111.62421131311946 and Test loss: 76.49410301800667\n",
            "Iteration 37:: Training loss: 111.62243510318274 and Test loss: 76.54324919356314\n",
            "Iteration 38:: Training loss: 111.6211580581285 and Test loss: 76.5849460086526\n",
            "Iteration 39:: Training loss: 111.62022586138396 and Test loss: 76.62033137246445\n",
            "Iteration 40:: Training loss: 111.61956615656929 and Test loss: 76.65033611301955\n",
            "Iteration 41:: Training loss: 111.61908024603122 and Test loss: 76.67577598477865\n",
            "Iteration 42:: Training loss: 111.61872882619468 and Test loss: 76.69734542177491\n",
            "Iteration 43:: Training loss: 111.61846795564709 and Test loss: 76.71563882941398\n",
            "Iteration 44:: Training loss: 111.61827517268634 and Test loss: 76.7311628925887\n",
            "Iteration 45:: Training loss: 111.6181360536917 and Test loss: 76.74429915957285\n",
            "Iteration 46:: Training loss: 111.61802051240802 and Test loss: 76.75545804216884\n",
            "Iteration 47:: Training loss: 111.61793818793717 and Test loss: 76.76492654033538\n",
            "Iteration 48:: Training loss: 111.6178667558856 and Test loss: 76.7729696153412\n",
            "Iteration 49:: Training loss: 111.61781769111016 and Test loss: 76.77980272734702\n",
            "Iteration 50:: Training loss: 111.61776556321988 and Test loss: 76.78561016189374\n",
            "Iteration 51:: Training loss: 111.61772425492799 and Test loss: 76.79054246181927\n",
            "Iteration 52:: Training loss: 111.61769219205671 and Test loss: 76.79474908243596\n",
            "Iteration 53:: Training loss: 111.6176571690492 and Test loss: 76.79832208444353\n",
            "Iteration 54:: Training loss: 111.61763614843548 and Test loss: 76.80137295779211\n",
            "Iteration 55:: Training loss: 111.61760953181215 and Test loss: 76.80398391507997\n",
            "Iteration 56:: Training loss: 111.61757721861167 and Test loss: 76.80620862148541\n",
            "Iteration 57:: Training loss: 111.61755721188115 and Test loss: 76.8081070860324\n",
            "Iteration 58:: Training loss: 111.617532383702 and Test loss: 76.80975939602777\n",
            "Iteration 59:: Training loss: 111.6175102191959 and Test loss: 76.81115305866352\n",
            "Iteration 60:: Training loss: 111.61747309946307 and Test loss: 76.81237479138971\n",
            "Iteration 61:: Training loss: 111.61745299873628 and Test loss: 76.81341998067181\n",
            "Iteration 62:: Training loss: 111.61742544242925 and Test loss: 76.81433843338314\n",
            "Iteration 63:: Training loss: 111.61739729409541 and Test loss: 76.81513848546352\n",
            "Iteration 64:: Training loss: 111.61738161080059 and Test loss: 76.81582984845983\n",
            "Iteration 65:: Training loss: 111.61735147631035 and Test loss: 76.81644386344429\n",
            "Iteration 66:: Training loss: 111.61732626136941 and Test loss: 76.81700297665441\n",
            "Iteration 67:: Training loss: 111.61731664262462 and Test loss: 76.8174781909637\n",
            "Iteration 68:: Training loss: 111.61728443960047 and Test loss: 76.81792201807474\n",
            "Iteration 69:: Training loss: 111.61726900479948 and Test loss: 76.81831924246409\n",
            "Iteration 70:: Training loss: 111.61724003612412 and Test loss: 76.81867767160996\n",
            "Iteration 71:: Training loss: 111.61721650088593 and Test loss: 76.81899730431859\n",
            "Iteration 72:: Training loss: 111.61719839747207 and Test loss: 76.8192944357829\n",
            "Iteration 73:: Training loss: 111.6171706763536 and Test loss: 76.81956618685454\n",
            "Iteration 74:: Training loss: 111.61713972410071 and Test loss: 76.81983111893699\n",
            "Iteration 75:: Training loss: 111.61712382679923 and Test loss: 76.82008041268912\n",
            "Iteration 76:: Training loss: 111.61709323191285 and Test loss: 76.8203076216802\n",
            "Iteration 77:: Training loss: 111.61707455196947 and Test loss: 76.82052733799239\n",
            "Iteration 78:: Training loss: 111.61705184486186 and Test loss: 76.8207427580453\n",
            "Iteration 79:: Training loss: 111.61703229753884 and Test loss: 76.82093547164217\n",
            "Iteration 80:: Training loss: 111.61700881034226 and Test loss: 76.82112984343618\n",
            "Iteration 81:: Training loss: 111.61698271408643 and Test loss: 76.82130853872897\n",
            "Iteration 82:: Training loss: 111.61695936785091 and Test loss: 76.82149058108288\n",
            "Iteration 83:: Training loss: 111.61693793140671 and Test loss: 76.82167007154996\n",
            "Iteration 84:: Training loss: 111.61690921856832 and Test loss: 76.82186220259136\n",
            "Iteration 85:: Training loss: 111.61689134945202 and Test loss: 76.82201985238392\n",
            "Iteration 86:: Training loss: 111.61686030115625 and Test loss: 76.8221870149425\n",
            "Iteration 87:: Training loss: 111.61683689500516 and Test loss: 76.82235628306707\n",
            "Iteration 88:: Training loss: 111.61682108929226 and Test loss: 76.82251997016277\n",
            "Iteration 89:: Training loss: 111.6167980672587 and Test loss: 76.822676491902\n",
            "Iteration 90:: Training loss: 111.61676750083802 and Test loss: 76.82284310567414\n",
            "Iteration 91:: Training loss: 111.6167473279858 and Test loss: 76.82300859295336\n",
            "Iteration 92:: Training loss: 111.61672449924568 and Test loss: 76.8231761904011\n",
            "Iteration 93:: Training loss: 111.6167011788709 and Test loss: 76.8233334136269\n",
            "Iteration 94:: Training loss: 111.61667223256072 and Test loss: 76.82348541096904\n",
            "Iteration 95:: Training loss: 111.61664643820811 and Test loss: 76.82365373462777\n",
            "Iteration 96:: Training loss: 111.61662823314325 and Test loss: 76.82379180310153\n",
            "Iteration 97:: Training loss: 111.61660171793599 and Test loss: 76.8239610885188\n",
            "Iteration 98:: Training loss: 111.61658592449234 and Test loss: 76.8241145563402\n",
            "Iteration 99:: Training loss: 111.6165569926587 and Test loss: 76.82425950011752\n",
            "Iteration 100:: Training loss: 111.61653163144362 and Test loss: 76.82442488736987\n",
            "Iteration 101:: Training loss: 111.61651698304794 and Test loss: 76.8245799911561\n",
            "Iteration 102:: Training loss: 111.61648899746424 and Test loss: 76.82474442356711\n",
            "Iteration 103:: Training loss: 111.61647128411141 and Test loss: 76.82488721616488\n",
            "Iteration 104:: Training loss: 111.61644535290316 and Test loss: 76.82504445816747\n",
            "Iteration 105:: Training loss: 111.61641435700253 and Test loss: 76.82519657272044\n",
            "Iteration 106:: Training loss: 111.6163925798647 and Test loss: 76.82536177834238\n",
            "Iteration 107:: Training loss: 111.61637366571281 and Test loss: 76.82550846291798\n",
            "Iteration 108:: Training loss: 111.61634575875784 and Test loss: 76.82567510797517\n",
            "Iteration 109:: Training loss: 111.61632445287145 and Test loss: 76.82582529855753\n",
            "Iteration 110:: Training loss: 111.61629955139058 and Test loss: 76.82596673795629\n",
            "Iteration 111:: Training loss: 111.61627582984747 and Test loss: 76.82614494286989\n",
            "Iteration 112:: Training loss: 111.61625453510177 and Test loss: 76.82628865804392\n",
            "Iteration 113:: Training loss: 111.61623099155486 and Test loss: 76.82645740860207\n",
            "Iteration 114:: Training loss: 111.61620539223063 and Test loss: 76.82661058492918\n",
            "Iteration 115:: Training loss: 111.6161861581556 and Test loss: 76.82675203272352\n",
            "Iteration 116:: Training loss: 111.61616244276986 and Test loss: 76.82691616461187\n",
            "Iteration 117:: Training loss: 111.61614532121227 and Test loss: 76.82706845537069\n",
            "Iteration 118:: Training loss: 111.61611628378878 and Test loss: 76.82721471790123\n",
            "Iteration 119:: Training loss: 111.616088419263 and Test loss: 76.82737950540232\n",
            "Iteration 120:: Training loss: 111.61606954968138 and Test loss: 76.82753120509012\n",
            "Iteration 121:: Training loss: 111.61604781979099 and Test loss: 76.82768803553867\n",
            "Iteration 122:: Training loss: 111.6160168736614 and Test loss: 76.82785438029973\n",
            "Iteration 123:: Training loss: 111.61599356971821 and Test loss: 76.82799444842736\n",
            "Iteration 124:: Training loss: 111.61597333581574 and Test loss: 76.82814915081532\n",
            "Iteration 125:: Training loss: 111.61594540750461 and Test loss: 76.82831414034699\n",
            "Iteration 126:: Training loss: 111.61593081842602 and Test loss: 76.82845868944587\n",
            "Iteration 127:: Training loss: 111.61590551891604 and Test loss: 76.82862665367122\n",
            "Iteration 128:: Training loss: 111.6158786262999 and Test loss: 76.82878066396398\n",
            "Iteration 129:: Training loss: 111.61586092516957 and Test loss: 76.82894398210233\n",
            "Iteration 130:: Training loss: 111.61583798179927 and Test loss: 76.82908629146897\n",
            "Iteration 131:: Training loss: 111.61581634566514 and Test loss: 76.82923791185786\n",
            "Iteration 132:: Training loss: 111.61579062613673 and Test loss: 76.82939476102486\n",
            "Iteration 133:: Training loss: 111.61576175646329 and Test loss: 76.82953291904029\n",
            "Iteration 134:: Training loss: 111.61573586960098 and Test loss: 76.82969729185878\n",
            "Iteration 135:: Training loss: 111.61571820242366 and Test loss: 76.82985626567435\n",
            "Iteration 136:: Training loss: 111.61569071236454 and Test loss: 76.83002207810469\n",
            "Iteration 137:: Training loss: 111.61567065385411 and Test loss: 76.83016265602427\n",
            "Iteration 138:: Training loss: 111.61564401534045 and Test loss: 76.83034093317752\n",
            "Iteration 139:: Training loss: 111.61562576124706 and Test loss: 76.8304815145105\n",
            "Iteration 140:: Training loss: 111.6155991251832 and Test loss: 76.8306473338608\n",
            "Iteration 141:: Training loss: 111.61557907160106 and Test loss: 76.8308063176697\n",
            "Iteration 142:: Training loss: 111.61555158881643 and Test loss: 76.83097070420702\n",
            "Iteration 143:: Training loss: 111.61553393133609 and Test loss: 76.83110887929253\n",
            "Iteration 144:: Training loss: 111.61550805675878 and Test loss: 76.83125999155772\n",
            "Iteration 145:: Training loss: 111.6154920265571 and Test loss: 76.83141651214035\n",
            "Iteration 146:: Training loss: 111.6154535571422 and Test loss: 76.8315584077926\n",
            "Iteration 147:: Training loss: 111.61543196947396 and Test loss: 76.8317213166377\n",
            "Iteration 148:: Training loss: 111.61540907668564 and Test loss: 76.8318749202865\n",
            "Iteration 149:: Training loss: 111.6153914289609 and Test loss: 76.83204248151898\n",
            "Iteration 150:: Training loss: 111.61536459212684 and Test loss: 76.83218663068266\n",
            "Iteration 151:: Training loss: 111.61533935057192 and Test loss: 76.83235122401263\n",
            "Iteration 152:: Training loss: 111.6153248219038 and Test loss: 76.8325055332628\n",
            "Iteration 153:: Training loss: 111.61529695690906 and Test loss: 76.83266917217574\n",
            "Iteration 154:: Training loss: 111.61527936248483 and Test loss: 76.83281117148758\n",
            "Iteration 155:: Training loss: 111.61525355252198 and Test loss: 76.83296615876081\n",
            "Iteration 156:: Training loss: 111.61522668437541 and Test loss: 76.83311849909457\n",
            "Iteration 157:: Training loss: 111.61520104883252 and Test loss: 76.8332824708082\n",
            "Iteration 158:: Training loss: 111.61518228277222 and Test loss: 76.83342791911134\n",
            "Iteration 159:: Training loss: 111.61515452509389 and Test loss: 76.8335933305959\n",
            "Iteration 160:: Training loss: 111.61513336804201 and Test loss: 76.83374272717893\n",
            "Iteration 161:: Training loss: 111.61510858618627 and Test loss: 76.83388337128447\n",
            "Iteration 162:: Training loss: 111.61508498489911 and Test loss: 76.83406078253674\n",
            "Iteration 163:: Training loss: 111.61506380968922 and Test loss: 76.83420370243573\n",
            "Iteration 164:: Training loss: 111.61504038635128 and Test loss: 76.8343716592095\n",
            "Iteration 165:: Training loss: 111.61501490720386 and Test loss: 76.83452404034273\n",
            "Iteration 166:: Training loss: 111.61499579267215 and Test loss: 76.83468654150276\n",
            "Iteration 167:: Training loss: 111.61497453479487 and Test loss: 76.8348280316876\n",
            "Iteration 168:: Training loss: 111.61495519538758 and Test loss: 76.8349841516039\n",
            "Iteration 169:: Training loss: 111.61491793896835 and Test loss: 76.8351387682938\n",
            "Iteration 170:: Training loss: 111.61489516602062 and Test loss: 76.83530127637458\n",
            "Iteration 171:: Training loss: 111.6148725783834 and Test loss: 76.83544135513345\n",
            "Iteration 172:: Training loss: 111.61485416636306 and Test loss: 76.83560920882216\n",
            "Iteration 173:: Training loss: 111.6148329165903 and Test loss: 76.83576148205495\n",
            "Iteration 174:: Training loss: 111.61480416402003 and Test loss: 76.83590075517198\n",
            "Iteration 175:: Training loss: 111.61478404964032 and Test loss: 76.83606645824774\n",
            "Iteration 176:: Training loss: 111.61476221834577 and Test loss: 76.83621885784527\n",
            "Iteration 177:: Training loss: 111.61474177211076 and Test loss: 76.8363844170806\n",
            "Iteration 178:: Training loss: 111.6147185933194 and Test loss: 76.83652978182039\n",
            "Iteration 179:: Training loss: 111.61468981939007 and Test loss: 76.83667825893002\n",
            "Iteration 180:: Training loss: 111.61466403575916 and Test loss: 76.83684508185891\n",
            "Iteration 181:: Training loss: 111.6146494429779 and Test loss: 76.83699999840988\n",
            "Iteration 182:: Training loss: 111.61461910493453 and Test loss: 76.83716500876507\n",
            "Iteration 183:: Training loss: 111.614599160326 and Test loss: 76.83730478409461\n",
            "Iteration 184:: Training loss: 111.61457263569109 and Test loss: 76.83745814917046\n",
            "Iteration 185:: Training loss: 111.61455057074609 and Test loss: 76.83762203597986\n",
            "Iteration 186:: Training loss: 111.61452797267002 and Test loss: 76.83777377349136\n",
            "Iteration 187:: Training loss: 111.61450590940494 and Test loss: 76.83794523219152\n",
            "Iteration 188:: Training loss: 111.61448066333057 and Test loss: 76.8380801848479\n",
            "Iteration 189:: Training loss: 111.61446044590942 and Test loss: 76.83824618844815\n",
            "Iteration 190:: Training loss: 111.61443735841877 and Test loss: 76.8383964960336\n",
            "Iteration 191:: Training loss: 111.61442144140065 and Test loss: 76.83855221510277\n",
            "Iteration 192:: Training loss: 111.61438308665713 and Test loss: 76.83869330633766\n",
            "Iteration 193:: Training loss: 111.61436161276542 and Test loss: 76.83885541347989\n",
            "Iteration 194:: Training loss: 111.61433883294512 and Test loss: 76.83900821346353\n",
            "Iteration 195:: Training loss: 111.61432129909561 and Test loss: 76.83917497158633\n",
            "Iteration 196:: Training loss: 111.61429457594197 and Test loss: 76.83931831697183\n",
            "Iteration 197:: Training loss: 111.61426944753666 and Test loss: 76.83948210713993\n",
            "Iteration 198:: Training loss: 111.61425503207386 and Test loss: 76.83963561268037\n",
            "Iteration 199:: Training loss: 111.61422728106456 and Test loss: 76.83979844881121\n"
          ],
          "name": "stdout"
        }
      ]
    },
    {
      "cell_type": "code",
      "metadata": {
        "id": "k7bo6MLQF_gl",
        "colab_type": "code",
        "colab": {
          "base_uri": "https://localhost:8080/",
          "height": 282
        },
        "outputId": "d490fec7-880f-421b-ae5f-4ae30cc27337"
      },
      "source": [
        "plt.style.use('ggplot')\n",
        "plt.grid()\n",
        "plt.plot(np.arange(0,max_iteration),history['train_loss'],'g-',label='train loss')\n",
        "plt.plot(np.arange(0,max_iteration),history['test_loss'],'b-',label='test loss')\n",
        "plt.legend()\n",
        "plt.title('LOSS')\n",
        "plt.show()\n"
      ],
      "execution_count": 17,
      "outputs": [
        {
          "output_type": "display_data",
          "data": {
            "image/png": "[encoded data removed]",
            "text/plain": [
              "<Figure size 432x288 with 1 Axes>"
            ]
          },
          "metadata": {
            "tags": []
          }
        }
      ]
    },
    {
      "cell_type": "code",
      "metadata": {
        "id": "o-v_VR9fGlkD",
        "colab_type": "code",
        "colab": {
          "base_uri": "https://localhost:8080/",
          "height": 206
        },
        "outputId": "8947e16c-b88f-4703-d9f1-d733b5274e8a"
      },
      "source": [
        "pd.DataFrame(history).tail()"
      ],
      "execution_count": 18,
      "outputs": [
        {
          "output_type": "execute_result",
          "data": {
            "text/html": [
              "<div>\n",
              "<style scoped>\n",
              "    .dataframe tbody tr th:only-of-type {\n",
              "        vertical-align: middle;\n",
              "    }\n",
              "\n",
              "    .dataframe tbody tr th {\n",
              "        vertical-align: top;\n",
              "    }\n",
              "\n",
              "    .dataframe thead th {\n",
              "        text-align: right;\n",
              "    }\n",
              "</style>\n",
              "<table border=\"1\" class=\"dataframe\">\n",
              "  <thead>\n",
              "    <tr style=\"text-align: right;\">\n",
              "      <th></th>\n",
              "      <th>train_loss</th>\n",
              "      <th>test_loss</th>\n",
              "    </tr>\n",
              "  </thead>\n",
              "  <tbody>\n",
              "    <tr>\n",
              "      <th>195</th>\n",
              "      <td>111.614321</td>\n",
              "      <td>76.839175</td>\n",
              "    </tr>\n",
              "    <tr>\n",
              "      <th>196</th>\n",
              "      <td>111.614295</td>\n",
              "      <td>76.839318</td>\n",
              "    </tr>\n",
              "    <tr>\n",
              "      <th>197</th>\n",
              "      <td>111.614269</td>\n",
              "      <td>76.839482</td>\n",
              "    </tr>\n",
              "    <tr>\n",
              "      <th>198</th>\n",
              "      <td>111.614255</td>\n",
              "      <td>76.839636</td>\n",
              "    </tr>\n",
              "    <tr>\n",
              "      <th>199</th>\n",
              "      <td>111.614227</td>\n",
              "      <td>76.839798</td>\n",
              "    </tr>\n",
              "  </tbody>\n",
              "</table>\n",
              "</div>"
            ],
            "text/plain": [
              "     train_loss  test_loss\n",
              "195  111.614321  76.839175\n",
              "196  111.614295  76.839318\n",
              "197  111.614269  76.839482\n",
              "198  111.614255  76.839636\n",
              "199  111.614227  76.839798"
            ]
          },
          "metadata": {
            "tags": []
          },
          "execution_count": 18
        }
      ]
    },
    {
      "cell_type": "code",
      "metadata": {
        "id": "HdDISUILWEqL",
        "colab_type": "code",
        "colab": {}
      },
      "source": [
        ""
      ],
      "execution_count": null,
      "outputs": []
    }
  ]
}
