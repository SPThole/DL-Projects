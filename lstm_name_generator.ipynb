{
  "nbformat": 4,
  "nbformat_minor": 0,
  "metadata": {
    "colab": {
      "name": "lstm_name_generator.ipynb",
      "provenance": [],
      "collapsed_sections": [],
      "mount_file_id": "1fSsEkhEVjF5dYrBrZeWSO9Vzhjj1rFUd",
      "authorship_tag": "ABX9TyMg9S/63OfKtce04ho52Qqq",
      "include_colab_link": true
    },
    "kernelspec": {
      "name": "python3",
      "display_name": "Python 3"
    },
    "widgets": {
      "application/vnd.jupyter.widget-state+json": {
        "56907a2558b5464eb94f50c4aaa68dd7": {
          "model_module": "@jupyter-widgets/controls",
          "model_name": "HBoxModel",
          "state": {
            "_view_name": "HBoxView",
            "_dom_classes": [],
            "_model_name": "HBoxModel",
            "_view_module": "@jupyter-widgets/controls",
            "_model_module_version": "1.5.0",
            "_view_count": null,
            "_view_module_version": "1.5.0",
            "box_style": "",
            "layout": "IPY_MODEL_658d15a5a9ca48f384b23ba7825cd3cc",
            "_model_module": "@jupyter-widgets/controls",
            "children": [
              "IPY_MODEL_f7d0d709da5b432fad733b31969f8605",
              "IPY_MODEL_35c9b888a7c64906bcb6dd5110f32191"
            ]
          }
        },
        "658d15a5a9ca48f384b23ba7825cd3cc": {
          "model_module": "@jupyter-widgets/base",
          "model_name": "LayoutModel",
          "state": {
            "_view_name": "LayoutView",
            "grid_template_rows": null,
            "right": null,
            "justify_content": null,
            "_view_module": "@jupyter-widgets/base",
            "overflow": null,
            "_model_module_version": "1.2.0",
            "_view_count": null,
            "flex_flow": null,
            "width": null,
            "min_width": null,
            "border": null,
            "align_items": null,
            "bottom": null,
            "_model_module": "@jupyter-widgets/base",
            "top": null,
            "grid_column": null,
            "overflow_y": null,
            "overflow_x": null,
            "grid_auto_flow": null,
            "grid_area": null,
            "grid_template_columns": null,
            "flex": null,
            "_model_name": "LayoutModel",
            "justify_items": null,
            "grid_row": null,
            "max_height": null,
            "align_content": null,
            "visibility": null,
            "align_self": null,
            "height": null,
            "min_height": null,
            "padding": null,
            "grid_auto_rows": null,
            "grid_gap": null,
            "max_width": null,
            "order": null,
            "_view_module_version": "1.2.0",
            "grid_template_areas": null,
            "object_position": null,
            "object_fit": null,
            "grid_auto_columns": null,
            "margin": null,
            "display": null,
            "left": null
          }
        },
        "f7d0d709da5b432fad733b31969f8605": {
          "model_module": "@jupyter-widgets/controls",
          "model_name": "FloatProgressModel",
          "state": {
            "_view_name": "ProgressView",
            "style": "IPY_MODEL_a5626ec0502b46ab880a01d09cfa0c05",
            "_dom_classes": [],
            "description": "100%",
            "_model_name": "FloatProgressModel",
            "bar_style": "success",
            "max": 13962,
            "_view_module": "@jupyter-widgets/controls",
            "_model_module_version": "1.5.0",
            "value": 13962,
            "_view_count": null,
            "_view_module_version": "1.5.0",
            "orientation": "horizontal",
            "min": 0,
            "description_tooltip": null,
            "_model_module": "@jupyter-widgets/controls",
            "layout": "IPY_MODEL_ed176f2fb075401fb7cc225eaba82633"
          }
        },
        "35c9b888a7c64906bcb6dd5110f32191": {
          "model_module": "@jupyter-widgets/controls",
          "model_name": "HTMLModel",
          "state": {
            "_view_name": "HTMLView",
            "style": "IPY_MODEL_9d28aacb0a8d4866aa234c371d5f61d7",
            "_dom_classes": [],
            "description": "",
            "_model_name": "HTMLModel",
            "placeholder": "​",
            "_view_module": "@jupyter-widgets/controls",
            "_model_module_version": "1.5.0",
            "value": " 13962/13962 [00:03&lt;00:00, 3616.52it/s]",
            "_view_count": null,
            "_view_module_version": "1.5.0",
            "description_tooltip": null,
            "_model_module": "@jupyter-widgets/controls",
            "layout": "IPY_MODEL_3c6e0aafd72548f1a36eb625ffc12cbc"
          }
        },
        "a5626ec0502b46ab880a01d09cfa0c05": {
          "model_module": "@jupyter-widgets/controls",
          "model_name": "ProgressStyleModel",
          "state": {
            "_view_name": "StyleView",
            "_model_name": "ProgressStyleModel",
            "description_width": "initial",
            "_view_module": "@jupyter-widgets/base",
            "_model_module_version": "1.5.0",
            "_view_count": null,
            "_view_module_version": "1.2.0",
            "bar_color": null,
            "_model_module": "@jupyter-widgets/controls"
          }
        },
        "ed176f2fb075401fb7cc225eaba82633": {
          "model_module": "@jupyter-widgets/base",
          "model_name": "LayoutModel",
          "state": {
            "_view_name": "LayoutView",
            "grid_template_rows": null,
            "right": null,
            "justify_content": null,
            "_view_module": "@jupyter-widgets/base",
            "overflow": null,
            "_model_module_version": "1.2.0",
            "_view_count": null,
            "flex_flow": null,
            "width": null,
            "min_width": null,
            "border": null,
            "align_items": null,
            "bottom": null,
            "_model_module": "@jupyter-widgets/base",
            "top": null,
            "grid_column": null,
            "overflow_y": null,
            "overflow_x": null,
            "grid_auto_flow": null,
            "grid_area": null,
            "grid_template_columns": null,
            "flex": null,
            "_model_name": "LayoutModel",
            "justify_items": null,
            "grid_row": null,
            "max_height": null,
            "align_content": null,
            "visibility": null,
            "align_self": null,
            "height": null,
            "min_height": null,
            "padding": null,
            "grid_auto_rows": null,
            "grid_gap": null,
            "max_width": null,
            "order": null,
            "_view_module_version": "1.2.0",
            "grid_template_areas": null,
            "object_position": null,
            "object_fit": null,
            "grid_auto_columns": null,
            "margin": null,
            "display": null,
            "left": null
          }
        },
        "9d28aacb0a8d4866aa234c371d5f61d7": {
          "model_module": "@jupyter-widgets/controls",
          "model_name": "DescriptionStyleModel",
          "state": {
            "_view_name": "StyleView",
            "_model_name": "DescriptionStyleModel",
            "description_width": "",
            "_view_module": "@jupyter-widgets/base",
            "_model_module_version": "1.5.0",
            "_view_count": null,
            "_view_module_version": "1.2.0",
            "_model_module": "@jupyter-widgets/controls"
          }
        },
        "3c6e0aafd72548f1a36eb625ffc12cbc": {
          "model_module": "@jupyter-widgets/base",
          "model_name": "LayoutModel",
          "state": {
            "_view_name": "LayoutView",
            "grid_template_rows": null,
            "right": null,
            "justify_content": null,
            "_view_module": "@jupyter-widgets/base",
            "overflow": null,
            "_model_module_version": "1.2.0",
            "_view_count": null,
            "flex_flow": null,
            "width": null,
            "min_width": null,
            "border": null,
            "align_items": null,
            "bottom": null,
            "_model_module": "@jupyter-widgets/base",
            "top": null,
            "grid_column": null,
            "overflow_y": null,
            "overflow_x": null,
            "grid_auto_flow": null,
            "grid_area": null,
            "grid_template_columns": null,
            "flex": null,
            "_model_name": "LayoutModel",
            "justify_items": null,
            "grid_row": null,
            "max_height": null,
            "align_content": null,
            "visibility": null,
            "align_self": null,
            "height": null,
            "min_height": null,
            "padding": null,
            "grid_auto_rows": null,
            "grid_gap": null,
            "max_width": null,
            "order": null,
            "_view_module_version": "1.2.0",
            "grid_template_areas": null,
            "object_position": null,
            "object_fit": null,
            "grid_auto_columns": null,
            "margin": null,
            "display": null,
            "left": null
          }
        },
        "fce0d3b2b4cc4778aa7dc8fb1cca22e0": {
          "model_module": "@jupyter-widgets/controls",
          "model_name": "HBoxModel",
          "state": {
            "_view_name": "HBoxView",
            "_dom_classes": [],
            "_model_name": "HBoxModel",
            "_view_module": "@jupyter-widgets/controls",
            "_model_module_version": "1.5.0",
            "_view_count": null,
            "_view_module_version": "1.5.0",
            "box_style": "",
            "layout": "IPY_MODEL_427f935aa90948329d9083a9e1b269d4",
            "_model_module": "@jupyter-widgets/controls",
            "children": [
              "IPY_MODEL_2e96aa6cd93b47c4878f12f41b2dfdd3",
              "IPY_MODEL_f98e3574592649c6a470e592db0d2c7f"
            ]
          }
        },
        "427f935aa90948329d9083a9e1b269d4": {
          "model_module": "@jupyter-widgets/base",
          "model_name": "LayoutModel",
          "state": {
            "_view_name": "LayoutView",
            "grid_template_rows": null,
            "right": null,
            "justify_content": null,
            "_view_module": "@jupyter-widgets/base",
            "overflow": null,
            "_model_module_version": "1.2.0",
            "_view_count": null,
            "flex_flow": null,
            "width": null,
            "min_width": null,
            "border": null,
            "align_items": null,
            "bottom": null,
            "_model_module": "@jupyter-widgets/base",
            "top": null,
            "grid_column": null,
            "overflow_y": null,
            "overflow_x": null,
            "grid_auto_flow": null,
            "grid_area": null,
            "grid_template_columns": null,
            "flex": null,
            "_model_name": "LayoutModel",
            "justify_items": null,
            "grid_row": null,
            "max_height": null,
            "align_content": null,
            "visibility": null,
            "align_self": null,
            "height": null,
            "min_height": null,
            "padding": null,
            "grid_auto_rows": null,
            "grid_gap": null,
            "max_width": null,
            "order": null,
            "_view_module_version": "1.2.0",
            "grid_template_areas": null,
            "object_position": null,
            "object_fit": null,
            "grid_auto_columns": null,
            "margin": null,
            "display": null,
            "left": null
          }
        },
        "2e96aa6cd93b47c4878f12f41b2dfdd3": {
          "model_module": "@jupyter-widgets/controls",
          "model_name": "FloatProgressModel",
          "state": {
            "_view_name": "ProgressView",
            "style": "IPY_MODEL_27c6a16ea6964721993021ddd35cbc03",
            "_dom_classes": [],
            "description": "100%",
            "_model_name": "FloatProgressModel",
            "bar_style": "success",
            "max": 20000,
            "_view_module": "@jupyter-widgets/controls",
            "_model_module_version": "1.5.0",
            "value": 20000,
            "_view_count": null,
            "_view_module_version": "1.5.0",
            "orientation": "horizontal",
            "min": 0,
            "description_tooltip": null,
            "_model_module": "@jupyter-widgets/controls",
            "layout": "IPY_MODEL_a5769ff0066e47588a594276d71d23b5"
          }
        },
        "f98e3574592649c6a470e592db0d2c7f": {
          "model_module": "@jupyter-widgets/controls",
          "model_name": "HTMLModel",
          "state": {
            "_view_name": "HTMLView",
            "style": "IPY_MODEL_9b67eefe1f1d46bfbd232820cdb24c77",
            "_dom_classes": [],
            "description": "",
            "_model_name": "HTMLModel",
            "placeholder": "​",
            "_view_module": "@jupyter-widgets/controls",
            "_model_module_version": "1.5.0",
            "value": " 20000/20000 [01:50&lt;00:00, 181.62it/s]",
            "_view_count": null,
            "_view_module_version": "1.5.0",
            "description_tooltip": null,
            "_model_module": "@jupyter-widgets/controls",
            "layout": "IPY_MODEL_74df797c2c7b46269262d4c2bbebdf38"
          }
        },
        "27c6a16ea6964721993021ddd35cbc03": {
          "model_module": "@jupyter-widgets/controls",
          "model_name": "ProgressStyleModel",
          "state": {
            "_view_name": "StyleView",
            "_model_name": "ProgressStyleModel",
            "description_width": "initial",
            "_view_module": "@jupyter-widgets/base",
            "_model_module_version": "1.5.0",
            "_view_count": null,
            "_view_module_version": "1.2.0",
            "bar_color": null,
            "_model_module": "@jupyter-widgets/controls"
          }
        },
        "a5769ff0066e47588a594276d71d23b5": {
          "model_module": "@jupyter-widgets/base",
          "model_name": "LayoutModel",
          "state": {
            "_view_name": "LayoutView",
            "grid_template_rows": null,
            "right": null,
            "justify_content": null,
            "_view_module": "@jupyter-widgets/base",
            "overflow": null,
            "_model_module_version": "1.2.0",
            "_view_count": null,
            "flex_flow": null,
            "width": null,
            "min_width": null,
            "border": null,
            "align_items": null,
            "bottom": null,
            "_model_module": "@jupyter-widgets/base",
            "top": null,
            "grid_column": null,
            "overflow_y": null,
            "overflow_x": null,
            "grid_auto_flow": null,
            "grid_area": null,
            "grid_template_columns": null,
            "flex": null,
            "_model_name": "LayoutModel",
            "justify_items": null,
            "grid_row": null,
            "max_height": null,
            "align_content": null,
            "visibility": null,
            "align_self": null,
            "height": null,
            "min_height": null,
            "padding": null,
            "grid_auto_rows": null,
            "grid_gap": null,
            "max_width": null,
            "order": null,
            "_view_module_version": "1.2.0",
            "grid_template_areas": null,
            "object_position": null,
            "object_fit": null,
            "grid_auto_columns": null,
            "margin": null,
            "display": null,
            "left": null
          }
        },
        "9b67eefe1f1d46bfbd232820cdb24c77": {
          "model_module": "@jupyter-widgets/controls",
          "model_name": "DescriptionStyleModel",
          "state": {
            "_view_name": "StyleView",
            "_model_name": "DescriptionStyleModel",
            "description_width": "",
            "_view_module": "@jupyter-widgets/base",
            "_model_module_version": "1.5.0",
            "_view_count": null,
            "_view_module_version": "1.2.0",
            "_model_module": "@jupyter-widgets/controls"
          }
        },
        "74df797c2c7b46269262d4c2bbebdf38": {
          "model_module": "@jupyter-widgets/base",
          "model_name": "LayoutModel",
          "state": {
            "_view_name": "LayoutView",
            "grid_template_rows": null,
            "right": null,
            "justify_content": null,
            "_view_module": "@jupyter-widgets/base",
            "overflow": null,
            "_model_module_version": "1.2.0",
            "_view_count": null,
            "flex_flow": null,
            "width": null,
            "min_width": null,
            "border": null,
            "align_items": null,
            "bottom": null,
            "_model_module": "@jupyter-widgets/base",
            "top": null,
            "grid_column": null,
            "overflow_y": null,
            "overflow_x": null,
            "grid_auto_flow": null,
            "grid_area": null,
            "grid_template_columns": null,
            "flex": null,
            "_model_name": "LayoutModel",
            "justify_items": null,
            "grid_row": null,
            "max_height": null,
            "align_content": null,
            "visibility": null,
            "align_self": null,
            "height": null,
            "min_height": null,
            "padding": null,
            "grid_auto_rows": null,
            "grid_gap": null,
            "max_width": null,
            "order": null,
            "_view_module_version": "1.2.0",
            "grid_template_areas": null,
            "object_position": null,
            "object_fit": null,
            "grid_auto_columns": null,
            "margin": null,
            "display": null,
            "left": null
          }
        }
      }
    }
  },
  "cells": [
    {
      "cell_type": "markdown",
      "metadata": {
        "id": "view-in-github",
        "colab_type": "text"
      },
      "source": [
        "<a href=\"https://colab.research.google.com/github/SPThole/Pytorch-Tutorials/blob/master/lstm_name_generator.ipynb\" target=\"_parent\"><img src=\"https://colab.research.google.com/assets/colab-badge.svg\" alt=\"Open In Colab\"/></a>"
      ]
    },
    {
      "cell_type": "markdown",
      "metadata": {
        "id": "2-uTc_2Nh0Ym"
      },
      "source": [
        "# Importing libraries"
      ]
    },
    {
      "cell_type": "code",
      "metadata": {
        "id": "aXazww5XYqPU"
      },
      "source": [
        "import pandas as pd\n",
        "import numpy as np\n",
        "import seaborn as sns\n",
        "import matplotlib.pyplot as plt\n",
        "\n",
        "import torch\n",
        "import torch.nn as nn\n",
        "import torch.optim as optim\n",
        "from torch.utils.data import dataset, DataLoader\n",
        "\n",
        "from torch.utils.data import random_split\n",
        "from tqdm import tqdm_notebook as tqdm\n",
        "\n",
        "from sklearn.metrics import r2_score, accuracy_score\n",
        "from sklearn.preprocessing import StandardScaler,OneHotEncoder\n",
        "from sklearn.model_selection import train_test_split"
      ],
      "execution_count": 415,
      "outputs": []
    },
    {
      "cell_type": "markdown",
      "metadata": {
        "id": "xdm48Bnih5wS"
      },
      "source": [
        "# Getting Data"
      ]
    },
    {
      "cell_type": "code",
      "metadata": {
        "id": "Y9S6ydi0ZbZL"
      },
      "source": [
        "df = pd.read_csv('/content/drive/MyDrive/baby_names.csv')\n",
        "df['len_name'] = df['NAME'].apply(lambda x: len(x))\n",
        "df['GENDER'] = df['GENDER'].map({'FEMALE':0,'MALE':1})\n",
        "gender = list(df['GENDER'].values)\n",
        "names = list(df['NAME'].apply(lambda x: x.lower()).values)\n",
        "max_len = max(df['len_name'])"
      ],
      "execution_count": 416,
      "outputs": []
    },
    {
      "cell_type": "markdown",
      "metadata": {
        "id": "OA6TMd-ph9M5"
      },
      "source": [
        "# Preprocessing Data"
      ]
    },
    {
      "cell_type": "code",
      "metadata": {
        "id": "xhtRBmfthZZX"
      },
      "source": [
        "\n",
        "d = {'<SOS>':0,\n",
        "       '<EOS>':1,\n",
        "       '<PAD>':2}"
      ],
      "execution_count": 429,
      "outputs": []
    },
    {
      "cell_type": "code",
      "metadata": {
        "id": "0B-4NV8xaENF"
      },
      "source": [
        "def name_to_idx(name,d):\n",
        "  name1 = name\n",
        "  for c in name1:\n",
        "    if c not in list(d.keys()):\n",
        "      d[c] = max(list(d.values()))+1\n",
        "  return d\n",
        "\n",
        "def form_dict(names,d,max_len):\n",
        "  for n in tqdm(names):\n",
        "    n1 = input_create(n,max_len)\n",
        "    d = name_to_idx(n1,d)\n",
        "  return d\n",
        "\n",
        "def input_create(name,max_len):\n",
        "  \n",
        "  name1 = list(name)\n",
        "  name1 = name1 + ['<EOS>']\n",
        "  return name1\n",
        "\n",
        "def one_hot(c,d):\n",
        "  one_h = [0 for i in range(len(d))]\n",
        "  one_h[d[c]] = 1\n",
        "  return one_h"
      ],
      "execution_count": 430,
      "outputs": []
    },
    {
      "cell_type": "code",
      "metadata": {
        "colab": {
          "base_uri": "https://localhost:8080/",
          "height": 142,
          "referenced_widgets": [
            "56907a2558b5464eb94f50c4aaa68dd7",
            "658d15a5a9ca48f384b23ba7825cd3cc",
            "f7d0d709da5b432fad733b31969f8605",
            "35c9b888a7c64906bcb6dd5110f32191",
            "a5626ec0502b46ab880a01d09cfa0c05",
            "ed176f2fb075401fb7cc225eaba82633",
            "9d28aacb0a8d4866aa234c371d5f61d7",
            "3c6e0aafd72548f1a36eb625ffc12cbc"
          ]
        },
        "id": "acCgh2j9dzHH",
        "outputId": "d3006290-af2f-4779-fa06-3e7c56829f85"
      },
      "source": [
        "d = form_dict(names,d,11)"
      ],
      "execution_count": 431,
      "outputs": [
        {
          "output_type": "stream",
          "text": [
            "/usr/local/lib/python3.7/dist-packages/ipykernel_launcher.py:9: TqdmDeprecationWarning: This function will be removed in tqdm==5.0.0\n",
            "Please use `tqdm.notebook.tqdm` instead of `tqdm.tqdm_notebook`\n",
            "  if __name__ == '__main__':\n"
          ],
          "name": "stderr"
        },
        {
          "output_type": "display_data",
          "data": {
            "application/vnd.jupyter.widget-view+json": {
              "model_id": "56907a2558b5464eb94f50c4aaa68dd7",
              "version_minor": 0,
              "version_major": 2
            },
            "text/plain": [
              "HBox(children=(FloatProgress(value=0.0, max=13962.0), HTML(value='')))"
            ]
          },
          "metadata": {
            "tags": []
          }
        },
        {
          "output_type": "stream",
          "text": [
            "\n"
          ],
          "name": "stdout"
        }
      ]
    },
    {
      "cell_type": "code",
      "metadata": {
        "colab": {
          "base_uri": "https://localhost:8080/"
        },
        "id": "tBC2txBNvWB6",
        "outputId": "4c04dd8b-27c5-4928-9342-f5496418ed2e"
      },
      "source": [
        "d"
      ],
      "execution_count": 432,
      "outputs": [
        {
          "output_type": "execute_result",
          "data": {
            "text/plain": [
              "{\"'\": 29,\n",
              " '<EOS>': 1,\n",
              " '<PAD>': 2,\n",
              " '<SOS>': 0,\n",
              " 'a': 6,\n",
              " 'b': 20,\n",
              " 'c': 12,\n",
              " 'd': 8,\n",
              " 'e': 4,\n",
              " 'f': 24,\n",
              " 'g': 3,\n",
              " 'h': 15,\n",
              " 'i': 9,\n",
              " 'j': 22,\n",
              " 'k': 26,\n",
              " 'l': 7,\n",
              " 'm': 19,\n",
              " 'n': 10,\n",
              " 'o': 25,\n",
              " 'p': 14,\n",
              " 'q': 23,\n",
              " 'r': 5,\n",
              " 's': 11,\n",
              " 't': 21,\n",
              " 'u': 13,\n",
              " 'v': 18,\n",
              " 'w': 27,\n",
              " 'x': 28,\n",
              " 'y': 16,\n",
              " 'z': 17}"
            ]
          },
          "metadata": {
            "tags": []
          },
          "execution_count": 432
        }
      ]
    },
    {
      "cell_type": "code",
      "metadata": {
        "id": "x8HbT1V35xHy"
      },
      "source": [
        "class mydata(DataLoader):\n",
        "  \n",
        "  def __init__(self,names):\n",
        "\n",
        "    self.names = names\n",
        "\n",
        "  \n",
        "  def __getitem__(self,idx):\n",
        "\n",
        "    name = self.names[idx]\n",
        "    X = [one_hot(c,d) for c in input_create(name,11)]\n",
        "    X = torch.tensor(X[:-1]).float()\n",
        "    Y = torch.tensor([d[s] for s in input_create(name,11)][1:]).float()\n",
        "    # Y = torch.tensor(X[1:]).float()\n",
        "    return X,Y\n",
        "\n",
        "  def __len__(self):\n",
        "    return len(self.names)\n"
      ],
      "execution_count": 433,
      "outputs": []
    },
    {
      "cell_type": "code",
      "metadata": {
        "id": "kRYDZxOP4G6Z"
      },
      "source": [
        "dataset = mydata(names)\n",
        "train_dataset, test_dataset = random_split(dataset,[10000,3962])\n",
        "# train_loader = DataLoader(train_dataset,128,drop_last=True)\n",
        "# test_loader = DataLoader(test_dataset,128,drop_last=True)"
      ],
      "execution_count": 434,
      "outputs": []
    },
    {
      "cell_type": "code",
      "metadata": {
        "colab": {
          "base_uri": "https://localhost:8080/"
        },
        "id": "m_MfTr1YjGcI",
        "outputId": "d55a5f35-75a0-4c0d-cad6-d07640507a1a"
      },
      "source": [
        "len(d)"
      ],
      "execution_count": 435,
      "outputs": [
        {
          "output_type": "execute_result",
          "data": {
            "text/plain": [
              "30"
            ]
          },
          "metadata": {
            "tags": []
          },
          "execution_count": 435
        }
      ]
    },
    {
      "cell_type": "markdown",
      "metadata": {
        "id": "Z1eAkEeoiCcF"
      },
      "source": [
        "# Model and training"
      ]
    },
    {
      "cell_type": "code",
      "metadata": {
        "id": "3P1B_Ub28-Ln"
      },
      "source": [
        "class my_net(nn.Module):\n",
        "\n",
        "  def __init__(self,input_size,hidden_size,output_size,batch_size,layers):\n",
        "    super(my_net, self).__init__()\n",
        "    self.input_size = input_size\n",
        "    # self.sequence_size = sequence_size\n",
        "    self.layers = layers\n",
        "    self.hidden_size = hidden_size\n",
        "    self.output_size = output_size\n",
        "    self.batch_size = batch_size\n",
        "\n",
        "    self.rnn = nn.LSTM(input_size = self.input_size,\n",
        "                       hidden_size = self.hidden_size,\n",
        "                       dropout =0.4,\n",
        "                       num_layers = self.layers,\n",
        "                       batch_first = True)\n",
        "    # input = torch.randn(5, 3, 10)\n",
        "    self.fc = nn.Linear(self.hidden_size, self.output_size)\n",
        "\n",
        "  def forward(self,x,h0,c0):\n",
        "\n",
        "    \n",
        "\n",
        "    out, (h0,c0) = self.rnn(x, (h0, c0))\n",
        "\n",
        "    # print(out.shape)\n",
        "\n",
        "    # out = out.reshape(self.batch_size, self.sequence_size, self.hidden_size)\n",
        "    \n",
        "    out = self.fc(out)\n",
        "    return out.squeeze(0),(h0,c0)"
      ],
      "execution_count": 436,
      "outputs": []
    },
    {
      "cell_type": "code",
      "metadata": {
        "id": "2pRVzC9j_L9U",
        "colab": {
          "base_uri": "https://localhost:8080/"
        },
        "outputId": "209398f0-f195-47f3-8484-f130ad766814"
      },
      "source": [
        "model = my_net(30,90,30,1,1)"
      ],
      "execution_count": 437,
      "outputs": [
        {
          "output_type": "stream",
          "text": [
            "/usr/local/lib/python3.7/dist-packages/torch/nn/modules/rnn.py:63: UserWarning: dropout option adds dropout after all but last recurrent layer, so non-zero dropout expects num_layers greater than 1, but got dropout=0.4 and num_layers=1\n",
            "  \"num_layers={}\".format(dropout, num_layers))\n"
          ],
          "name": "stderr"
        }
      ]
    },
    {
      "cell_type": "code",
      "metadata": {
        "id": "pYDJJSzAw7Ij"
      },
      "source": [
        "\n",
        "# h0 = torch.randn(model.layers, model.batch_size,model.hidden_size)\n",
        "# c0 = torch.randn(model.layers, model.batch_size,model.hidden_size)\n",
        "optimizer = optim.AdamW(model.parameters(), lr = 0.001)\n",
        "loss_func = nn.CrossEntropyLoss()"
      ],
      "execution_count": 438,
      "outputs": []
    },
    {
      "cell_type": "code",
      "metadata": {
        "id": "8vBArIzA1arC"
      },
      "source": [
        "def trainer_for_name(model,random_int,loss_func,optimizer):\n",
        "\n",
        "  l = []\n",
        "  optimizer.zero_grad()\n",
        "  loss = 0\n",
        "  h0 = torch.randn(model.layers, model.batch_size,model.hidden_size)\n",
        "  c0 = torch.randn(model.layers, model.batch_size,model.hidden_size)\n",
        "\n",
        "  x, y = train_dataset[random_int]\n",
        "  \n",
        "  for i in range(x.shape[0]):\n",
        "    out, (h0,c0) = model(x[i].unsqueeze(0).unsqueeze(0),h0,c0)\n",
        "    # print(out.shape,y[i].unsqueeze(0).shape)\n",
        "    loss = loss+loss_func(out,y[i].unsqueeze(0).long())\n",
        "  \n",
        "  \n",
        "  loss.backward()\n",
        "  optimizer.step()\n",
        "  return model,loss/x.shape[0]\n",
        "\n",
        "def training(model,loss_func,optimizer,n=10000):\n",
        "  LOSS = []\n",
        "  L = []\n",
        "  for i in tqdm(range(n)):\n",
        "    \n",
        "    random_int = np.random.randint(10000)\n",
        "    model,loss = trainer_for_name(model,random_int,loss_func,optimizer)\n",
        "    L.append(loss.item())\n",
        "    if i%100==0:\n",
        "        LOSS.append(sum(L)/100)\n",
        "        L = []\n",
        "  return model, LOSS\n",
        "\n",
        "\n",
        "\n"
      ],
      "execution_count": 439,
      "outputs": []
    },
    {
      "cell_type": "code",
      "metadata": {
        "colab": {
          "base_uri": "https://localhost:8080/",
          "height": 124,
          "referenced_widgets": [
            "fce0d3b2b4cc4778aa7dc8fb1cca22e0",
            "427f935aa90948329d9083a9e1b269d4",
            "2e96aa6cd93b47c4878f12f41b2dfdd3",
            "f98e3574592649c6a470e592db0d2c7f",
            "27c6a16ea6964721993021ddd35cbc03",
            "a5769ff0066e47588a594276d71d23b5",
            "9b67eefe1f1d46bfbd232820cdb24c77",
            "74df797c2c7b46269262d4c2bbebdf38"
          ]
        },
        "id": "-6u-9RWu9trF",
        "outputId": "c4fc827d-37ba-452d-fd81-c664d906bc83"
      },
      "source": [
        "model, LOSS = training(model,loss_func,optimizer,20000)"
      ],
      "execution_count": 440,
      "outputs": [
        {
          "output_type": "stream",
          "text": [
            "/usr/local/lib/python3.7/dist-packages/ipykernel_launcher.py:24: TqdmDeprecationWarning: This function will be removed in tqdm==5.0.0\n",
            "Please use `tqdm.notebook.tqdm` instead of `tqdm.tqdm_notebook`\n"
          ],
          "name": "stderr"
        },
        {
          "output_type": "display_data",
          "data": {
            "application/vnd.jupyter.widget-view+json": {
              "model_id": "fce0d3b2b4cc4778aa7dc8fb1cca22e0",
              "version_minor": 0,
              "version_major": 2
            },
            "text/plain": [
              "HBox(children=(FloatProgress(value=0.0, max=20000.0), HTML(value='')))"
            ]
          },
          "metadata": {
            "tags": []
          }
        },
        {
          "output_type": "stream",
          "text": [
            "\n"
          ],
          "name": "stdout"
        }
      ]
    },
    {
      "cell_type": "code",
      "metadata": {
        "colab": {
          "base_uri": "https://localhost:8080/",
          "height": 340
        },
        "id": "4w7JLsPZ-ZwR",
        "outputId": "f1ff21c4-c395-4f3e-df53-5e76d96b0277"
      },
      "source": [
        "sns.lineplot(np.arange(len(LOSS)),LOSS)"
      ],
      "execution_count": 441,
      "outputs": [
        {
          "output_type": "stream",
          "text": [
            "/usr/local/lib/python3.7/dist-packages/seaborn/_decorators.py:43: FutureWarning: Pass the following variables as keyword args: x, y. From version 0.12, the only valid positional argument will be `data`, and passing other arguments without an explicit keyword will result in an error or misinterpretation.\n",
            "  FutureWarning\n"
          ],
          "name": "stderr"
        },
        {
          "output_type": "execute_result",
          "data": {
            "text/plain": [
              "<matplotlib.axes._subplots.AxesSubplot at 0x7fd9aeff8b50>"
            ]
          },
          "metadata": {
            "tags": []
          },
          "execution_count": 441
        },
        {
          "output_type": "display_data",
          "data": {
            "image/png": "[encoded data removed]",
            "text/plain": [
              "<Figure size 432x288 with 1 Axes>"
            ]
          },
          "metadata": {
            "tags": [],
            "needs_background": "light"
          }
        }
      ]
    },
    {
      "cell_type": "markdown",
      "metadata": {
        "id": "lMH9CIa_iKkQ"
      },
      "source": [
        "# Generating Names"
      ]
    },
    {
      "cell_type": "code",
      "metadata": {
        "id": "4ll6VLrCj8mv"
      },
      "source": [
        "def sampler(inv_dict,model,start):\n",
        "  h0 = torch.randn(model.layers, model.batch_size,model.hidden_size)\n",
        "  c0 = torch.randn(model.layers, model.batch_size,model.hidden_size)\n",
        "  preds = start\n",
        "  name = start\n",
        "  for i in range(100):\n",
        "\n",
        "    if preds!='<EOS>':\n",
        "      pred, (h0,c0) = model(mydata(preds)[0][0].unsqueeze(0),h0,c0)\n",
        "      preds = inv_dict[torch.argmax(pred,axis=1)[0].item()]\n",
        "      name = name+ preds\n",
        "  print(name,name in names)\n",
        "\n",
        "\n",
        "\n",
        "\n"
      ],
      "execution_count": 442,
      "outputs": []
    },
    {
      "cell_type": "code",
      "metadata": {
        "id": "xjM9dBgLGTgP"
      },
      "source": [
        "inv_dict = dict(zip(d.values(), d.keys()))"
      ],
      "execution_count": 443,
      "outputs": []
    },
    {
      "cell_type": "code",
      "metadata": {
        "colab": {
          "base_uri": "https://localhost:8080/"
        },
        "id": "FM24i0f3GVap",
        "outputId": "49022dee-a3ff-4166-8cd1-d70b8b082b2f"
      },
      "source": [
        "for i in list('abcdefghhijklmnopqrstuvwxyzabcdefghhijklmnopqrstuvwxyz'):\n",
        "  sampler(inv_dict,model,i)"
      ],
      "execution_count": 446,
      "outputs": [
        {
          "output_type": "stream",
          "text": [
            "amila<EOS> False\n",
            "beris<EOS> False\n",
            "charles<EOS> False\n",
            "dariel<EOS> False\n",
            "ericha<EOS> False\n",
            "farielle<EOS> False\n",
            "gaylee<EOS> False\n",
            "hayler<EOS> False\n",
            "harian<EOS> False\n",
            "ijassa<EOS> False\n",
            "jayler<EOS> False\n",
            "katherine<EOS> False\n",
            "liliana<EOS> False\n",
            "mayler<EOS> False\n",
            "naylee<EOS> False\n",
            "orista<EOS> False\n",
            "peristin<EOS> False\n",
            "quliel<EOS> False\n",
            "ratherine<EOS> False\n",
            "sariel<EOS> False\n",
            "thariel<EOS> False\n",
            "ulista<EOS> False\n",
            "villey<EOS> False\n",
            "wariel<EOS> False\n",
            "xilianna<EOS> False\n",
            "yarles<EOS> False\n",
            "zariel<EOS> False\n",
            "alielle<EOS> False\n",
            "bristan<EOS> False\n",
            "carlett<EOS> False\n",
            "darles<EOS> False\n",
            "elijah<EOS> False\n",
            "fhandel<EOS> False\n",
            "garian<EOS> False\n",
            "hariel<EOS> False\n",
            "hariel<EOS> False\n",
            "ianna<EOS> False\n",
            "jayler<EOS> False\n",
            "karielle<EOS> False\n",
            "losha<EOS> False\n",
            "mayler<EOS> False\n",
            "nichalle<EOS> False\n",
            "oricha<EOS> False\n",
            "parles<EOS> False\n",
            "quliel<EOS> False\n",
            "rlistan<EOS> False\n",
            "saria<EOS> False\n",
            "telina<EOS> False\n",
            "uiliana<EOS> False\n",
            "vaylee<EOS> False\n",
            "waylee<EOS> False\n",
            "xarian<EOS> False\n",
            "yariel<EOS> False\n",
            "zilley<EOS> False\n"
          ],
          "name": "stdout"
        }
      ]
    }
  ]
}